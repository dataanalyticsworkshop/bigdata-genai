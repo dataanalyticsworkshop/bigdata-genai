{
 "cells": [
  {
   "cell_type": "markdown",
   "metadata": {},
   "source": [
    "# Using ML - ML fundamentals\n",
    "\n",
    "The `bigframes.ml` module implements Scikit-Learn's machine learning API in\n",
    "BigQuery DataFrames. It exposes BigQuery's ML capabilities in a simple, popular\n",
    "API that works seamlessly with the rest of the BigQuery DataFrames API.\n",
    "\n",
    "This notebook is adapted from the following doc: [ML Fundamental with bigframes.ml](https://github.com/googleapis/python-bigquery-dataframes/blob/main/notebooks/getting_started/ml_fundamentals.ipynb)"
   ]
  },
  {
   "cell_type": "code",
   "execution_count": 1,
   "metadata": {},
   "outputs": [
    {
     "data": {
      "text/html": [
       "Query job 395a6108-d42d-4ae6-ac03-19d08eabd95e is DONE. 28.9 kB processed. <a target=\"_blank\" href=\"https://console.cloud.google.com/bigquery?project=bqstackdemo&j=bq:US:395a6108-d42d-4ae6-ac03-19d08eabd95e&page=queryresults\">Open Job</a>"
      ],
      "text/plain": [
       "<IPython.core.display.HTML object>"
      ]
     },
     "metadata": {},
     "output_type": "display_data"
    },
    {
     "data": {
      "text/html": [
       "Query job 7f22bc23-134a-4472-b05f-6a229d1277d0 is DONE. 28.9 kB processed. <a target=\"_blank\" href=\"https://console.cloud.google.com/bigquery?project=bqstackdemo&j=bq:US:7f22bc23-134a-4472-b05f-6a229d1277d0&page=queryresults\">Open Job</a>"
      ],
      "text/plain": [
       "<IPython.core.display.HTML object>"
      ]
     },
     "metadata": {},
     "output_type": "display_data"
    },
    {
     "data": {
      "text/html": [
       "<div>\n",
       "<style scoped>\n",
       "    .dataframe tbody tr th:only-of-type {\n",
       "        vertical-align: middle;\n",
       "    }\n",
       "\n",
       "    .dataframe tbody tr th {\n",
       "        vertical-align: top;\n",
       "    }\n",
       "\n",
       "    .dataframe thead th {\n",
       "        text-align: right;\n",
       "    }\n",
       "</style>\n",
       "<table border=\"1\" class=\"dataframe\">\n",
       "  <thead>\n",
       "    <tr style=\"text-align: right;\">\n",
       "      <th></th>\n",
       "      <th>species</th>\n",
       "      <th>island</th>\n",
       "      <th>culmen_length_mm</th>\n",
       "      <th>culmen_depth_mm</th>\n",
       "      <th>flipper_length_mm</th>\n",
       "      <th>body_mass_g</th>\n",
       "      <th>sex</th>\n",
       "    </tr>\n",
       "    <tr>\n",
       "      <th>penguin_id</th>\n",
       "      <th></th>\n",
       "      <th></th>\n",
       "      <th></th>\n",
       "      <th></th>\n",
       "      <th></th>\n",
       "      <th></th>\n",
       "      <th></th>\n",
       "    </tr>\n",
       "  </thead>\n",
       "  <tbody>\n",
       "    <tr>\n",
       "      <th>0</th>\n",
       "      <td>Gentoo penguin (Pygoscelis papua)</td>\n",
       "      <td>Biscoe</td>\n",
       "      <td>50.5</td>\n",
       "      <td>15.9</td>\n",
       "      <td>225.0</td>\n",
       "      <td>5400.0</td>\n",
       "      <td>MALE</td>\n",
       "    </tr>\n",
       "    <tr>\n",
       "      <th>1</th>\n",
       "      <td>Gentoo penguin (Pygoscelis papua)</td>\n",
       "      <td>Biscoe</td>\n",
       "      <td>45.1</td>\n",
       "      <td>14.5</td>\n",
       "      <td>215.0</td>\n",
       "      <td>5000.0</td>\n",
       "      <td>FEMALE</td>\n",
       "    </tr>\n",
       "    <tr>\n",
       "      <th>2</th>\n",
       "      <td>Adelie Penguin (Pygoscelis adeliae)</td>\n",
       "      <td>Torgersen</td>\n",
       "      <td>41.4</td>\n",
       "      <td>18.5</td>\n",
       "      <td>202.0</td>\n",
       "      <td>3875.0</td>\n",
       "      <td>MALE</td>\n",
       "    </tr>\n",
       "    <tr>\n",
       "      <th>3</th>\n",
       "      <td>Adelie Penguin (Pygoscelis adeliae)</td>\n",
       "      <td>Torgersen</td>\n",
       "      <td>38.6</td>\n",
       "      <td>17.0</td>\n",
       "      <td>188.0</td>\n",
       "      <td>2900.0</td>\n",
       "      <td>FEMALE</td>\n",
       "    </tr>\n",
       "    <tr>\n",
       "      <th>4</th>\n",
       "      <td>Gentoo penguin (Pygoscelis papua)</td>\n",
       "      <td>Biscoe</td>\n",
       "      <td>46.5</td>\n",
       "      <td>14.8</td>\n",
       "      <td>217.0</td>\n",
       "      <td>5200.0</td>\n",
       "      <td>FEMALE</td>\n",
       "    </tr>\n",
       "    <tr>\n",
       "      <th>5</th>\n",
       "      <td>Adelie Penguin (Pygoscelis adeliae)</td>\n",
       "      <td>Biscoe</td>\n",
       "      <td>35.0</td>\n",
       "      <td>17.9</td>\n",
       "      <td>192.0</td>\n",
       "      <td>3725.0</td>\n",
       "      <td>FEMALE</td>\n",
       "    </tr>\n",
       "    <tr>\n",
       "      <th>7</th>\n",
       "      <td>Gentoo penguin (Pygoscelis papua)</td>\n",
       "      <td>Biscoe</td>\n",
       "      <td>42.0</td>\n",
       "      <td>13.5</td>\n",
       "      <td>210.0</td>\n",
       "      <td>4150.0</td>\n",
       "      <td>FEMALE</td>\n",
       "    </tr>\n",
       "    <tr>\n",
       "      <th>8</th>\n",
       "      <td>Gentoo penguin (Pygoscelis papua)</td>\n",
       "      <td>Biscoe</td>\n",
       "      <td>48.5</td>\n",
       "      <td>14.1</td>\n",
       "      <td>220.0</td>\n",
       "      <td>5300.0</td>\n",
       "      <td>MALE</td>\n",
       "    </tr>\n",
       "    <tr>\n",
       "      <th>9</th>\n",
       "      <td>Adelie Penguin (Pygoscelis adeliae)</td>\n",
       "      <td>Torgersen</td>\n",
       "      <td>45.8</td>\n",
       "      <td>18.9</td>\n",
       "      <td>197.0</td>\n",
       "      <td>4150.0</td>\n",
       "      <td>MALE</td>\n",
       "    </tr>\n",
       "    <tr>\n",
       "      <th>10</th>\n",
       "      <td>Chinstrap penguin (Pygoscelis antarctica)</td>\n",
       "      <td>Dream</td>\n",
       "      <td>49.0</td>\n",
       "      <td>19.6</td>\n",
       "      <td>212.0</td>\n",
       "      <td>4300.0</td>\n",
       "      <td>MALE</td>\n",
       "    </tr>\n",
       "    <tr>\n",
       "      <th>11</th>\n",
       "      <td>Adelie Penguin (Pygoscelis adeliae)</td>\n",
       "      <td>Torgersen</td>\n",
       "      <td>35.9</td>\n",
       "      <td>16.6</td>\n",
       "      <td>190.0</td>\n",
       "      <td>3050.0</td>\n",
       "      <td>FEMALE</td>\n",
       "    </tr>\n",
       "    <tr>\n",
       "      <th>12</th>\n",
       "      <td>Gentoo penguin (Pygoscelis papua)</td>\n",
       "      <td>Biscoe</td>\n",
       "      <td>51.1</td>\n",
       "      <td>16.3</td>\n",
       "      <td>220.0</td>\n",
       "      <td>6000.0</td>\n",
       "      <td>MALE</td>\n",
       "    </tr>\n",
       "    <tr>\n",
       "      <th>13</th>\n",
       "      <td>Gentoo penguin (Pygoscelis papua)</td>\n",
       "      <td>Biscoe</td>\n",
       "      <td>42.6</td>\n",
       "      <td>13.7</td>\n",
       "      <td>213.0</td>\n",
       "      <td>4950.0</td>\n",
       "      <td>FEMALE</td>\n",
       "    </tr>\n",
       "    <tr>\n",
       "      <th>14</th>\n",
       "      <td>Chinstrap penguin (Pygoscelis antarctica)</td>\n",
       "      <td>Dream</td>\n",
       "      <td>46.9</td>\n",
       "      <td>16.6</td>\n",
       "      <td>192.0</td>\n",
       "      <td>2700.0</td>\n",
       "      <td>FEMALE</td>\n",
       "    </tr>\n",
       "    <tr>\n",
       "      <th>15</th>\n",
       "      <td>Adelie Penguin (Pygoscelis adeliae)</td>\n",
       "      <td>Dream</td>\n",
       "      <td>41.1</td>\n",
       "      <td>17.5</td>\n",
       "      <td>190.0</td>\n",
       "      <td>3900.0</td>\n",
       "      <td>MALE</td>\n",
       "    </tr>\n",
       "    <tr>\n",
       "      <th>16</th>\n",
       "      <td>Gentoo penguin (Pygoscelis papua)</td>\n",
       "      <td>Biscoe</td>\n",
       "      <td>49.2</td>\n",
       "      <td>15.2</td>\n",
       "      <td>221.0</td>\n",
       "      <td>6300.0</td>\n",
       "      <td>MALE</td>\n",
       "    </tr>\n",
       "    <tr>\n",
       "      <th>17</th>\n",
       "      <td>Adelie Penguin (Pygoscelis adeliae)</td>\n",
       "      <td>Biscoe</td>\n",
       "      <td>38.1</td>\n",
       "      <td>16.5</td>\n",
       "      <td>198.0</td>\n",
       "      <td>3825.0</td>\n",
       "      <td>FEMALE</td>\n",
       "    </tr>\n",
       "    <tr>\n",
       "      <th>18</th>\n",
       "      <td>Gentoo penguin (Pygoscelis papua)</td>\n",
       "      <td>Biscoe</td>\n",
       "      <td>51.3</td>\n",
       "      <td>14.2</td>\n",
       "      <td>218.0</td>\n",
       "      <td>5300.0</td>\n",
       "      <td>MALE</td>\n",
       "    </tr>\n",
       "    <tr>\n",
       "      <th>19</th>\n",
       "      <td>Gentoo penguin (Pygoscelis papua)</td>\n",
       "      <td>Biscoe</td>\n",
       "      <td>43.6</td>\n",
       "      <td>13.9</td>\n",
       "      <td>217.0</td>\n",
       "      <td>4900.0</td>\n",
       "      <td>FEMALE</td>\n",
       "    </tr>\n",
       "    <tr>\n",
       "      <th>20</th>\n",
       "      <td>Gentoo penguin (Pygoscelis papua)</td>\n",
       "      <td>Biscoe</td>\n",
       "      <td>42.8</td>\n",
       "      <td>14.2</td>\n",
       "      <td>209.0</td>\n",
       "      <td>4700.0</td>\n",
       "      <td>FEMALE</td>\n",
       "    </tr>\n",
       "    <tr>\n",
       "      <th>21</th>\n",
       "      <td>Chinstrap penguin (Pygoscelis antarctica)</td>\n",
       "      <td>Dream</td>\n",
       "      <td>50.2</td>\n",
       "      <td>18.7</td>\n",
       "      <td>198.0</td>\n",
       "      <td>3775.0</td>\n",
       "      <td>FEMALE</td>\n",
       "    </tr>\n",
       "    <tr>\n",
       "      <th>22</th>\n",
       "      <td>Adelie Penguin (Pygoscelis adeliae)</td>\n",
       "      <td>Dream</td>\n",
       "      <td>37.3</td>\n",
       "      <td>17.8</td>\n",
       "      <td>191.0</td>\n",
       "      <td>3350.0</td>\n",
       "      <td>FEMALE</td>\n",
       "    </tr>\n",
       "    <tr>\n",
       "      <th>24</th>\n",
       "      <td>Adelie Penguin (Pygoscelis adeliae)</td>\n",
       "      <td>Biscoe</td>\n",
       "      <td>39.6</td>\n",
       "      <td>20.7</td>\n",
       "      <td>191.0</td>\n",
       "      <td>3900.0</td>\n",
       "      <td>FEMALE</td>\n",
       "    </tr>\n",
       "    <tr>\n",
       "      <th>25</th>\n",
       "      <td>Adelie Penguin (Pygoscelis adeliae)</td>\n",
       "      <td>Torgersen</td>\n",
       "      <td>39.3</td>\n",
       "      <td>20.6</td>\n",
       "      <td>190.0</td>\n",
       "      <td>3650.0</td>\n",
       "      <td>MALE</td>\n",
       "    </tr>\n",
       "    <tr>\n",
       "      <th>26</th>\n",
       "      <td>Adelie Penguin (Pygoscelis adeliae)</td>\n",
       "      <td>Biscoe</td>\n",
       "      <td>40.5</td>\n",
       "      <td>17.9</td>\n",
       "      <td>187.0</td>\n",
       "      <td>3200.0</td>\n",
       "      <td>FEMALE</td>\n",
       "    </tr>\n",
       "  </tbody>\n",
       "</table>\n",
       "<p>25 rows × 7 columns</p>\n",
       "</div>[334 rows x 7 columns in total]"
      ],
      "text/plain": [
       "                                              species     island  \\\n",
       "penguin_id                                                         \n",
       "0                   Gentoo penguin (Pygoscelis papua)     Biscoe   \n",
       "1                   Gentoo penguin (Pygoscelis papua)     Biscoe   \n",
       "2                 Adelie Penguin (Pygoscelis adeliae)  Torgersen   \n",
       "3                 Adelie Penguin (Pygoscelis adeliae)  Torgersen   \n",
       "4                   Gentoo penguin (Pygoscelis papua)     Biscoe   \n",
       "5                 Adelie Penguin (Pygoscelis adeliae)     Biscoe   \n",
       "7                   Gentoo penguin (Pygoscelis papua)     Biscoe   \n",
       "8                   Gentoo penguin (Pygoscelis papua)     Biscoe   \n",
       "9                 Adelie Penguin (Pygoscelis adeliae)  Torgersen   \n",
       "10          Chinstrap penguin (Pygoscelis antarctica)      Dream   \n",
       "11                Adelie Penguin (Pygoscelis adeliae)  Torgersen   \n",
       "12                  Gentoo penguin (Pygoscelis papua)     Biscoe   \n",
       "13                  Gentoo penguin (Pygoscelis papua)     Biscoe   \n",
       "14          Chinstrap penguin (Pygoscelis antarctica)      Dream   \n",
       "15                Adelie Penguin (Pygoscelis adeliae)      Dream   \n",
       "16                  Gentoo penguin (Pygoscelis papua)     Biscoe   \n",
       "17                Adelie Penguin (Pygoscelis adeliae)     Biscoe   \n",
       "18                  Gentoo penguin (Pygoscelis papua)     Biscoe   \n",
       "19                  Gentoo penguin (Pygoscelis papua)     Biscoe   \n",
       "20                  Gentoo penguin (Pygoscelis papua)     Biscoe   \n",
       "21          Chinstrap penguin (Pygoscelis antarctica)      Dream   \n",
       "22                Adelie Penguin (Pygoscelis adeliae)      Dream   \n",
       "24                Adelie Penguin (Pygoscelis adeliae)     Biscoe   \n",
       "25                Adelie Penguin (Pygoscelis adeliae)  Torgersen   \n",
       "26                Adelie Penguin (Pygoscelis adeliae)     Biscoe   \n",
       "\n",
       "            culmen_length_mm  culmen_depth_mm  flipper_length_mm  body_mass_g  \\\n",
       "penguin_id                                                                      \n",
       "0                       50.5             15.9              225.0       5400.0   \n",
       "1                       45.1             14.5              215.0       5000.0   \n",
       "2                       41.4             18.5              202.0       3875.0   \n",
       "3                       38.6             17.0              188.0       2900.0   \n",
       "4                       46.5             14.8              217.0       5200.0   \n",
       "5                       35.0             17.9              192.0       3725.0   \n",
       "7                       42.0             13.5              210.0       4150.0   \n",
       "8                       48.5             14.1              220.0       5300.0   \n",
       "9                       45.8             18.9              197.0       4150.0   \n",
       "10                      49.0             19.6              212.0       4300.0   \n",
       "11                      35.9             16.6              190.0       3050.0   \n",
       "12                      51.1             16.3              220.0       6000.0   \n",
       "13                      42.6             13.7              213.0       4950.0   \n",
       "14                      46.9             16.6              192.0       2700.0   \n",
       "15                      41.1             17.5              190.0       3900.0   \n",
       "16                      49.2             15.2              221.0       6300.0   \n",
       "17                      38.1             16.5              198.0       3825.0   \n",
       "18                      51.3             14.2              218.0       5300.0   \n",
       "19                      43.6             13.9              217.0       4900.0   \n",
       "20                      42.8             14.2              209.0       4700.0   \n",
       "21                      50.2             18.7              198.0       3775.0   \n",
       "22                      37.3             17.8              191.0       3350.0   \n",
       "24                      39.6             20.7              191.0       3900.0   \n",
       "25                      39.3             20.6              190.0       3650.0   \n",
       "26                      40.5             17.9              187.0       3200.0   \n",
       "\n",
       "               sex  \n",
       "penguin_id          \n",
       "0             MALE  \n",
       "1           FEMALE  \n",
       "2             MALE  \n",
       "3           FEMALE  \n",
       "4           FEMALE  \n",
       "5           FEMALE  \n",
       "7           FEMALE  \n",
       "8             MALE  \n",
       "9             MALE  \n",
       "10            MALE  \n",
       "11          FEMALE  \n",
       "12            MALE  \n",
       "13          FEMALE  \n",
       "14          FEMALE  \n",
       "15            MALE  \n",
       "16            MALE  \n",
       "17          FEMALE  \n",
       "18            MALE  \n",
       "19          FEMALE  \n",
       "20          FEMALE  \n",
       "21          FEMALE  \n",
       "22          FEMALE  \n",
       "24          FEMALE  \n",
       "25            MALE  \n",
       "26          FEMALE  \n",
       "...\n",
       "\n",
       "[334 rows x 7 columns]"
      ]
     },
     "execution_count": 1,
     "metadata": {},
     "output_type": "execute_result"
    }
   ],
   "source": [
    "# Lets load some test data to use in this tutorial\n",
    "import bigframes.pandas\n",
    "\n",
    "df = bigframes.pandas.read_gbq(\"bigquery-public-data.ml_datasets.penguins\")\n",
    "df = df.dropna()\n",
    "\n",
    "# Temporary workaround: lets name our index so it isn't lost BigQuery DataFrame\n",
    "# currently drops unnamed indexes when round-tripping through pandas, which\n",
    "# some ML APIs do to route around missing functionality\n",
    "df.index.name = \"penguin_id\"\n",
    "\n",
    "df"
   ]
  },
  {
   "cell_type": "markdown",
   "metadata": {},
   "source": [
    "## Data split\n",
    "\n",
    "Part of preparing data for a machine learning task is splitting it into subsets for training and testing, to ensure that the solution is not overfitting. Most commonly this is done with `bigframes.ml.model_selection.train_test_split` like so:"
   ]
  },
  {
   "cell_type": "code",
   "execution_count": 2,
   "metadata": {},
   "outputs": [
    {
     "data": {
      "text/html": [
       "Query job b7c37bc0-33b9-4b41-8e5a-c24664232101 is DONE. 28.9 kB processed. <a target=\"_blank\" href=\"https://console.cloud.google.com/bigquery?project=bqstackdemo&j=bq:US:b7c37bc0-33b9-4b41-8e5a-c24664232101&page=queryresults\">Open Job</a>"
      ],
      "text/plain": [
       "<IPython.core.display.HTML object>"
      ]
     },
     "metadata": {},
     "output_type": "display_data"
    },
    {
     "data": {
      "text/html": [
       "Query job bb3038a9-75b4-4554-a569-ffb0a5339d4e is DONE. 28.9 kB processed. <a target=\"_blank\" href=\"https://console.cloud.google.com/bigquery?project=bqstackdemo&j=bq:US:bb3038a9-75b4-4554-a569-ffb0a5339d4e&page=queryresults\">Open Job</a>"
      ],
      "text/plain": [
       "<IPython.core.display.HTML object>"
      ]
     },
     "metadata": {},
     "output_type": "display_data"
    },
    {
     "data": {
      "text/html": [
       "Query job 6064ded3-d337-43c0-ba2f-711a7557cda7 is DONE. 28.9 kB processed. <a target=\"_blank\" href=\"https://console.cloud.google.com/bigquery?project=bqstackdemo&j=bq:US:6064ded3-d337-43c0-ba2f-711a7557cda7&page=queryresults\">Open Job</a>"
      ],
      "text/plain": [
       "<IPython.core.display.HTML object>"
      ]
     },
     "metadata": {},
     "output_type": "display_data"
    },
    {
     "data": {
      "text/html": [
       "Query job cfc0354e-f2e4-4b58-b2c5-8c3956a90d6f is DONE. 28.9 kB processed. <a target=\"_blank\" href=\"https://console.cloud.google.com/bigquery?project=bqstackdemo&j=bq:US:cfc0354e-f2e4-4b58-b2c5-8c3956a90d6f&page=queryresults\">Open Job</a>"
      ],
      "text/plain": [
       "<IPython.core.display.HTML object>"
      ]
     },
     "metadata": {},
     "output_type": "display_data"
    },
    {
     "data": {
      "text/html": [
       "Query job 49996f06-38e4-450a-8078-0020608f8ace is DONE. 28.9 kB processed. <a target=\"_blank\" href=\"https://console.cloud.google.com/bigquery?project=bqstackdemo&j=bq:US:49996f06-38e4-450a-8078-0020608f8ace&page=queryresults\">Open Job</a>"
      ],
      "text/plain": [
       "<IPython.core.display.HTML object>"
      ]
     },
     "metadata": {},
     "output_type": "display_data"
    },
    {
     "name": "stdout",
     "output_type": "stream",
     "text": [
      "X_train shape: (267, 6)\n",
      "X_test shape: (67, 6)\n",
      "y_train shape: (267, 1)\n",
      "y_test shape: (67, 1)\n"
     ]
    }
   ],
   "source": [
    "# In this example, we're doing supervised learning, where we will learn to predict\n",
    "# output variable `y` from input features `X`\n",
    "X = df[['island', 'culmen_length_mm', 'culmen_depth_mm', 'flipper_length_mm', 'sex', 'species']]\n",
    "y = df[['body_mass_g']] \n",
    "\n",
    "from bigframes.ml.model_selection import train_test_split\n",
    "\n",
    "# This will split X and y into test and training sets, with 20% of the rows in the test set,\n",
    "# and the rest in the training set\n",
    "X_train, X_test, y_train, y_test = train_test_split(\n",
    "  X, y, test_size=0.2)\n",
    "\n",
    "# Show the shape of the data after the split\n",
    "print(f\"\"\"X_train shape: {X_train.shape}\n",
    "X_test shape: {X_test.shape}\n",
    "y_train shape: {y_train.shape}\n",
    "y_test shape: {y_test.shape}\"\"\")"
   ]
  },
  {
   "cell_type": "code",
   "execution_count": 3,
   "metadata": {},
   "outputs": [
    {
     "data": {
      "text/html": [
       "Query job ddd11926-00a9-4634-a0e8-13efd668b388 is DONE. 28.9 kB processed. <a target=\"_blank\" href=\"https://console.cloud.google.com/bigquery?project=bqstackdemo&j=bq:US:ddd11926-00a9-4634-a0e8-13efd668b388&page=queryresults\">Open Job</a>"
      ],
      "text/plain": [
       "<IPython.core.display.HTML object>"
      ]
     },
     "metadata": {},
     "output_type": "display_data"
    },
    {
     "data": {
      "text/html": [
       "Query job bdb4babb-1932-43fa-9d11-0f253f137021 is DONE. 28.9 kB processed. <a target=\"_blank\" href=\"https://console.cloud.google.com/bigquery?project=bqstackdemo&j=bq:US:bdb4babb-1932-43fa-9d11-0f253f137021&page=queryresults\">Open Job</a>"
      ],
      "text/plain": [
       "<IPython.core.display.HTML object>"
      ]
     },
     "metadata": {},
     "output_type": "display_data"
    },
    {
     "data": {
      "text/html": [
       "<div>\n",
       "<style scoped>\n",
       "    .dataframe tbody tr th:only-of-type {\n",
       "        vertical-align: middle;\n",
       "    }\n",
       "\n",
       "    .dataframe tbody tr th {\n",
       "        vertical-align: top;\n",
       "    }\n",
       "\n",
       "    .dataframe thead th {\n",
       "        text-align: right;\n",
       "    }\n",
       "</style>\n",
       "<table border=\"1\" class=\"dataframe\">\n",
       "  <thead>\n",
       "    <tr style=\"text-align: right;\">\n",
       "      <th></th>\n",
       "      <th>island</th>\n",
       "      <th>culmen_length_mm</th>\n",
       "      <th>culmen_depth_mm</th>\n",
       "      <th>flipper_length_mm</th>\n",
       "      <th>sex</th>\n",
       "      <th>species</th>\n",
       "    </tr>\n",
       "    <tr>\n",
       "      <th>penguin_id</th>\n",
       "      <th></th>\n",
       "      <th></th>\n",
       "      <th></th>\n",
       "      <th></th>\n",
       "      <th></th>\n",
       "      <th></th>\n",
       "    </tr>\n",
       "  </thead>\n",
       "  <tbody>\n",
       "    <tr>\n",
       "      <th>312</th>\n",
       "      <td>Biscoe</td>\n",
       "      <td>48.4</td>\n",
       "      <td>16.3</td>\n",
       "      <td>220.0</td>\n",
       "      <td>MALE</td>\n",
       "      <td>Gentoo penguin (Pygoscelis papua)</td>\n",
       "    </tr>\n",
       "    <tr>\n",
       "      <th>142</th>\n",
       "      <td>Biscoe</td>\n",
       "      <td>46.1</td>\n",
       "      <td>13.2</td>\n",
       "      <td>211.0</td>\n",
       "      <td>FEMALE</td>\n",
       "      <td>Gentoo penguin (Pygoscelis papua)</td>\n",
       "    </tr>\n",
       "    <tr>\n",
       "      <th>317</th>\n",
       "      <td>Biscoe</td>\n",
       "      <td>40.1</td>\n",
       "      <td>18.9</td>\n",
       "      <td>188.0</td>\n",
       "      <td>MALE</td>\n",
       "      <td>Adelie Penguin (Pygoscelis adeliae)</td>\n",
       "    </tr>\n",
       "    <tr>\n",
       "      <th>343</th>\n",
       "      <td>Dream</td>\n",
       "      <td>45.2</td>\n",
       "      <td>16.6</td>\n",
       "      <td>191.0</td>\n",
       "      <td>FEMALE</td>\n",
       "      <td>Chinstrap penguin (Pygoscelis antarctica)</td>\n",
       "    </tr>\n",
       "    <tr>\n",
       "      <th>326</th>\n",
       "      <td>Biscoe</td>\n",
       "      <td>44.4</td>\n",
       "      <td>17.3</td>\n",
       "      <td>219.0</td>\n",
       "      <td>MALE</td>\n",
       "      <td>Gentoo penguin (Pygoscelis papua)</td>\n",
       "    </tr>\n",
       "  </tbody>\n",
       "</table>\n",
       "<p>5 rows × 6 columns</p>\n",
       "</div>[5 rows x 6 columns in total]"
      ],
      "text/plain": [
       "            island  culmen_length_mm  culmen_depth_mm  flipper_length_mm  \\\n",
       "penguin_id                                                                 \n",
       "312         Biscoe              48.4             16.3              220.0   \n",
       "142         Biscoe              46.1             13.2              211.0   \n",
       "317         Biscoe              40.1             18.9              188.0   \n",
       "343          Dream              45.2             16.6              191.0   \n",
       "326         Biscoe              44.4             17.3              219.0   \n",
       "\n",
       "               sex                                    species  \n",
       "penguin_id                                                     \n",
       "312           MALE          Gentoo penguin (Pygoscelis papua)  \n",
       "142         FEMALE          Gentoo penguin (Pygoscelis papua)  \n",
       "317           MALE        Adelie Penguin (Pygoscelis adeliae)  \n",
       "343         FEMALE  Chinstrap penguin (Pygoscelis antarctica)  \n",
       "326           MALE          Gentoo penguin (Pygoscelis papua)  \n",
       "\n",
       "[5 rows x 6 columns]"
      ]
     },
     "execution_count": 3,
     "metadata": {},
     "output_type": "execute_result"
    }
   ],
   "source": [
    "# If we look at the data, we can see that random rows were selected for\n",
    "# each side of the split\n",
    "X_test.head(5)"
   ]
  },
  {
   "cell_type": "code",
   "execution_count": 4,
   "metadata": {},
   "outputs": [
    {
     "data": {
      "text/html": [
       "Query job 3ae8355b-dedc-41f8-9397-d7ff69ff8421 is DONE. 28.9 kB processed. <a target=\"_blank\" href=\"https://console.cloud.google.com/bigquery?project=bqstackdemo&j=bq:US:3ae8355b-dedc-41f8-9397-d7ff69ff8421&page=queryresults\">Open Job</a>"
      ],
      "text/plain": [
       "<IPython.core.display.HTML object>"
      ]
     },
     "metadata": {},
     "output_type": "display_data"
    },
    {
     "data": {
      "text/html": [
       "Query job 0b7fac2a-91bf-46f1-a52c-93b4e87f6288 is DONE. 28.9 kB processed. <a target=\"_blank\" href=\"https://console.cloud.google.com/bigquery?project=bqstackdemo&j=bq:US:0b7fac2a-91bf-46f1-a52c-93b4e87f6288&page=queryresults\">Open Job</a>"
      ],
      "text/plain": [
       "<IPython.core.display.HTML object>"
      ]
     },
     "metadata": {},
     "output_type": "display_data"
    },
    {
     "data": {
      "text/html": [
       "<div>\n",
       "<style scoped>\n",
       "    .dataframe tbody tr th:only-of-type {\n",
       "        vertical-align: middle;\n",
       "    }\n",
       "\n",
       "    .dataframe tbody tr th {\n",
       "        vertical-align: top;\n",
       "    }\n",
       "\n",
       "    .dataframe thead th {\n",
       "        text-align: right;\n",
       "    }\n",
       "</style>\n",
       "<table border=\"1\" class=\"dataframe\">\n",
       "  <thead>\n",
       "    <tr style=\"text-align: right;\">\n",
       "      <th></th>\n",
       "      <th>body_mass_g</th>\n",
       "    </tr>\n",
       "    <tr>\n",
       "      <th>penguin_id</th>\n",
       "      <th></th>\n",
       "    </tr>\n",
       "  </thead>\n",
       "  <tbody>\n",
       "    <tr>\n",
       "      <th>312</th>\n",
       "      <td>5400.0</td>\n",
       "    </tr>\n",
       "    <tr>\n",
       "      <th>142</th>\n",
       "      <td>4500.0</td>\n",
       "    </tr>\n",
       "    <tr>\n",
       "      <th>317</th>\n",
       "      <td>4300.0</td>\n",
       "    </tr>\n",
       "    <tr>\n",
       "      <th>343</th>\n",
       "      <td>3250.0</td>\n",
       "    </tr>\n",
       "    <tr>\n",
       "      <th>326</th>\n",
       "      <td>5250.0</td>\n",
       "    </tr>\n",
       "  </tbody>\n",
       "</table>\n",
       "<p>5 rows × 1 columns</p>\n",
       "</div>[5 rows x 1 columns in total]"
      ],
      "text/plain": [
       "            body_mass_g\n",
       "penguin_id             \n",
       "312              5400.0\n",
       "142              4500.0\n",
       "317              4300.0\n",
       "343              3250.0\n",
       "326              5250.0\n",
       "\n",
       "[5 rows x 1 columns]"
      ]
     },
     "execution_count": 4,
     "metadata": {},
     "output_type": "execute_result"
    }
   ],
   "source": [
    "# Note that this matches the rows in X_test\n",
    "y_test.head(5)"
   ]
  },
  {
   "cell_type": "markdown",
   "metadata": {},
   "source": [
    "## Estimators\n",
    "\n",
    "Following Scikit-Learn, all learning components are \"estimators\"; objects that can learn from training data and then apply themselves to new data. Estimators share the following patterns:\n",
    "\n",
    "- a constructor that takes a list of parameters\n",
    "- a standard string representation that shows the class name and all non-default parameters, e.g. `LinearRegression(fit_intercept=False)`\n",
    "- a `.fit(..)` method to fit the estimator to training data\n",
    "\n",
    "There estimators can be further broken down into two main subtypes:\n",
    "\n",
    "### Transformers\n",
    "\n",
    "Transformers are estimators that are used to prepare data for consumption by other estimators ('preprocessing'). In addition to `.fit(...)`, the transformer implements a `.transform(...)` method, which will apply a transformation based on what was computed during `.fit(..)`. With this pattern dynamic preprocessing steps can be applied to both training and test/production data consistently.\n",
    "\n",
    "An example of a transformer is `bigframes.ml.preprocessing.StandardScaler`, which rescales a dataset to have a mean of zero and a standard deviation of one:"
   ]
  },
  {
   "cell_type": "code",
   "execution_count": 5,
   "metadata": {},
   "outputs": [
    {
     "data": {
      "text/html": [
       "Query job 7b1122c8-7d9f-41b9-a331-1e034403a0e7 is DONE. 28.9 kB processed. <a target=\"_blank\" href=\"https://console.cloud.google.com/bigquery?project=bqstackdemo&j=bq:US:7b1122c8-7d9f-41b9-a331-1e034403a0e7&page=queryresults\">Open Job</a>"
      ],
      "text/plain": [
       "<IPython.core.display.HTML object>"
      ]
     },
     "metadata": {},
     "output_type": "display_data"
    },
    {
     "data": {
      "text/html": [
       "Query job 89485b08-c294-4538-ba1b-02e8893323b4 is DONE. 0 Bytes processed. <a target=\"_blank\" href=\"https://console.cloud.google.com/bigquery?project=bqstackdemo&j=bq:US:89485b08-c294-4538-ba1b-02e8893323b4&page=queryresults\">Open Job</a>"
      ],
      "text/plain": [
       "<IPython.core.display.HTML object>"
      ]
     },
     "metadata": {},
     "output_type": "display_data"
    },
    {
     "data": {
      "text/html": [
       "Query job b2ff76da-5cc7-41b7-bae4-7fcd6d0f9016 is DONE. 28.9 kB processed. <a target=\"_blank\" href=\"https://console.cloud.google.com/bigquery?project=bqstackdemo&j=bq:US:b2ff76da-5cc7-41b7-bae4-7fcd6d0f9016&page=queryresults\">Open Job</a>"
      ],
      "text/plain": [
       "<IPython.core.display.HTML object>"
      ]
     },
     "metadata": {},
     "output_type": "display_data"
    },
    {
     "data": {
      "text/html": [
       "Query job b3838063-aee1-4b56-a662-1bdc1dd852c6 is DONE. 2.1 kB processed. <a target=\"_blank\" href=\"https://console.cloud.google.com/bigquery?project=bqstackdemo&j=bq:US:b3838063-aee1-4b56-a662-1bdc1dd852c6&page=queryresults\">Open Job</a>"
      ],
      "text/plain": [
       "<IPython.core.display.HTML object>"
      ]
     },
     "metadata": {},
     "output_type": "display_data"
    },
    {
     "data": {
      "text/html": [
       "Query job 891626fd-a002-430a-a368-cae3af66e204 is DONE. 0 Bytes processed. <a target=\"_blank\" href=\"https://console.cloud.google.com/bigquery?project=bqstackdemo&j=bq:US:891626fd-a002-430a-a368-cae3af66e204&page=queryresults\">Open Job</a>"
      ],
      "text/plain": [
       "<IPython.core.display.HTML object>"
      ]
     },
     "metadata": {},
     "output_type": "display_data"
    },
    {
     "data": {
      "text/html": [
       "Query job 8ba4bbf1-b7dd-443e-9fd2-18e7edac6273 is DONE. 8.5 kB processed. <a target=\"_blank\" href=\"https://console.cloud.google.com/bigquery?project=bqstackdemo&j=bq:US:8ba4bbf1-b7dd-443e-9fd2-18e7edac6273&page=queryresults\">Open Job</a>"
      ],
      "text/plain": [
       "<IPython.core.display.HTML object>"
      ]
     },
     "metadata": {},
     "output_type": "display_data"
    },
    {
     "data": {
      "text/html": [
       "<div>\n",
       "<style scoped>\n",
       "    .dataframe tbody tr th:only-of-type {\n",
       "        vertical-align: middle;\n",
       "    }\n",
       "\n",
       "    .dataframe tbody tr th {\n",
       "        vertical-align: top;\n",
       "    }\n",
       "\n",
       "    .dataframe thead th {\n",
       "        text-align: right;\n",
       "    }\n",
       "</style>\n",
       "<table border=\"1\" class=\"dataframe\">\n",
       "  <thead>\n",
       "    <tr style=\"text-align: right;\">\n",
       "      <th></th>\n",
       "      <th>standard_scaled_culmen_length_mm</th>\n",
       "      <th>standard_scaled_culmen_depth_mm</th>\n",
       "      <th>standard_scaled_flipper_length_mm</th>\n",
       "    </tr>\n",
       "    <tr>\n",
       "      <th>penguin_id</th>\n",
       "      <th></th>\n",
       "      <th></th>\n",
       "      <th></th>\n",
       "    </tr>\n",
       "  </thead>\n",
       "  <tbody>\n",
       "    <tr>\n",
       "      <th>0</th>\n",
       "      <td>1.131292</td>\n",
       "      <td>-0.643554</td>\n",
       "      <td>1.68983</td>\n",
       "    </tr>\n",
       "    <tr>\n",
       "      <th>1</th>\n",
       "      <td>0.167457</td>\n",
       "      <td>-1.353151</td>\n",
       "      <td>0.986496</td>\n",
       "    </tr>\n",
       "    <tr>\n",
       "      <th>4</th>\n",
       "      <td>0.41734</td>\n",
       "      <td>-1.201095</td>\n",
       "      <td>1.127163</td>\n",
       "    </tr>\n",
       "    <tr>\n",
       "      <th>5</th>\n",
       "      <td>-1.635271</td>\n",
       "      <td>0.370156</td>\n",
       "      <td>-0.631172</td>\n",
       "    </tr>\n",
       "    <tr>\n",
       "      <th>7</th>\n",
       "      <td>-0.385855</td>\n",
       "      <td>-1.860007</td>\n",
       "      <td>0.634829</td>\n",
       "    </tr>\n",
       "    <tr>\n",
       "      <th>8</th>\n",
       "      <td>0.774316</td>\n",
       "      <td>-1.555893</td>\n",
       "      <td>1.338163</td>\n",
       "    </tr>\n",
       "    <tr>\n",
       "      <th>9</th>\n",
       "      <td>0.292399</td>\n",
       "      <td>0.877012</td>\n",
       "      <td>-0.279505</td>\n",
       "    </tr>\n",
       "    <tr>\n",
       "      <th>10</th>\n",
       "      <td>0.86356</td>\n",
       "      <td>1.23181</td>\n",
       "      <td>0.775496</td>\n",
       "    </tr>\n",
       "    <tr>\n",
       "      <th>11</th>\n",
       "      <td>-1.474632</td>\n",
       "      <td>-0.288755</td>\n",
       "      <td>-0.771839</td>\n",
       "    </tr>\n",
       "    <tr>\n",
       "      <th>12</th>\n",
       "      <td>1.238385</td>\n",
       "      <td>-0.440812</td>\n",
       "      <td>1.338163</td>\n",
       "    </tr>\n",
       "    <tr>\n",
       "      <th>13</th>\n",
       "      <td>-0.278762</td>\n",
       "      <td>-1.758636</td>\n",
       "      <td>0.845829</td>\n",
       "    </tr>\n",
       "    <tr>\n",
       "      <th>16</th>\n",
       "      <td>0.899258</td>\n",
       "      <td>-0.998353</td>\n",
       "      <td>1.408496</td>\n",
       "    </tr>\n",
       "    <tr>\n",
       "      <th>17</th>\n",
       "      <td>-1.081958</td>\n",
       "      <td>-0.339441</td>\n",
       "      <td>-0.209171</td>\n",
       "    </tr>\n",
       "    <tr>\n",
       "      <th>18</th>\n",
       "      <td>1.274082</td>\n",
       "      <td>-1.505208</td>\n",
       "      <td>1.197496</td>\n",
       "    </tr>\n",
       "    <tr>\n",
       "      <th>19</th>\n",
       "      <td>-0.100275</td>\n",
       "      <td>-1.657265</td>\n",
       "      <td>1.127163</td>\n",
       "    </tr>\n",
       "    <tr>\n",
       "      <th>21</th>\n",
       "      <td>1.077746</td>\n",
       "      <td>0.775641</td>\n",
       "      <td>-0.209171</td>\n",
       "    </tr>\n",
       "    <tr>\n",
       "      <th>22</th>\n",
       "      <td>-1.224748</td>\n",
       "      <td>0.319471</td>\n",
       "      <td>-0.701505</td>\n",
       "    </tr>\n",
       "    <tr>\n",
       "      <th>24</th>\n",
       "      <td>-0.814226</td>\n",
       "      <td>1.789351</td>\n",
       "      <td>-0.701505</td>\n",
       "    </tr>\n",
       "    <tr>\n",
       "      <th>25</th>\n",
       "      <td>-0.867773</td>\n",
       "      <td>1.738665</td>\n",
       "      <td>-0.771839</td>\n",
       "    </tr>\n",
       "    <tr>\n",
       "      <th>26</th>\n",
       "      <td>-0.653587</td>\n",
       "      <td>0.370156</td>\n",
       "      <td>-0.982839</td>\n",
       "    </tr>\n",
       "    <tr>\n",
       "      <th>28</th>\n",
       "      <td>-1.081958</td>\n",
       "      <td>0.724955</td>\n",
       "      <td>-0.771839</td>\n",
       "    </tr>\n",
       "    <tr>\n",
       "      <th>29</th>\n",
       "      <td>2.095127</td>\n",
       "      <td>-0.086013</td>\n",
       "      <td>1.90083</td>\n",
       "    </tr>\n",
       "    <tr>\n",
       "      <th>30</th>\n",
       "      <td>0.435189</td>\n",
       "      <td>0.319471</td>\n",
       "      <td>-0.560838</td>\n",
       "    </tr>\n",
       "    <tr>\n",
       "      <th>31</th>\n",
       "      <td>0.238853</td>\n",
       "      <td>-1.758636</td>\n",
       "      <td>0.916163</td>\n",
       "    </tr>\n",
       "    <tr>\n",
       "      <th>32</th>\n",
       "      <td>1.381175</td>\n",
       "      <td>1.181125</td>\n",
       "      <td>0.353496</td>\n",
       "    </tr>\n",
       "  </tbody>\n",
       "</table>\n",
       "<p>25 rows × 3 columns</p>\n",
       "</div>[267 rows x 3 columns in total]"
      ],
      "text/plain": [
       "            standard_scaled_culmen_length_mm  standard_scaled_culmen_depth_mm  \\\n",
       "penguin_id                                                                      \n",
       "0                                   1.131292                        -0.643554   \n",
       "1                                   0.167457                        -1.353151   \n",
       "4                                    0.41734                        -1.201095   \n",
       "5                                  -1.635271                         0.370156   \n",
       "7                                  -0.385855                        -1.860007   \n",
       "8                                   0.774316                        -1.555893   \n",
       "9                                   0.292399                         0.877012   \n",
       "10                                   0.86356                          1.23181   \n",
       "11                                 -1.474632                        -0.288755   \n",
       "12                                  1.238385                        -0.440812   \n",
       "13                                 -0.278762                        -1.758636   \n",
       "16                                  0.899258                        -0.998353   \n",
       "17                                 -1.081958                        -0.339441   \n",
       "18                                  1.274082                        -1.505208   \n",
       "19                                 -0.100275                        -1.657265   \n",
       "21                                  1.077746                         0.775641   \n",
       "22                                 -1.224748                         0.319471   \n",
       "24                                 -0.814226                         1.789351   \n",
       "25                                 -0.867773                         1.738665   \n",
       "26                                 -0.653587                         0.370156   \n",
       "28                                 -1.081958                         0.724955   \n",
       "29                                  2.095127                        -0.086013   \n",
       "30                                  0.435189                         0.319471   \n",
       "31                                  0.238853                        -1.758636   \n",
       "32                                  1.381175                         1.181125   \n",
       "\n",
       "            standard_scaled_flipper_length_mm  \n",
       "penguin_id                                     \n",
       "0                                     1.68983  \n",
       "1                                    0.986496  \n",
       "4                                    1.127163  \n",
       "5                                   -0.631172  \n",
       "7                                    0.634829  \n",
       "8                                    1.338163  \n",
       "9                                   -0.279505  \n",
       "10                                   0.775496  \n",
       "11                                  -0.771839  \n",
       "12                                   1.338163  \n",
       "13                                   0.845829  \n",
       "16                                   1.408496  \n",
       "17                                  -0.209171  \n",
       "18                                   1.197496  \n",
       "19                                   1.127163  \n",
       "21                                  -0.209171  \n",
       "22                                  -0.701505  \n",
       "24                                  -0.701505  \n",
       "25                                  -0.771839  \n",
       "26                                  -0.982839  \n",
       "28                                  -0.771839  \n",
       "29                                    1.90083  \n",
       "30                                  -0.560838  \n",
       "31                                   0.916163  \n",
       "32                                   0.353496  \n",
       "...\n",
       "\n",
       "[267 rows x 3 columns]"
      ]
     },
     "execution_count": 5,
     "metadata": {},
     "output_type": "execute_result"
    }
   ],
   "source": [
    "from bigframes.ml.preprocessing import StandardScaler\n",
    "\n",
    "# StandardScaler will only work on numeric columns\n",
    "numeric_columns = [\"culmen_length_mm\", \"culmen_depth_mm\", \"flipper_length_mm\"]\n",
    "\n",
    "scaler = StandardScaler()\n",
    "scaler.fit(X_train[numeric_columns])\n",
    "\n",
    "# Now, standardscaler should transform the numbers to have mean of zero\n",
    "# and standard deviation of one:\n",
    "scaler.transform(X_train[numeric_columns])"
   ]
  },
  {
   "cell_type": "code",
   "execution_count": 6,
   "metadata": {},
   "outputs": [
    {
     "data": {
      "text/html": [
       "Query job 4c670522-2ea8-4be9-941e-d081fd8ab27a is DONE. 28.9 kB processed. <a target=\"_blank\" href=\"https://console.cloud.google.com/bigquery?project=bqstackdemo&j=bq:US:4c670522-2ea8-4be9-941e-d081fd8ab27a&page=queryresults\">Open Job</a>"
      ],
      "text/plain": [
       "<IPython.core.display.HTML object>"
      ]
     },
     "metadata": {},
     "output_type": "display_data"
    },
    {
     "data": {
      "text/html": [
       "Query job e90a045b-d588-440e-b079-cedb0b29f437 is DONE. 536 Bytes processed. <a target=\"_blank\" href=\"https://console.cloud.google.com/bigquery?project=bqstackdemo&j=bq:US:e90a045b-d588-440e-b079-cedb0b29f437&page=queryresults\">Open Job</a>"
      ],
      "text/plain": [
       "<IPython.core.display.HTML object>"
      ]
     },
     "metadata": {},
     "output_type": "display_data"
    },
    {
     "data": {
      "text/html": [
       "Query job cfede58f-1c40-4d3c-b1ea-7988330a761e is DONE. 0 Bytes processed. <a target=\"_blank\" href=\"https://console.cloud.google.com/bigquery?project=bqstackdemo&j=bq:US:cfede58f-1c40-4d3c-b1ea-7988330a761e&page=queryresults\">Open Job</a>"
      ],
      "text/plain": [
       "<IPython.core.display.HTML object>"
      ]
     },
     "metadata": {},
     "output_type": "display_data"
    },
    {
     "data": {
      "text/html": [
       "Query job e5419a7e-729b-4031-a14b-4c13a22bf2e6 is DONE. 2.1 kB processed. <a target=\"_blank\" href=\"https://console.cloud.google.com/bigquery?project=bqstackdemo&j=bq:US:e5419a7e-729b-4031-a14b-4c13a22bf2e6&page=queryresults\">Open Job</a>"
      ],
      "text/plain": [
       "<IPython.core.display.HTML object>"
      ]
     },
     "metadata": {},
     "output_type": "display_data"
    },
    {
     "data": {
      "text/html": [
       "<div>\n",
       "<style scoped>\n",
       "    .dataframe tbody tr th:only-of-type {\n",
       "        vertical-align: middle;\n",
       "    }\n",
       "\n",
       "    .dataframe tbody tr th {\n",
       "        vertical-align: top;\n",
       "    }\n",
       "\n",
       "    .dataframe thead th {\n",
       "        text-align: right;\n",
       "    }\n",
       "</style>\n",
       "<table border=\"1\" class=\"dataframe\">\n",
       "  <thead>\n",
       "    <tr style=\"text-align: right;\">\n",
       "      <th></th>\n",
       "      <th>standard_scaled_culmen_length_mm</th>\n",
       "      <th>standard_scaled_culmen_depth_mm</th>\n",
       "      <th>standard_scaled_flipper_length_mm</th>\n",
       "    </tr>\n",
       "    <tr>\n",
       "      <th>penguin_id</th>\n",
       "      <th></th>\n",
       "      <th></th>\n",
       "      <th></th>\n",
       "    </tr>\n",
       "  </thead>\n",
       "  <tbody>\n",
       "    <tr>\n",
       "      <th>2</th>\n",
       "      <td>-0.492948</td>\n",
       "      <td>0.674269</td>\n",
       "      <td>0.072162</td>\n",
       "    </tr>\n",
       "    <tr>\n",
       "      <th>3</th>\n",
       "      <td>-0.992714</td>\n",
       "      <td>-0.086013</td>\n",
       "      <td>-0.912505</td>\n",
       "    </tr>\n",
       "    <tr>\n",
       "      <th>14</th>\n",
       "      <td>0.488736</td>\n",
       "      <td>-0.288755</td>\n",
       "      <td>-0.631172</td>\n",
       "    </tr>\n",
       "    <tr>\n",
       "      <th>15</th>\n",
       "      <td>-0.546494</td>\n",
       "      <td>0.167414</td>\n",
       "      <td>-0.771839</td>\n",
       "    </tr>\n",
       "    <tr>\n",
       "      <th>20</th>\n",
       "      <td>-0.243065</td>\n",
       "      <td>-1.505208</td>\n",
       "      <td>0.564496</td>\n",
       "    </tr>\n",
       "    <tr>\n",
       "      <th>27</th>\n",
       "      <td>0.27455</td>\n",
       "      <td>-0.086013</td>\n",
       "      <td>-0.420172</td>\n",
       "    </tr>\n",
       "    <tr>\n",
       "      <th>34</th>\n",
       "      <td>-0.546494</td>\n",
       "      <td>0.471527</td>\n",
       "      <td>0.283162</td>\n",
       "    </tr>\n",
       "    <tr>\n",
       "      <th>67</th>\n",
       "      <td>0.613677</td>\n",
       "      <td>-1.353151</td>\n",
       "      <td>0.986496</td>\n",
       "    </tr>\n",
       "    <tr>\n",
       "      <th>68</th>\n",
       "      <td>-0.600041</td>\n",
       "      <td>0.623584</td>\n",
       "      <td>-0.420172</td>\n",
       "    </tr>\n",
       "    <tr>\n",
       "      <th>75</th>\n",
       "      <td>-1.135504</td>\n",
       "      <td>1.434552</td>\n",
       "      <td>-0.771839</td>\n",
       "    </tr>\n",
       "    <tr>\n",
       "      <th>77</th>\n",
       "      <td>0.970653</td>\n",
       "      <td>-0.592869</td>\n",
       "      <td>1.68983</td>\n",
       "    </tr>\n",
       "    <tr>\n",
       "      <th>79</th>\n",
       "      <td>0.470887</td>\n",
       "      <td>-0.542183</td>\n",
       "      <td>0.986496</td>\n",
       "    </tr>\n",
       "    <tr>\n",
       "      <th>80</th>\n",
       "      <td>0.27455</td>\n",
       "      <td>0.066043</td>\n",
       "      <td>-0.560838</td>\n",
       "    </tr>\n",
       "    <tr>\n",
       "      <th>96</th>\n",
       "      <td>-0.350158</td>\n",
       "      <td>0.674269</td>\n",
       "      <td>-1.475172</td>\n",
       "    </tr>\n",
       "    <tr>\n",
       "      <th>100</th>\n",
       "      <td>-0.939168</td>\n",
       "      <td>0.826326</td>\n",
       "      <td>-0.771839</td>\n",
       "    </tr>\n",
       "    <tr>\n",
       "      <th>113</th>\n",
       "      <td>1.30978</td>\n",
       "      <td>-0.440812</td>\n",
       "      <td>2.041497</td>\n",
       "    </tr>\n",
       "    <tr>\n",
       "      <th>114</th>\n",
       "      <td>-1.242597</td>\n",
       "      <td>0.471527</td>\n",
       "      <td>-1.615839</td>\n",
       "    </tr>\n",
       "    <tr>\n",
       "      <th>120</th>\n",
       "      <td>-0.225216</td>\n",
       "      <td>0.2181</td>\n",
       "      <td>-0.349838</td>\n",
       "    </tr>\n",
       "    <tr>\n",
       "      <th>121</th>\n",
       "      <td>0.595828</td>\n",
       "      <td>-1.606579</td>\n",
       "      <td>0.775496</td>\n",
       "    </tr>\n",
       "    <tr>\n",
       "      <th>124</th>\n",
       "      <td>0.86356</td>\n",
       "      <td>-0.542183</td>\n",
       "      <td>1.056829</td>\n",
       "    </tr>\n",
       "    <tr>\n",
       "      <th>125</th>\n",
       "      <td>1.113443</td>\n",
       "      <td>-0.947667</td>\n",
       "      <td>1.619496</td>\n",
       "    </tr>\n",
       "    <tr>\n",
       "      <th>133</th>\n",
       "      <td>-0.564343</td>\n",
       "      <td>1.434552</td>\n",
       "      <td>0.142495</td>\n",
       "    </tr>\n",
       "    <tr>\n",
       "      <th>134</th>\n",
       "      <td>-0.260914</td>\n",
       "      <td>-1.758636</td>\n",
       "      <td>0.494162</td>\n",
       "    </tr>\n",
       "    <tr>\n",
       "      <th>135</th>\n",
       "      <td>-0.832075</td>\n",
       "      <td>0.116729</td>\n",
       "      <td>-1.053172</td>\n",
       "    </tr>\n",
       "    <tr>\n",
       "      <th>142</th>\n",
       "      <td>0.345945</td>\n",
       "      <td>-2.012063</td>\n",
       "      <td>0.705162</td>\n",
       "    </tr>\n",
       "  </tbody>\n",
       "</table>\n",
       "<p>25 rows × 3 columns</p>\n",
       "</div>[67 rows x 3 columns in total]"
      ],
      "text/plain": [
       "            standard_scaled_culmen_length_mm  standard_scaled_culmen_depth_mm  \\\n",
       "penguin_id                                                                      \n",
       "2                                  -0.492948                         0.674269   \n",
       "3                                  -0.992714                        -0.086013   \n",
       "14                                  0.488736                        -0.288755   \n",
       "15                                 -0.546494                         0.167414   \n",
       "20                                 -0.243065                        -1.505208   \n",
       "27                                   0.27455                        -0.086013   \n",
       "34                                 -0.546494                         0.471527   \n",
       "67                                  0.613677                        -1.353151   \n",
       "68                                 -0.600041                         0.623584   \n",
       "75                                 -1.135504                         1.434552   \n",
       "77                                  0.970653                        -0.592869   \n",
       "79                                  0.470887                        -0.542183   \n",
       "80                                   0.27455                         0.066043   \n",
       "96                                 -0.350158                         0.674269   \n",
       "100                                -0.939168                         0.826326   \n",
       "113                                  1.30978                        -0.440812   \n",
       "114                                -1.242597                         0.471527   \n",
       "120                                -0.225216                           0.2181   \n",
       "121                                 0.595828                        -1.606579   \n",
       "124                                  0.86356                        -0.542183   \n",
       "125                                 1.113443                        -0.947667   \n",
       "133                                -0.564343                         1.434552   \n",
       "134                                -0.260914                        -1.758636   \n",
       "135                                -0.832075                         0.116729   \n",
       "142                                 0.345945                        -2.012063   \n",
       "\n",
       "            standard_scaled_flipper_length_mm  \n",
       "penguin_id                                     \n",
       "2                                    0.072162  \n",
       "3                                   -0.912505  \n",
       "14                                  -0.631172  \n",
       "15                                  -0.771839  \n",
       "20                                   0.564496  \n",
       "27                                  -0.420172  \n",
       "34                                   0.283162  \n",
       "67                                   0.986496  \n",
       "68                                  -0.420172  \n",
       "75                                  -0.771839  \n",
       "77                                    1.68983  \n",
       "79                                   0.986496  \n",
       "80                                  -0.560838  \n",
       "96                                  -1.475172  \n",
       "100                                 -0.771839  \n",
       "113                                  2.041497  \n",
       "114                                 -1.615839  \n",
       "120                                 -0.349838  \n",
       "121                                  0.775496  \n",
       "124                                  1.056829  \n",
       "125                                  1.619496  \n",
       "133                                  0.142495  \n",
       "134                                  0.494162  \n",
       "135                                 -1.053172  \n",
       "142                                  0.705162  \n",
       "...\n",
       "\n",
       "[67 rows x 3 columns]"
      ]
     },
     "execution_count": 6,
     "metadata": {},
     "output_type": "execute_result"
    }
   ],
   "source": [
    "# We can then repeat this transformation on new data\n",
    "scaler.transform(X_test[numeric_columns])"
   ]
  },
  {
   "cell_type": "markdown",
   "metadata": {},
   "source": [
    "#### Composing transformers\n",
    "\n",
    "To process data where different columns need different preprocessors, `bigframes.composition.ColumnTransformer` can be employed:"
   ]
  },
  {
   "cell_type": "code",
   "execution_count": 7,
   "metadata": {},
   "outputs": [
    {
     "data": {
      "text/html": [
       "Query job 345126d2-7cc8-4e29-a547-e732409289a0 is DONE. 28.9 kB processed. <a target=\"_blank\" href=\"https://console.cloud.google.com/bigquery?project=bqstackdemo&j=bq:US:345126d2-7cc8-4e29-a547-e732409289a0&page=queryresults\">Open Job</a>"
      ],
      "text/plain": [
       "<IPython.core.display.HTML object>"
      ]
     },
     "metadata": {},
     "output_type": "display_data"
    },
    {
     "data": {
      "text/html": [
       "Query job cf548578-a2ee-48bb-80ac-55353b60bbf8 is DONE. 0 Bytes processed. <a target=\"_blank\" href=\"https://console.cloud.google.com/bigquery?project=bqstackdemo&j=bq:US:cf548578-a2ee-48bb-80ac-55353b60bbf8&page=queryresults\">Open Job</a>"
      ],
      "text/plain": [
       "<IPython.core.display.HTML object>"
      ]
     },
     "metadata": {},
     "output_type": "display_data"
    },
    {
     "data": {
      "text/html": [
       "Query job c58c6219-0030-4bff-9669-33d94f5b7598 is DONE. 22.9 kB processed. <a target=\"_blank\" href=\"https://console.cloud.google.com/bigquery?project=bqstackdemo&j=bq:US:c58c6219-0030-4bff-9669-33d94f5b7598&page=queryresults\">Open Job</a>"
      ],
      "text/plain": [
       "<IPython.core.display.HTML object>"
      ]
     },
     "metadata": {},
     "output_type": "display_data"
    },
    {
     "data": {
      "text/html": [
       "Query job b48a671a-2ed5-43c8-825f-6508bf812c3c is DONE. 2.1 kB processed. <a target=\"_blank\" href=\"https://console.cloud.google.com/bigquery?project=bqstackdemo&j=bq:US:b48a671a-2ed5-43c8-825f-6508bf812c3c&page=queryresults\">Open Job</a>"
      ],
      "text/plain": [
       "<IPython.core.display.HTML object>"
      ]
     },
     "metadata": {},
     "output_type": "display_data"
    },
    {
     "data": {
      "text/html": [
       "Query job b834358d-dd1e-4773-b62b-bc015216a392 is DONE. 29.2 kB processed. <a target=\"_blank\" href=\"https://console.cloud.google.com/bigquery?project=bqstackdemo&j=bq:US:b834358d-dd1e-4773-b62b-bc015216a392&page=queryresults\">Open Job</a>"
      ],
      "text/plain": [
       "<IPython.core.display.HTML object>"
      ]
     },
     "metadata": {},
     "output_type": "display_data"
    },
    {
     "data": {
      "text/html": [
       "Query job 3dcd37a9-6275-4807-b21a-56f5a945577f is DONE. 536 Bytes processed. <a target=\"_blank\" href=\"https://console.cloud.google.com/bigquery?project=bqstackdemo&j=bq:US:3dcd37a9-6275-4807-b21a-56f5a945577f&page=queryresults\">Open Job</a>"
      ],
      "text/plain": [
       "<IPython.core.display.HTML object>"
      ]
     },
     "metadata": {},
     "output_type": "display_data"
    },
    {
     "data": {
      "text/html": [
       "Query job bc2a3b10-0ed2-4e35-8412-2f613d7d5965 is DONE. 0 Bytes processed. <a target=\"_blank\" href=\"https://console.cloud.google.com/bigquery?project=bqstackdemo&j=bq:US:bc2a3b10-0ed2-4e35-8412-2f613d7d5965&page=queryresults\">Open Job</a>"
      ],
      "text/plain": [
       "<IPython.core.display.HTML object>"
      ]
     },
     "metadata": {},
     "output_type": "display_data"
    },
    {
     "data": {
      "text/html": [
       "Query job d1f68268-4e92-40ba-85b1-920380532c98 is DONE. 21.4 kB processed. <a target=\"_blank\" href=\"https://console.cloud.google.com/bigquery?project=bqstackdemo&j=bq:US:d1f68268-4e92-40ba-85b1-920380532c98&page=queryresults\">Open Job</a>"
      ],
      "text/plain": [
       "<IPython.core.display.HTML object>"
      ]
     },
     "metadata": {},
     "output_type": "display_data"
    },
    {
     "data": {
      "text/html": [
       "<div>\n",
       "<style scoped>\n",
       "    .dataframe tbody tr th:only-of-type {\n",
       "        vertical-align: middle;\n",
       "    }\n",
       "\n",
       "    .dataframe tbody tr th {\n",
       "        vertical-align: top;\n",
       "    }\n",
       "\n",
       "    .dataframe thead th {\n",
       "        text-align: right;\n",
       "    }\n",
       "</style>\n",
       "<table border=\"1\" class=\"dataframe\">\n",
       "  <thead>\n",
       "    <tr style=\"text-align: right;\">\n",
       "      <th></th>\n",
       "      <th>onehotencoded_island</th>\n",
       "      <th>standard_scaled_culmen_length_mm</th>\n",
       "      <th>standard_scaled_culmen_depth_mm</th>\n",
       "      <th>standard_scaled_flipper_length_mm</th>\n",
       "      <th>onehotencoded_sex</th>\n",
       "      <th>onehotencoded_species</th>\n",
       "    </tr>\n",
       "    <tr>\n",
       "      <th>penguin_id</th>\n",
       "      <th></th>\n",
       "      <th></th>\n",
       "      <th></th>\n",
       "      <th></th>\n",
       "      <th></th>\n",
       "      <th></th>\n",
       "    </tr>\n",
       "  </thead>\n",
       "  <tbody>\n",
       "    <tr>\n",
       "      <th>0</th>\n",
       "      <td>[{'index': 1, 'value': 1.0}]</td>\n",
       "      <td>1.131292</td>\n",
       "      <td>-0.643554</td>\n",
       "      <td>1.68983</td>\n",
       "      <td>[{'index': 3, 'value': 1.0}]</td>\n",
       "      <td>[{'index': 3, 'value': 1.0}]</td>\n",
       "    </tr>\n",
       "    <tr>\n",
       "      <th>1</th>\n",
       "      <td>[{'index': 1, 'value': 1.0}]</td>\n",
       "      <td>0.167457</td>\n",
       "      <td>-1.353151</td>\n",
       "      <td>0.986496</td>\n",
       "      <td>[{'index': 2, 'value': 1.0}]</td>\n",
       "      <td>[{'index': 3, 'value': 1.0}]</td>\n",
       "    </tr>\n",
       "    <tr>\n",
       "      <th>4</th>\n",
       "      <td>[{'index': 1, 'value': 1.0}]</td>\n",
       "      <td>0.41734</td>\n",
       "      <td>-1.201095</td>\n",
       "      <td>1.127163</td>\n",
       "      <td>[{'index': 2, 'value': 1.0}]</td>\n",
       "      <td>[{'index': 3, 'value': 1.0}]</td>\n",
       "    </tr>\n",
       "    <tr>\n",
       "      <th>5</th>\n",
       "      <td>[{'index': 1, 'value': 1.0}]</td>\n",
       "      <td>-1.635271</td>\n",
       "      <td>0.370156</td>\n",
       "      <td>-0.631172</td>\n",
       "      <td>[{'index': 2, 'value': 1.0}]</td>\n",
       "      <td>[{'index': 1, 'value': 1.0}]</td>\n",
       "    </tr>\n",
       "    <tr>\n",
       "      <th>7</th>\n",
       "      <td>[{'index': 1, 'value': 1.0}]</td>\n",
       "      <td>-0.385855</td>\n",
       "      <td>-1.860007</td>\n",
       "      <td>0.634829</td>\n",
       "      <td>[{'index': 2, 'value': 1.0}]</td>\n",
       "      <td>[{'index': 3, 'value': 1.0}]</td>\n",
       "    </tr>\n",
       "    <tr>\n",
       "      <th>8</th>\n",
       "      <td>[{'index': 1, 'value': 1.0}]</td>\n",
       "      <td>0.774316</td>\n",
       "      <td>-1.555893</td>\n",
       "      <td>1.338163</td>\n",
       "      <td>[{'index': 3, 'value': 1.0}]</td>\n",
       "      <td>[{'index': 3, 'value': 1.0}]</td>\n",
       "    </tr>\n",
       "    <tr>\n",
       "      <th>9</th>\n",
       "      <td>[{'index': 3, 'value': 1.0}]</td>\n",
       "      <td>0.292399</td>\n",
       "      <td>0.877012</td>\n",
       "      <td>-0.279505</td>\n",
       "      <td>[{'index': 3, 'value': 1.0}]</td>\n",
       "      <td>[{'index': 1, 'value': 1.0}]</td>\n",
       "    </tr>\n",
       "    <tr>\n",
       "      <th>10</th>\n",
       "      <td>[{'index': 2, 'value': 1.0}]</td>\n",
       "      <td>0.86356</td>\n",
       "      <td>1.23181</td>\n",
       "      <td>0.775496</td>\n",
       "      <td>[{'index': 3, 'value': 1.0}]</td>\n",
       "      <td>[{'index': 2, 'value': 1.0}]</td>\n",
       "    </tr>\n",
       "    <tr>\n",
       "      <th>11</th>\n",
       "      <td>[{'index': 3, 'value': 1.0}]</td>\n",
       "      <td>-1.474632</td>\n",
       "      <td>-0.288755</td>\n",
       "      <td>-0.771839</td>\n",
       "      <td>[{'index': 2, 'value': 1.0}]</td>\n",
       "      <td>[{'index': 1, 'value': 1.0}]</td>\n",
       "    </tr>\n",
       "    <tr>\n",
       "      <th>12</th>\n",
       "      <td>[{'index': 1, 'value': 1.0}]</td>\n",
       "      <td>1.238385</td>\n",
       "      <td>-0.440812</td>\n",
       "      <td>1.338163</td>\n",
       "      <td>[{'index': 3, 'value': 1.0}]</td>\n",
       "      <td>[{'index': 3, 'value': 1.0}]</td>\n",
       "    </tr>\n",
       "    <tr>\n",
       "      <th>13</th>\n",
       "      <td>[{'index': 1, 'value': 1.0}]</td>\n",
       "      <td>-0.278762</td>\n",
       "      <td>-1.758636</td>\n",
       "      <td>0.845829</td>\n",
       "      <td>[{'index': 2, 'value': 1.0}]</td>\n",
       "      <td>[{'index': 3, 'value': 1.0}]</td>\n",
       "    </tr>\n",
       "    <tr>\n",
       "      <th>16</th>\n",
       "      <td>[{'index': 1, 'value': 1.0}]</td>\n",
       "      <td>0.899258</td>\n",
       "      <td>-0.998353</td>\n",
       "      <td>1.408496</td>\n",
       "      <td>[{'index': 3, 'value': 1.0}]</td>\n",
       "      <td>[{'index': 3, 'value': 1.0}]</td>\n",
       "    </tr>\n",
       "    <tr>\n",
       "      <th>17</th>\n",
       "      <td>[{'index': 1, 'value': 1.0}]</td>\n",
       "      <td>-1.081958</td>\n",
       "      <td>-0.339441</td>\n",
       "      <td>-0.209171</td>\n",
       "      <td>[{'index': 2, 'value': 1.0}]</td>\n",
       "      <td>[{'index': 1, 'value': 1.0}]</td>\n",
       "    </tr>\n",
       "    <tr>\n",
       "      <th>18</th>\n",
       "      <td>[{'index': 1, 'value': 1.0}]</td>\n",
       "      <td>1.274082</td>\n",
       "      <td>-1.505208</td>\n",
       "      <td>1.197496</td>\n",
       "      <td>[{'index': 3, 'value': 1.0}]</td>\n",
       "      <td>[{'index': 3, 'value': 1.0}]</td>\n",
       "    </tr>\n",
       "    <tr>\n",
       "      <th>19</th>\n",
       "      <td>[{'index': 1, 'value': 1.0}]</td>\n",
       "      <td>-0.100275</td>\n",
       "      <td>-1.657265</td>\n",
       "      <td>1.127163</td>\n",
       "      <td>[{'index': 2, 'value': 1.0}]</td>\n",
       "      <td>[{'index': 3, 'value': 1.0}]</td>\n",
       "    </tr>\n",
       "    <tr>\n",
       "      <th>21</th>\n",
       "      <td>[{'index': 2, 'value': 1.0}]</td>\n",
       "      <td>1.077746</td>\n",
       "      <td>0.775641</td>\n",
       "      <td>-0.209171</td>\n",
       "      <td>[{'index': 2, 'value': 1.0}]</td>\n",
       "      <td>[{'index': 2, 'value': 1.0}]</td>\n",
       "    </tr>\n",
       "    <tr>\n",
       "      <th>22</th>\n",
       "      <td>[{'index': 2, 'value': 1.0}]</td>\n",
       "      <td>-1.224748</td>\n",
       "      <td>0.319471</td>\n",
       "      <td>-0.701505</td>\n",
       "      <td>[{'index': 2, 'value': 1.0}]</td>\n",
       "      <td>[{'index': 1, 'value': 1.0}]</td>\n",
       "    </tr>\n",
       "    <tr>\n",
       "      <th>24</th>\n",
       "      <td>[{'index': 1, 'value': 1.0}]</td>\n",
       "      <td>-0.814226</td>\n",
       "      <td>1.789351</td>\n",
       "      <td>-0.701505</td>\n",
       "      <td>[{'index': 2, 'value': 1.0}]</td>\n",
       "      <td>[{'index': 1, 'value': 1.0}]</td>\n",
       "    </tr>\n",
       "    <tr>\n",
       "      <th>25</th>\n",
       "      <td>[{'index': 3, 'value': 1.0}]</td>\n",
       "      <td>-0.867773</td>\n",
       "      <td>1.738665</td>\n",
       "      <td>-0.771839</td>\n",
       "      <td>[{'index': 3, 'value': 1.0}]</td>\n",
       "      <td>[{'index': 1, 'value': 1.0}]</td>\n",
       "    </tr>\n",
       "    <tr>\n",
       "      <th>26</th>\n",
       "      <td>[{'index': 1, 'value': 1.0}]</td>\n",
       "      <td>-0.653587</td>\n",
       "      <td>0.370156</td>\n",
       "      <td>-0.982839</td>\n",
       "      <td>[{'index': 2, 'value': 1.0}]</td>\n",
       "      <td>[{'index': 1, 'value': 1.0}]</td>\n",
       "    </tr>\n",
       "    <tr>\n",
       "      <th>28</th>\n",
       "      <td>[{'index': 2, 'value': 1.0}]</td>\n",
       "      <td>-1.081958</td>\n",
       "      <td>0.724955</td>\n",
       "      <td>-0.771839</td>\n",
       "      <td>[{'index': 2, 'value': 1.0}]</td>\n",
       "      <td>[{'index': 1, 'value': 1.0}]</td>\n",
       "    </tr>\n",
       "    <tr>\n",
       "      <th>29</th>\n",
       "      <td>[{'index': 1, 'value': 1.0}]</td>\n",
       "      <td>2.095127</td>\n",
       "      <td>-0.086013</td>\n",
       "      <td>1.90083</td>\n",
       "      <td>[{'index': 3, 'value': 1.0}]</td>\n",
       "      <td>[{'index': 3, 'value': 1.0}]</td>\n",
       "    </tr>\n",
       "    <tr>\n",
       "      <th>30</th>\n",
       "      <td>[{'index': 2, 'value': 1.0}]</td>\n",
       "      <td>0.435189</td>\n",
       "      <td>0.319471</td>\n",
       "      <td>-0.560838</td>\n",
       "      <td>[{'index': 2, 'value': 1.0}]</td>\n",
       "      <td>[{'index': 2, 'value': 1.0}]</td>\n",
       "    </tr>\n",
       "    <tr>\n",
       "      <th>31</th>\n",
       "      <td>[{'index': 1, 'value': 1.0}]</td>\n",
       "      <td>0.238853</td>\n",
       "      <td>-1.758636</td>\n",
       "      <td>0.916163</td>\n",
       "      <td>[{'index': 2, 'value': 1.0}]</td>\n",
       "      <td>[{'index': 3, 'value': 1.0}]</td>\n",
       "    </tr>\n",
       "    <tr>\n",
       "      <th>32</th>\n",
       "      <td>[{'index': 2, 'value': 1.0}]</td>\n",
       "      <td>1.381175</td>\n",
       "      <td>1.181125</td>\n",
       "      <td>0.353496</td>\n",
       "      <td>[{'index': 3, 'value': 1.0}]</td>\n",
       "      <td>[{'index': 2, 'value': 1.0}]</td>\n",
       "    </tr>\n",
       "  </tbody>\n",
       "</table>\n",
       "<p>25 rows × 6 columns</p>\n",
       "</div>[267 rows x 6 columns in total]"
      ],
      "text/plain": [
       "                    onehotencoded_island  standard_scaled_culmen_length_mm  \\\n",
       "penguin_id                                                                   \n",
       "0           [{'index': 1, 'value': 1.0}]                          1.131292   \n",
       "1           [{'index': 1, 'value': 1.0}]                          0.167457   \n",
       "4           [{'index': 1, 'value': 1.0}]                           0.41734   \n",
       "5           [{'index': 1, 'value': 1.0}]                         -1.635271   \n",
       "7           [{'index': 1, 'value': 1.0}]                         -0.385855   \n",
       "8           [{'index': 1, 'value': 1.0}]                          0.774316   \n",
       "9           [{'index': 3, 'value': 1.0}]                          0.292399   \n",
       "10          [{'index': 2, 'value': 1.0}]                           0.86356   \n",
       "11          [{'index': 3, 'value': 1.0}]                         -1.474632   \n",
       "12          [{'index': 1, 'value': 1.0}]                          1.238385   \n",
       "13          [{'index': 1, 'value': 1.0}]                         -0.278762   \n",
       "16          [{'index': 1, 'value': 1.0}]                          0.899258   \n",
       "17          [{'index': 1, 'value': 1.0}]                         -1.081958   \n",
       "18          [{'index': 1, 'value': 1.0}]                          1.274082   \n",
       "19          [{'index': 1, 'value': 1.0}]                         -0.100275   \n",
       "21          [{'index': 2, 'value': 1.0}]                          1.077746   \n",
       "22          [{'index': 2, 'value': 1.0}]                         -1.224748   \n",
       "24          [{'index': 1, 'value': 1.0}]                         -0.814226   \n",
       "25          [{'index': 3, 'value': 1.0}]                         -0.867773   \n",
       "26          [{'index': 1, 'value': 1.0}]                         -0.653587   \n",
       "28          [{'index': 2, 'value': 1.0}]                         -1.081958   \n",
       "29          [{'index': 1, 'value': 1.0}]                          2.095127   \n",
       "30          [{'index': 2, 'value': 1.0}]                          0.435189   \n",
       "31          [{'index': 1, 'value': 1.0}]                          0.238853   \n",
       "32          [{'index': 2, 'value': 1.0}]                          1.381175   \n",
       "\n",
       "            standard_scaled_culmen_depth_mm  \\\n",
       "penguin_id                                    \n",
       "0                                 -0.643554   \n",
       "1                                 -1.353151   \n",
       "4                                 -1.201095   \n",
       "5                                  0.370156   \n",
       "7                                 -1.860007   \n",
       "8                                 -1.555893   \n",
       "9                                  0.877012   \n",
       "10                                  1.23181   \n",
       "11                                -0.288755   \n",
       "12                                -0.440812   \n",
       "13                                -1.758636   \n",
       "16                                -0.998353   \n",
       "17                                -0.339441   \n",
       "18                                -1.505208   \n",
       "19                                -1.657265   \n",
       "21                                 0.775641   \n",
       "22                                 0.319471   \n",
       "24                                 1.789351   \n",
       "25                                 1.738665   \n",
       "26                                 0.370156   \n",
       "28                                 0.724955   \n",
       "29                                -0.086013   \n",
       "30                                 0.319471   \n",
       "31                                -1.758636   \n",
       "32                                 1.181125   \n",
       "\n",
       "            standard_scaled_flipper_length_mm             onehotencoded_sex  \\\n",
       "penguin_id                                                                    \n",
       "0                                     1.68983  [{'index': 3, 'value': 1.0}]   \n",
       "1                                    0.986496  [{'index': 2, 'value': 1.0}]   \n",
       "4                                    1.127163  [{'index': 2, 'value': 1.0}]   \n",
       "5                                   -0.631172  [{'index': 2, 'value': 1.0}]   \n",
       "7                                    0.634829  [{'index': 2, 'value': 1.0}]   \n",
       "8                                    1.338163  [{'index': 3, 'value': 1.0}]   \n",
       "9                                   -0.279505  [{'index': 3, 'value': 1.0}]   \n",
       "10                                   0.775496  [{'index': 3, 'value': 1.0}]   \n",
       "11                                  -0.771839  [{'index': 2, 'value': 1.0}]   \n",
       "12                                   1.338163  [{'index': 3, 'value': 1.0}]   \n",
       "13                                   0.845829  [{'index': 2, 'value': 1.0}]   \n",
       "16                                   1.408496  [{'index': 3, 'value': 1.0}]   \n",
       "17                                  -0.209171  [{'index': 2, 'value': 1.0}]   \n",
       "18                                   1.197496  [{'index': 3, 'value': 1.0}]   \n",
       "19                                   1.127163  [{'index': 2, 'value': 1.0}]   \n",
       "21                                  -0.209171  [{'index': 2, 'value': 1.0}]   \n",
       "22                                  -0.701505  [{'index': 2, 'value': 1.0}]   \n",
       "24                                  -0.701505  [{'index': 2, 'value': 1.0}]   \n",
       "25                                  -0.771839  [{'index': 3, 'value': 1.0}]   \n",
       "26                                  -0.982839  [{'index': 2, 'value': 1.0}]   \n",
       "28                                  -0.771839  [{'index': 2, 'value': 1.0}]   \n",
       "29                                    1.90083  [{'index': 3, 'value': 1.0}]   \n",
       "30                                  -0.560838  [{'index': 2, 'value': 1.0}]   \n",
       "31                                   0.916163  [{'index': 2, 'value': 1.0}]   \n",
       "32                                   0.353496  [{'index': 3, 'value': 1.0}]   \n",
       "\n",
       "                   onehotencoded_species  \n",
       "penguin_id                                \n",
       "0           [{'index': 3, 'value': 1.0}]  \n",
       "1           [{'index': 3, 'value': 1.0}]  \n",
       "4           [{'index': 3, 'value': 1.0}]  \n",
       "5           [{'index': 1, 'value': 1.0}]  \n",
       "7           [{'index': 3, 'value': 1.0}]  \n",
       "8           [{'index': 3, 'value': 1.0}]  \n",
       "9           [{'index': 1, 'value': 1.0}]  \n",
       "10          [{'index': 2, 'value': 1.0}]  \n",
       "11          [{'index': 1, 'value': 1.0}]  \n",
       "12          [{'index': 3, 'value': 1.0}]  \n",
       "13          [{'index': 3, 'value': 1.0}]  \n",
       "16          [{'index': 3, 'value': 1.0}]  \n",
       "17          [{'index': 1, 'value': 1.0}]  \n",
       "18          [{'index': 3, 'value': 1.0}]  \n",
       "19          [{'index': 3, 'value': 1.0}]  \n",
       "21          [{'index': 2, 'value': 1.0}]  \n",
       "22          [{'index': 1, 'value': 1.0}]  \n",
       "24          [{'index': 1, 'value': 1.0}]  \n",
       "25          [{'index': 1, 'value': 1.0}]  \n",
       "26          [{'index': 1, 'value': 1.0}]  \n",
       "28          [{'index': 1, 'value': 1.0}]  \n",
       "29          [{'index': 3, 'value': 1.0}]  \n",
       "30          [{'index': 2, 'value': 1.0}]  \n",
       "31          [{'index': 3, 'value': 1.0}]  \n",
       "32          [{'index': 2, 'value': 1.0}]  \n",
       "...\n",
       "\n",
       "[267 rows x 6 columns]"
      ]
     },
     "execution_count": 7,
     "metadata": {},
     "output_type": "execute_result"
    }
   ],
   "source": [
    "from bigframes.ml.compose import ColumnTransformer\n",
    "from bigframes.ml.preprocessing import OneHotEncoder\n",
    "\n",
    "# Create an aggregate transform that applies StandardScaler to the numeric columns,\n",
    "# and OneHotEncoder to the string columns\n",
    "preproc = ColumnTransformer([\n",
    "    (\"scale\", StandardScaler(), [\"culmen_length_mm\", \"culmen_depth_mm\", \"flipper_length_mm\"]),\n",
    "    (\"encode\", OneHotEncoder(), [\"species\", \"sex\", \"island\"])])\n",
    "\n",
    "# Now we can fit all columns of the training data\n",
    "preproc.fit(X_train)\n",
    "\n",
    "processed_X_train = preproc.transform(X_train)\n",
    "processed_X_test = preproc.transform(X_test)\n",
    "\n",
    "processed_X_train"
   ]
  },
  {
   "cell_type": "markdown",
   "metadata": {},
   "source": [
    "### Predictors\n",
    "\n",
    "Predictors are estimators that learn and make predictions. In addition to `.fit(...)`, the predictor implements a `.predict(...)` method, which will use what was learned during `.fit(...)` to predict some output.\n",
    "\n",
    "Predictors can be further broken down into two categories:\n",
    "\n",
    "#### Supervised predictors\n",
    "\n",
    "Supervised learning is when we train a model on input-output pairs, and then ask it to predict the output for new inputs. An example of such a predictor is `bigframes.ml.linear_models.LinearRegression`."
   ]
  },
  {
   "cell_type": "code",
   "execution_count": 8,
   "metadata": {},
   "outputs": [
    {
     "data": {
      "text/html": [
       "Query job 8d08fd69-61af-4f95-8a8b-378b1f719ecf is DONE. 21.4 kB processed. <a target=\"_blank\" href=\"https://console.cloud.google.com/bigquery?project=bqstackdemo&j=bq:US:8d08fd69-61af-4f95-8a8b-378b1f719ecf&page=queryresults\">Open Job</a>"
      ],
      "text/plain": [
       "<IPython.core.display.HTML object>"
      ]
     },
     "metadata": {},
     "output_type": "display_data"
    },
    {
     "data": {
      "text/html": [
       "Query job 4c4aec70-a2a4-4263-a7c1-6c027997bc47 is DONE. 28.9 kB processed. <a target=\"_blank\" href=\"https://console.cloud.google.com/bigquery?project=bqstackdemo&j=bq:US:4c4aec70-a2a4-4263-a7c1-6c027997bc47&page=queryresults\">Open Job</a>"
      ],
      "text/plain": [
       "<IPython.core.display.HTML object>"
      ]
     },
     "metadata": {},
     "output_type": "display_data"
    },
    {
     "data": {
      "text/html": [
       "Query job 42afaa7b-e073-4a97-ab9c-d355b89912cc is DONE. 0 Bytes processed. <a target=\"_blank\" href=\"https://console.cloud.google.com/bigquery?project=bqstackdemo&j=bq:US:42afaa7b-e073-4a97-ab9c-d355b89912cc&page=queryresults\">Open Job</a>"
      ],
      "text/plain": [
       "<IPython.core.display.HTML object>"
      ]
     },
     "metadata": {},
     "output_type": "display_data"
    },
    {
     "data": {
      "text/html": [
       "Query job 0772909c-b55c-4a98-80b6-39447b12d9d7 is DONE. 5.7 kB processed. <a target=\"_blank\" href=\"https://console.cloud.google.com/bigquery?project=bqstackdemo&j=bq:US:0772909c-b55c-4a98-80b6-39447b12d9d7&page=queryresults\">Open Job</a>"
      ],
      "text/plain": [
       "<IPython.core.display.HTML object>"
      ]
     },
     "metadata": {},
     "output_type": "display_data"
    },
    {
     "data": {
      "text/html": [
       "Query job 42532e11-c224-40e9-b141-31ae5fbab10c is DONE. 536 Bytes processed. <a target=\"_blank\" href=\"https://console.cloud.google.com/bigquery?project=bqstackdemo&j=bq:US:42532e11-c224-40e9-b141-31ae5fbab10c&page=queryresults\">Open Job</a>"
      ],
      "text/plain": [
       "<IPython.core.display.HTML object>"
      ]
     },
     "metadata": {},
     "output_type": "display_data"
    },
    {
     "data": {
      "text/html": [
       "Query job a910ab78-b320-455c-a5ef-87767252c0f7 is DONE. 0 Bytes processed. <a target=\"_blank\" href=\"https://console.cloud.google.com/bigquery?project=bqstackdemo&j=bq:US:a910ab78-b320-455c-a5ef-87767252c0f7&page=queryresults\">Open Job</a>"
      ],
      "text/plain": [
       "<IPython.core.display.HTML object>"
      ]
     },
     "metadata": {},
     "output_type": "display_data"
    },
    {
     "data": {
      "text/html": [
       "Query job f009cb37-c6ed-4da8-ad72-d596eed75f0f is DONE. 1.1 kB processed. <a target=\"_blank\" href=\"https://console.cloud.google.com/bigquery?project=bqstackdemo&j=bq:US:f009cb37-c6ed-4da8-ad72-d596eed75f0f&page=queryresults\">Open Job</a>"
      ],
      "text/plain": [
       "<IPython.core.display.HTML object>"
      ]
     },
     "metadata": {},
     "output_type": "display_data"
    },
    {
     "data": {
      "text/html": [
       "<div>\n",
       "<style scoped>\n",
       "    .dataframe tbody tr th:only-of-type {\n",
       "        vertical-align: middle;\n",
       "    }\n",
       "\n",
       "    .dataframe tbody tr th {\n",
       "        vertical-align: top;\n",
       "    }\n",
       "\n",
       "    .dataframe thead th {\n",
       "        text-align: right;\n",
       "    }\n",
       "</style>\n",
       "<table border=\"1\" class=\"dataframe\">\n",
       "  <thead>\n",
       "    <tr style=\"text-align: right;\">\n",
       "      <th></th>\n",
       "      <th>predicted_body_mass_g</th>\n",
       "    </tr>\n",
       "    <tr>\n",
       "      <th>penguin_id</th>\n",
       "      <th></th>\n",
       "    </tr>\n",
       "  </thead>\n",
       "  <tbody>\n",
       "    <tr>\n",
       "      <th>2</th>\n",
       "      <td>4091.429391</td>\n",
       "    </tr>\n",
       "    <tr>\n",
       "      <th>3</th>\n",
       "      <td>3311.639644</td>\n",
       "    </tr>\n",
       "    <tr>\n",
       "      <th>14</th>\n",
       "      <td>3343.000454</td>\n",
       "    </tr>\n",
       "    <tr>\n",
       "      <th>15</th>\n",
       "      <td>3916.46808</td>\n",
       "    </tr>\n",
       "    <tr>\n",
       "      <th>20</th>\n",
       "      <td>4588.140941</td>\n",
       "    </tr>\n",
       "    <tr>\n",
       "      <th>27</th>\n",
       "      <td>3392.166301</td>\n",
       "    </tr>\n",
       "    <tr>\n",
       "      <th>34</th>\n",
       "      <td>4224.344845</td>\n",
       "    </tr>\n",
       "    <tr>\n",
       "      <th>67</th>\n",
       "      <td>5200.833055</td>\n",
       "    </tr>\n",
       "    <tr>\n",
       "      <th>68</th>\n",
       "      <td>4051.930559</td>\n",
       "    </tr>\n",
       "    <tr>\n",
       "      <th>75</th>\n",
       "      <td>3966.128585</td>\n",
       "    </tr>\n",
       "    <tr>\n",
       "      <th>77</th>\n",
       "      <td>5516.139522</td>\n",
       "    </tr>\n",
       "    <tr>\n",
       "      <th>79</th>\n",
       "      <td>5273.185707</td>\n",
       "    </tr>\n",
       "    <tr>\n",
       "      <th>80</th>\n",
       "      <td>3372.793719</td>\n",
       "    </tr>\n",
       "    <tr>\n",
       "      <th>96</th>\n",
       "      <td>3444.510678</td>\n",
       "    </tr>\n",
       "    <tr>\n",
       "      <th>100</th>\n",
       "      <td>3566.005297</td>\n",
       "    </tr>\n",
       "    <tr>\n",
       "      <th>113</th>\n",
       "      <td>5669.408736</td>\n",
       "    </tr>\n",
       "    <tr>\n",
       "      <th>114</th>\n",
       "      <td>3639.53367</td>\n",
       "    </tr>\n",
       "    <tr>\n",
       "      <th>120</th>\n",
       "      <td>3966.106167</td>\n",
       "    </tr>\n",
       "    <tr>\n",
       "      <th>121</th>\n",
       "      <td>4742.626273</td>\n",
       "    </tr>\n",
       "    <tr>\n",
       "      <th>124</th>\n",
       "      <td>5343.463575</td>\n",
       "    </tr>\n",
       "    <tr>\n",
       "      <th>125</th>\n",
       "      <td>5476.885419</td>\n",
       "    </tr>\n",
       "    <tr>\n",
       "      <th>133</th>\n",
       "      <td>4278.977661</td>\n",
       "    </tr>\n",
       "    <tr>\n",
       "      <th>134</th>\n",
       "      <td>4539.009244</td>\n",
       "    </tr>\n",
       "    <tr>\n",
       "      <th>135</th>\n",
       "      <td>3319.258593</td>\n",
       "    </tr>\n",
       "    <tr>\n",
       "      <th>142</th>\n",
       "      <td>4645.632917</td>\n",
       "    </tr>\n",
       "  </tbody>\n",
       "</table>\n",
       "<p>25 rows × 1 columns</p>\n",
       "</div>[67 rows x 1 columns in total]"
      ],
      "text/plain": [
       "            predicted_body_mass_g\n",
       "penguin_id                       \n",
       "2                     4091.429391\n",
       "3                     3311.639644\n",
       "14                    3343.000454\n",
       "15                     3916.46808\n",
       "20                    4588.140941\n",
       "27                    3392.166301\n",
       "34                    4224.344845\n",
       "67                    5200.833055\n",
       "68                    4051.930559\n",
       "75                    3966.128585\n",
       "77                    5516.139522\n",
       "79                    5273.185707\n",
       "80                    3372.793719\n",
       "96                    3444.510678\n",
       "100                   3566.005297\n",
       "113                   5669.408736\n",
       "114                    3639.53367\n",
       "120                   3966.106167\n",
       "121                   4742.626273\n",
       "124                   5343.463575\n",
       "125                   5476.885419\n",
       "133                   4278.977661\n",
       "134                   4539.009244\n",
       "135                   3319.258593\n",
       "142                   4645.632917\n",
       "...\n",
       "\n",
       "[67 rows x 1 columns]"
      ]
     },
     "execution_count": 8,
     "metadata": {},
     "output_type": "execute_result"
    }
   ],
   "source": [
    "from bigframes.ml.linear_model import LinearRegression\n",
    "\n",
    "linreg = LinearRegression()\n",
    "\n",
    "# Learn from the training data how to predict output y\n",
    "linreg.fit(processed_X_train, y_train)\n",
    "\n",
    "# Predict y for the test data\n",
    "predicted_y_test = linreg.predict(processed_X_test)\n",
    "\n",
    "predicted_y_test"
   ]
  },
  {
   "cell_type": "markdown",
   "metadata": {},
   "source": [
    "#### Unsupervised predictors\n",
    "\n",
    "In unsupervised learning, there are no known outputs in the training data, instead the model learns on input data alone and predicts something else. An example of an unsupervised predictor is `bigframes.ml.cluster.KMeans`, which learns how to fit input data to a target number of clusters."
   ]
  },
  {
   "cell_type": "code",
   "execution_count": 9,
   "metadata": {},
   "outputs": [
    {
     "data": {
      "text/html": [
       "Query job 1b2e7a7c-2578-4199-89ef-cb67208ddbbd is DONE. 23.5 kB processed. <a target=\"_blank\" href=\"https://console.cloud.google.com/bigquery?project=bqstackdemo&j=bq:US:1b2e7a7c-2578-4199-89ef-cb67208ddbbd&page=queryresults\">Open Job</a>"
      ],
      "text/plain": [
       "<IPython.core.display.HTML object>"
      ]
     },
     "metadata": {},
     "output_type": "display_data"
    },
    {
     "data": {
      "text/html": [
       "Query job b7327bd3-c558-4342-b078-cb5d02f4d5c7 is DONE. 0 Bytes processed. <a target=\"_blank\" href=\"https://console.cloud.google.com/bigquery?project=bqstackdemo&j=bq:US:b7327bd3-c558-4342-b078-cb5d02f4d5c7&page=queryresults\">Open Job</a>"
      ],
      "text/plain": [
       "<IPython.core.display.HTML object>"
      ]
     },
     "metadata": {},
     "output_type": "display_data"
    },
    {
     "data": {
      "text/html": [
       "Query job d4d6f584-00e3-45ff-b8ed-0f2277cca547 is DONE. 6.1 kB processed. <a target=\"_blank\" href=\"https://console.cloud.google.com/bigquery?project=bqstackdemo&j=bq:US:d4d6f584-00e3-45ff-b8ed-0f2277cca547&page=queryresults\">Open Job</a>"
      ],
      "text/plain": [
       "<IPython.core.display.HTML object>"
      ]
     },
     "metadata": {},
     "output_type": "display_data"
    },
    {
     "data": {
      "text/html": [
       "Query job 1fdab034-0af6-425b-90ef-13f1530ebca1 is DONE. 536 Bytes processed. <a target=\"_blank\" href=\"https://console.cloud.google.com/bigquery?project=bqstackdemo&j=bq:US:1fdab034-0af6-425b-90ef-13f1530ebca1&page=queryresults\">Open Job</a>"
      ],
      "text/plain": [
       "<IPython.core.display.HTML object>"
      ]
     },
     "metadata": {},
     "output_type": "display_data"
    },
    {
     "data": {
      "text/html": [
       "Query job e912600b-39b1-4eb0-87e1-2bc5e6c530e0 is DONE. 0 Bytes processed. <a target=\"_blank\" href=\"https://console.cloud.google.com/bigquery?project=bqstackdemo&j=bq:US:e912600b-39b1-4eb0-87e1-2bc5e6c530e0&page=queryresults\">Open Job</a>"
      ],
      "text/plain": [
       "<IPython.core.display.HTML object>"
      ]
     },
     "metadata": {},
     "output_type": "display_data"
    },
    {
     "data": {
      "text/html": [
       "Query job d6ce1bea-7f0c-4107-81fc-9e021fe7ecaf is DONE. 1.1 kB processed. <a target=\"_blank\" href=\"https://console.cloud.google.com/bigquery?project=bqstackdemo&j=bq:US:d6ce1bea-7f0c-4107-81fc-9e021fe7ecaf&page=queryresults\">Open Job</a>"
      ],
      "text/plain": [
       "<IPython.core.display.HTML object>"
      ]
     },
     "metadata": {},
     "output_type": "display_data"
    },
    {
     "data": {
      "text/html": [
       "<div>\n",
       "<style scoped>\n",
       "    .dataframe tbody tr th:only-of-type {\n",
       "        vertical-align: middle;\n",
       "    }\n",
       "\n",
       "    .dataframe tbody tr th {\n",
       "        vertical-align: top;\n",
       "    }\n",
       "\n",
       "    .dataframe thead th {\n",
       "        text-align: right;\n",
       "    }\n",
       "</style>\n",
       "<table border=\"1\" class=\"dataframe\">\n",
       "  <thead>\n",
       "    <tr style=\"text-align: right;\">\n",
       "      <th></th>\n",
       "      <th>CENTROID_ID</th>\n",
       "    </tr>\n",
       "    <tr>\n",
       "      <th>penguin_id</th>\n",
       "      <th></th>\n",
       "    </tr>\n",
       "  </thead>\n",
       "  <tbody>\n",
       "    <tr>\n",
       "      <th>2</th>\n",
       "      <td>3</td>\n",
       "    </tr>\n",
       "    <tr>\n",
       "      <th>3</th>\n",
       "      <td>3</td>\n",
       "    </tr>\n",
       "    <tr>\n",
       "      <th>14</th>\n",
       "      <td>1</td>\n",
       "    </tr>\n",
       "    <tr>\n",
       "      <th>15</th>\n",
       "      <td>3</td>\n",
       "    </tr>\n",
       "    <tr>\n",
       "      <th>20</th>\n",
       "      <td>4</td>\n",
       "    </tr>\n",
       "    <tr>\n",
       "      <th>27</th>\n",
       "      <td>1</td>\n",
       "    </tr>\n",
       "    <tr>\n",
       "      <th>34</th>\n",
       "      <td>3</td>\n",
       "    </tr>\n",
       "    <tr>\n",
       "      <th>67</th>\n",
       "      <td>4</td>\n",
       "    </tr>\n",
       "    <tr>\n",
       "      <th>68</th>\n",
       "      <td>3</td>\n",
       "    </tr>\n",
       "    <tr>\n",
       "      <th>75</th>\n",
       "      <td>3</td>\n",
       "    </tr>\n",
       "    <tr>\n",
       "      <th>77</th>\n",
       "      <td>4</td>\n",
       "    </tr>\n",
       "    <tr>\n",
       "      <th>79</th>\n",
       "      <td>4</td>\n",
       "    </tr>\n",
       "    <tr>\n",
       "      <th>80</th>\n",
       "      <td>1</td>\n",
       "    </tr>\n",
       "    <tr>\n",
       "      <th>96</th>\n",
       "      <td>3</td>\n",
       "    </tr>\n",
       "    <tr>\n",
       "      <th>100</th>\n",
       "      <td>3</td>\n",
       "    </tr>\n",
       "    <tr>\n",
       "      <th>113</th>\n",
       "      <td>4</td>\n",
       "    </tr>\n",
       "    <tr>\n",
       "      <th>114</th>\n",
       "      <td>3</td>\n",
       "    </tr>\n",
       "    <tr>\n",
       "      <th>120</th>\n",
       "      <td>3</td>\n",
       "    </tr>\n",
       "    <tr>\n",
       "      <th>121</th>\n",
       "      <td>4</td>\n",
       "    </tr>\n",
       "    <tr>\n",
       "      <th>124</th>\n",
       "      <td>4</td>\n",
       "    </tr>\n",
       "    <tr>\n",
       "      <th>125</th>\n",
       "      <td>4</td>\n",
       "    </tr>\n",
       "    <tr>\n",
       "      <th>133</th>\n",
       "      <td>3</td>\n",
       "    </tr>\n",
       "    <tr>\n",
       "      <th>134</th>\n",
       "      <td>4</td>\n",
       "    </tr>\n",
       "    <tr>\n",
       "      <th>135</th>\n",
       "      <td>3</td>\n",
       "    </tr>\n",
       "    <tr>\n",
       "      <th>142</th>\n",
       "      <td>4</td>\n",
       "    </tr>\n",
       "  </tbody>\n",
       "</table>\n",
       "<p>25 rows × 1 columns</p>\n",
       "</div>[67 rows x 1 columns in total]"
      ],
      "text/plain": [
       "            CENTROID_ID\n",
       "penguin_id             \n",
       "2                     3\n",
       "3                     3\n",
       "14                    1\n",
       "15                    3\n",
       "20                    4\n",
       "27                    1\n",
       "34                    3\n",
       "67                    4\n",
       "68                    3\n",
       "75                    3\n",
       "77                    4\n",
       "79                    4\n",
       "80                    1\n",
       "96                    3\n",
       "100                   3\n",
       "113                   4\n",
       "114                   3\n",
       "120                   3\n",
       "121                   4\n",
       "124                   4\n",
       "125                   4\n",
       "133                   3\n",
       "134                   4\n",
       "135                   3\n",
       "142                   4\n",
       "...\n",
       "\n",
       "[67 rows x 1 columns]"
      ]
     },
     "execution_count": 9,
     "metadata": {},
     "output_type": "execute_result"
    }
   ],
   "source": [
    "from bigframes.ml.cluster import KMeans\n",
    "\n",
    "kmeans = KMeans(n_clusters=4)\n",
    "\n",
    "kmeans.fit(processed_X_train)\n",
    "\n",
    "kmeans.predict(processed_X_test)"
   ]
  },
  {
   "cell_type": "markdown",
   "metadata": {},
   "source": [
    "## Pipelines\n",
    "\n",
    "Transfomers and predictors can be chained into a single estimator component using `bigframes.ml.pipeline.Pipeline`:"
   ]
  },
  {
   "cell_type": "code",
   "execution_count": null,
   "metadata": {},
   "outputs": [],
   "source": [
    "from bigframes.ml.pipeline import Pipeline\n",
    "\n",
    "pipeline = Pipeline([\n",
    "  ('preproc', preproc),\n",
    "  ('linreg', linreg)\n",
    "])\n",
    "\n",
    "# Print our pipeline\n",
    "pipeline"
   ]
  },
  {
   "cell_type": "markdown",
   "metadata": {},
   "source": [
    "The pipeline simplifies the workflow by applying each of its component steps automatically:"
   ]
  },
  {
   "cell_type": "code",
   "execution_count": null,
   "metadata": {},
   "outputs": [
    {
     "data": {
      "text/html": [
       "Query job caa15306-245c-4549-948f-0dd3ee78a8a6 is DONE. 24.7 kB processed. <a target=\"_blank\" href=\"https://console.cloud.google.com/bigquery?project=bqstackdemo&j=bq:US:caa15306-245c-4549-948f-0dd3ee78a8a6&page=queryresults\">Open Job</a>"
      ],
      "text/plain": [
       "<IPython.core.display.HTML object>"
      ]
     },
     "metadata": {},
     "output_type": "display_data"
    },
    {
     "data": {
      "text/html": [
       "Query job 2aef8f3b-17e7-4b79-92af-0b244f0ecbfb is RUNNING. <a target=\"_blank\" href=\"https://console.cloud.google.com/bigquery?project=bqstackdemo&j=bq:US:2aef8f3b-17e7-4b79-92af-0b244f0ecbfb&page=queryresults\">Open Job</a>"
      ],
      "text/plain": [
       "<IPython.core.display.HTML object>"
      ]
     },
     "metadata": {},
     "output_type": "display_data"
    }
   ],
   "source": [
    "pipeline.fit(X_train, y_train)\n",
    "\n",
    "predicted_y_test = pipeline.predict(X_test)\n",
    "predicted_y_test"
   ]
  },
  {
   "cell_type": "markdown",
   "metadata": {},
   "source": [
    "In the backend, a pipeline will actually be compiled into a single model with an embedded TRANSFORM step."
   ]
  },
  {
   "cell_type": "markdown",
   "metadata": {},
   "source": [
    "## Evaluating results\n",
    "\n",
    "Some models include a convenient `.score(X, y)` method for evaulation with a preset accuracy metric:"
   ]
  },
  {
   "cell_type": "code",
   "execution_count": null,
   "metadata": {},
   "outputs": [],
   "source": [
    "# In the case of a pipeline, this will be equivalent to calling .score on the contained LinearRegression\n",
    "pipeline.score(X_test, y_test)"
   ]
  },
  {
   "cell_type": "markdown",
   "metadata": {},
   "source": [
    "For a more general approach, the library `bigframes.ml.metrics` is provided:"
   ]
  },
  {
   "cell_type": "code",
   "execution_count": null,
   "metadata": {},
   "outputs": [],
   "source": [
    "from bigframes.ml.metrics import r2_score\n",
    "\n",
    "r2_score(y_test, predicted_y_test[\"predicted_body_mass_g\"])"
   ]
  },
  {
   "cell_type": "markdown",
   "metadata": {},
   "source": [
    "## Save/Load to BigQuery\n",
    "\n",
    "Estimators can be saved to BigQuery as BQML models, and loaded again in future.\n",
    "\n",
    "Saving requires `bigquery.tables.create` permission, and loading requires `bigquery.models.getMetadata` permission.\n",
    "These permissions can be at project level or the dataset level.\n",
    "\n",
    "If you have those permissions, please go ahead and uncomment the code in the following cells and run."
   ]
  },
  {
   "cell_type": "code",
   "execution_count": 15,
   "metadata": {},
   "outputs": [],
   "source": [
    "# # Replace with a path where you have permission to save a model\n",
    "# model_name = \"bigframes-dev.bqml_tutorial.penguins_model\"\n",
    "\n",
    "# linreg.to_gbq(model_name, replace=True)"
   ]
  },
  {
   "cell_type": "code",
   "execution_count": 16,
   "metadata": {},
   "outputs": [],
   "source": [
    "# # WARNING - until b/281709360 is fixed & pipeline is updated, pipelines will load as models,\n",
    "# # and details of their transform steps will be lost (the loaded model will behave the same)\n",
    "# bigframes.pandas.read_gbq_model(model_name)"
   ]
  }
 ],
 "metadata": {
  "environment": {
   "kernel": "python3",
   "name": "common-cpu.m111",
   "type": "gcloud",
   "uri": "gcr.io/deeplearning-platform-release/base-cpu:m111"
  },
  "kernelspec": {
   "display_name": "Python 3",
   "language": "python",
   "name": "python3"
  },
  "language_info": {
   "codemirror_mode": {
    "name": "ipython",
    "version": 3
   },
   "file_extension": ".py",
   "mimetype": "text/x-python",
   "name": "python",
   "nbconvert_exporter": "python",
   "pygments_lexer": "ipython3",
   "version": "3.10.12"
  },
  "vscode": {
   "interpreter": {
    "hash": "a850322d07d9bdc9ec5f301d307e048bcab2390ae395e1cbce9335f4e081e5e2"
   }
  }
 },
 "nbformat": 4,
 "nbformat_minor": 4
}
