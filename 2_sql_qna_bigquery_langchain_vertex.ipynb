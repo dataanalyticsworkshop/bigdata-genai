{
 "cells": [
  {
   "cell_type": "code",
   "execution_count": null,
   "metadata": {
    "id": "N0JtIbUV-Teg"
   },
   "outputs": [],
   "source": [
    "# Copyright 2023 Google LLC\n",
    "#\n",
    "# Licensed under the Apache License, Version 2.0 (the \"License\");\n",
    "# you may not use this file except in compliance with the License.\n",
    "# You may obtain a copy of the License at\n",
    "#\n",
    "#     https://www.apache.org/licenses/LICENSE-2.0\n",
    "#\n",
    "# Unless required by applicable law or agreed to in writing, software\n",
    "# distributed under the License is distributed on an \"AS IS\" BASIS,\n",
    "# WITHOUT WARRANTIES OR CONDITIONS OF ANY KIND, either express or implied.\n",
    "# See the License for the specific language governing permissions and\n",
    "# limitations under the License."
   ]
  },
  {
   "cell_type": "markdown",
   "metadata": {
    "id": "nWKmZBiRSbO7"
   },
   "source": [
    "# QnA with BigQuery using langchain & Vertex PALM API\n"
   ]
  },
  {
   "cell_type": "markdown",
   "metadata": {
    "id": "j9BPkBzhTDzn"
   },
   "source": [
    "This notebook guides you on how to use of LLM to answer questions over a BigQuery table.\n",
    "You will access Vertex PALM API to generate SQL query and execute it agains BigQuery Tables.\n"
   ]
  },
  {
   "cell_type": "markdown",
   "metadata": {
    "id": "UEv34vVKxR9k"
   },
   "source": [
    "### Install latest Vertex LLM SDK"
   ]
  },
  {
   "cell_type": "code",
   "execution_count": null,
   "metadata": {
    "id": "DtJU7su79db8"
   },
   "outputs": [],
   "source": [
    "# Authenticate with Google account\n",
    "# run the following lines ONLY if you use Google Colab\n",
    "\n",
    "#from google.colab import auth as google_auth\n",
    "#google_auth.authenticate_user()"
   ]
  },
  {
   "cell_type": "code",
   "execution_count": 1,
   "metadata": {
    "colab": {
     "base_uri": "https://localhost:8080/"
    },
    "id": "lzgVKo1I9h30",
    "outputId": "bd1b3173-18d8-449e-97bb-8e28d376c766"
   },
   "outputs": [
    {
     "name": "stdout",
     "output_type": "stream",
     "text": [
      "Found existing installation: google-cloud-aiplatform 1.36.4\n",
      "Uninstalling google-cloud-aiplatform-1.36.4:\n",
      "  Successfully uninstalled google-cloud-aiplatform-1.36.4\n",
      "Collecting google-cloud-aiplatform\n",
      "  Obtaining dependency information for google-cloud-aiplatform from https://files.pythonhosted.org/packages/f9/00/13c8a1c052d8205875c888281a34ea10a181d5ca7b6d2003c28fb1da1a03/google_cloud_aiplatform-1.36.4-py2.py3-none-any.whl.metadata\n",
      "  Using cached google_cloud_aiplatform-1.36.4-py2.py3-none-any.whl.metadata (27 kB)\n",
      "Requirement already satisfied: google-api-core[grpc]!=2.0.*,!=2.1.*,!=2.2.*,!=2.3.*,!=2.4.*,!=2.5.*,!=2.6.*,!=2.7.*,<3.0.0dev,>=1.32.0 in /opt/conda/lib/python3.10/site-packages (from google-cloud-aiplatform) (1.34.0)\n",
      "Requirement already satisfied: proto-plus<2.0.0dev,>=1.22.0 in /opt/conda/lib/python3.10/site-packages (from google-cloud-aiplatform) (1.22.3)\n",
      "Requirement already satisfied: protobuf!=3.20.0,!=3.20.1,!=4.21.0,!=4.21.1,!=4.21.2,!=4.21.3,!=4.21.4,!=4.21.5,<5.0.0dev,>=3.19.5 in /opt/conda/lib/python3.10/site-packages (from google-cloud-aiplatform) (3.20.3)\n",
      "Requirement already satisfied: packaging>=14.3 in /opt/conda/lib/python3.10/site-packages (from google-cloud-aiplatform) (23.1)\n",
      "Requirement already satisfied: google-cloud-storage<3.0.0dev,>=1.32.0 in /opt/conda/lib/python3.10/site-packages (from google-cloud-aiplatform) (2.11.0)\n",
      "Requirement already satisfied: google-cloud-bigquery<4.0.0dev,>=1.15.0 in /opt/conda/lib/python3.10/site-packages (from google-cloud-aiplatform) (3.13.0)\n",
      "Requirement already satisfied: google-cloud-resource-manager<3.0.0dev,>=1.3.3 in /opt/conda/lib/python3.10/site-packages (from google-cloud-aiplatform) (1.10.3)\n",
      "Requirement already satisfied: shapely<3.0.0dev in /opt/conda/lib/python3.10/site-packages (from google-cloud-aiplatform) (1.8.5.post1)\n",
      "Requirement already satisfied: googleapis-common-protos<2.0dev,>=1.56.2 in /opt/conda/lib/python3.10/site-packages (from google-api-core[grpc]!=2.0.*,!=2.1.*,!=2.2.*,!=2.3.*,!=2.4.*,!=2.5.*,!=2.6.*,!=2.7.*,<3.0.0dev,>=1.32.0->google-cloud-aiplatform) (1.60.0)\n",
      "Requirement already satisfied: google-auth<3.0dev,>=1.25.0 in /opt/conda/lib/python3.10/site-packages (from google-api-core[grpc]!=2.0.*,!=2.1.*,!=2.2.*,!=2.3.*,!=2.4.*,!=2.5.*,!=2.6.*,!=2.7.*,<3.0.0dev,>=1.32.0->google-cloud-aiplatform) (2.22.0)\n",
      "Requirement already satisfied: requests<3.0.0dev,>=2.18.0 in /opt/conda/lib/python3.10/site-packages (from google-api-core[grpc]!=2.0.*,!=2.1.*,!=2.2.*,!=2.3.*,!=2.4.*,!=2.5.*,!=2.6.*,!=2.7.*,<3.0.0dev,>=1.32.0->google-cloud-aiplatform) (2.31.0)\n",
      "Requirement already satisfied: grpcio<2.0dev,>=1.33.2 in /opt/conda/lib/python3.10/site-packages (from google-api-core[grpc]!=2.0.*,!=2.1.*,!=2.2.*,!=2.3.*,!=2.4.*,!=2.5.*,!=2.6.*,!=2.7.*,<3.0.0dev,>=1.32.0->google-cloud-aiplatform) (1.57.0)\n",
      "Requirement already satisfied: grpcio-status<2.0dev,>=1.33.2 in /opt/conda/lib/python3.10/site-packages (from google-api-core[grpc]!=2.0.*,!=2.1.*,!=2.2.*,!=2.3.*,!=2.4.*,!=2.5.*,!=2.6.*,!=2.7.*,<3.0.0dev,>=1.32.0->google-cloud-aiplatform) (1.48.2)\n",
      "Requirement already satisfied: google-cloud-core<3.0.0dev,>=1.6.0 in /opt/conda/lib/python3.10/site-packages (from google-cloud-bigquery<4.0.0dev,>=1.15.0->google-cloud-aiplatform) (2.3.3)\n",
      "Requirement already satisfied: google-resumable-media<3.0dev,>=0.6.0 in /opt/conda/lib/python3.10/site-packages (from google-cloud-bigquery<4.0.0dev,>=1.15.0->google-cloud-aiplatform) (2.6.0)\n",
      "Requirement already satisfied: python-dateutil<3.0dev,>=2.7.2 in /opt/conda/lib/python3.10/site-packages (from google-cloud-bigquery<4.0.0dev,>=1.15.0->google-cloud-aiplatform) (2.8.2)\n",
      "Requirement already satisfied: grpc-google-iam-v1<1.0.0dev,>=0.12.4 in /opt/conda/lib/python3.10/site-packages (from google-cloud-resource-manager<3.0.0dev,>=1.3.3->google-cloud-aiplatform) (0.12.6)\n",
      "Requirement already satisfied: cachetools<6.0,>=2.0.0 in /opt/conda/lib/python3.10/site-packages (from google-auth<3.0dev,>=1.25.0->google-api-core[grpc]!=2.0.*,!=2.1.*,!=2.2.*,!=2.3.*,!=2.4.*,!=2.5.*,!=2.6.*,!=2.7.*,<3.0.0dev,>=1.32.0->google-cloud-aiplatform) (5.3.1)\n",
      "Requirement already satisfied: pyasn1-modules>=0.2.1 in /opt/conda/lib/python3.10/site-packages (from google-auth<3.0dev,>=1.25.0->google-api-core[grpc]!=2.0.*,!=2.1.*,!=2.2.*,!=2.3.*,!=2.4.*,!=2.5.*,!=2.6.*,!=2.7.*,<3.0.0dev,>=1.32.0->google-cloud-aiplatform) (0.3.0)\n",
      "Requirement already satisfied: rsa<5,>=3.1.4 in /opt/conda/lib/python3.10/site-packages (from google-auth<3.0dev,>=1.25.0->google-api-core[grpc]!=2.0.*,!=2.1.*,!=2.2.*,!=2.3.*,!=2.4.*,!=2.5.*,!=2.6.*,!=2.7.*,<3.0.0dev,>=1.32.0->google-cloud-aiplatform) (4.9)\n",
      "Requirement already satisfied: six>=1.9.0 in /opt/conda/lib/python3.10/site-packages (from google-auth<3.0dev,>=1.25.0->google-api-core[grpc]!=2.0.*,!=2.1.*,!=2.2.*,!=2.3.*,!=2.4.*,!=2.5.*,!=2.6.*,!=2.7.*,<3.0.0dev,>=1.32.0->google-cloud-aiplatform) (1.16.0)\n",
      "Requirement already satisfied: urllib3<2.0 in /opt/conda/lib/python3.10/site-packages (from google-auth<3.0dev,>=1.25.0->google-api-core[grpc]!=2.0.*,!=2.1.*,!=2.2.*,!=2.3.*,!=2.4.*,!=2.5.*,!=2.6.*,!=2.7.*,<3.0.0dev,>=1.32.0->google-cloud-aiplatform) (1.26.16)\n",
      "Requirement already satisfied: google-crc32c<2.0dev,>=1.0 in /opt/conda/lib/python3.10/site-packages (from google-resumable-media<3.0dev,>=0.6.0->google-cloud-bigquery<4.0.0dev,>=1.15.0->google-cloud-aiplatform) (1.5.0)\n",
      "Requirement already satisfied: charset-normalizer<4,>=2 in /opt/conda/lib/python3.10/site-packages (from requests<3.0.0dev,>=2.18.0->google-api-core[grpc]!=2.0.*,!=2.1.*,!=2.2.*,!=2.3.*,!=2.4.*,!=2.5.*,!=2.6.*,!=2.7.*,<3.0.0dev,>=1.32.0->google-cloud-aiplatform) (3.2.0)\n",
      "Requirement already satisfied: idna<4,>=2.5 in /opt/conda/lib/python3.10/site-packages (from requests<3.0.0dev,>=2.18.0->google-api-core[grpc]!=2.0.*,!=2.1.*,!=2.2.*,!=2.3.*,!=2.4.*,!=2.5.*,!=2.6.*,!=2.7.*,<3.0.0dev,>=1.32.0->google-cloud-aiplatform) (3.4)\n",
      "Requirement already satisfied: certifi>=2017.4.17 in /opt/conda/lib/python3.10/site-packages (from requests<3.0.0dev,>=2.18.0->google-api-core[grpc]!=2.0.*,!=2.1.*,!=2.2.*,!=2.3.*,!=2.4.*,!=2.5.*,!=2.6.*,!=2.7.*,<3.0.0dev,>=1.32.0->google-cloud-aiplatform) (2023.7.22)\n",
      "Requirement already satisfied: pyasn1<0.6.0,>=0.4.6 in /opt/conda/lib/python3.10/site-packages (from pyasn1-modules>=0.2.1->google-auth<3.0dev,>=1.25.0->google-api-core[grpc]!=2.0.*,!=2.1.*,!=2.2.*,!=2.3.*,!=2.4.*,!=2.5.*,!=2.6.*,!=2.7.*,<3.0.0dev,>=1.32.0->google-cloud-aiplatform) (0.5.0)\n",
      "Using cached google_cloud_aiplatform-1.36.4-py2.py3-none-any.whl (3.3 MB)\n",
      "Installing collected packages: google-cloud-aiplatform\n",
      "Successfully installed google-cloud-aiplatform-1.36.4\n",
      "Requirement already satisfied: langchain in /opt/conda/lib/python3.10/site-packages (0.0.314)\n",
      "Requirement already satisfied: langchain-experimental in /opt/conda/lib/python3.10/site-packages (0.0.27)\n",
      "Requirement already satisfied: PyYAML>=5.3 in /opt/conda/lib/python3.10/site-packages (from langchain) (6.0.1)\n",
      "Requirement already satisfied: SQLAlchemy<3,>=1.4 in /opt/conda/lib/python3.10/site-packages (from langchain) (1.4.48)\n",
      "Requirement already satisfied: aiohttp<4.0.0,>=3.8.3 in /opt/conda/lib/python3.10/site-packages (from langchain) (3.8.5)\n",
      "Requirement already satisfied: anyio<4.0 in /opt/conda/lib/python3.10/site-packages (from langchain) (3.7.1)\n",
      "Requirement already satisfied: async-timeout<5.0.0,>=4.0.0 in /opt/conda/lib/python3.10/site-packages (from langchain) (4.0.3)\n",
      "Requirement already satisfied: dataclasses-json<0.7,>=0.5.7 in ./.local/lib/python3.10/site-packages (from langchain) (0.5.14)\n",
      "Requirement already satisfied: jsonpatch<2.0,>=1.33 in /opt/conda/lib/python3.10/site-packages (from langchain) (1.33)\n",
      "Requirement already satisfied: langsmith<0.1.0,>=0.0.43 in /opt/conda/lib/python3.10/site-packages (from langchain) (0.0.43)\n",
      "Requirement already satisfied: numpy<2,>=1 in /opt/conda/lib/python3.10/site-packages (from langchain) (1.26.2)\n",
      "Requirement already satisfied: pydantic<3,>=1 in /opt/conda/lib/python3.10/site-packages (from langchain) (1.10.12)\n",
      "Requirement already satisfied: requests<3,>=2 in /opt/conda/lib/python3.10/site-packages (from langchain) (2.31.0)\n",
      "Requirement already satisfied: tenacity<9.0.0,>=8.1.0 in /opt/conda/lib/python3.10/site-packages (from langchain) (8.2.3)\n",
      "Requirement already satisfied: attrs>=17.3.0 in /opt/conda/lib/python3.10/site-packages (from aiohttp<4.0.0,>=3.8.3->langchain) (23.1.0)\n",
      "Requirement already satisfied: charset-normalizer<4.0,>=2.0 in /opt/conda/lib/python3.10/site-packages (from aiohttp<4.0.0,>=3.8.3->langchain) (3.2.0)\n",
      "Requirement already satisfied: multidict<7.0,>=4.5 in /opt/conda/lib/python3.10/site-packages (from aiohttp<4.0.0,>=3.8.3->langchain) (6.0.4)\n",
      "Requirement already satisfied: yarl<2.0,>=1.0 in /opt/conda/lib/python3.10/site-packages (from aiohttp<4.0.0,>=3.8.3->langchain) (1.9.2)\n",
      "Requirement already satisfied: frozenlist>=1.1.1 in /opt/conda/lib/python3.10/site-packages (from aiohttp<4.0.0,>=3.8.3->langchain) (1.4.0)\n",
      "Requirement already satisfied: aiosignal>=1.1.2 in /opt/conda/lib/python3.10/site-packages (from aiohttp<4.0.0,>=3.8.3->langchain) (1.3.1)\n",
      "Requirement already satisfied: idna>=2.8 in /opt/conda/lib/python3.10/site-packages (from anyio<4.0->langchain) (3.4)\n",
      "Requirement already satisfied: sniffio>=1.1 in /opt/conda/lib/python3.10/site-packages (from anyio<4.0->langchain) (1.3.0)\n",
      "Requirement already satisfied: exceptiongroup in /opt/conda/lib/python3.10/site-packages (from anyio<4.0->langchain) (1.1.3)\n",
      "Requirement already satisfied: marshmallow<4.0.0,>=3.18.0 in /opt/conda/lib/python3.10/site-packages (from dataclasses-json<0.7,>=0.5.7->langchain) (3.20.1)\n",
      "Requirement already satisfied: typing-inspect<1,>=0.4.0 in ./.local/lib/python3.10/site-packages (from dataclasses-json<0.7,>=0.5.7->langchain) (0.8.0)\n",
      "Requirement already satisfied: jsonpointer>=1.9 in /opt/conda/lib/python3.10/site-packages (from jsonpatch<2.0,>=1.33->langchain) (2.0)\n",
      "Requirement already satisfied: typing-extensions>=4.2.0 in /opt/conda/lib/python3.10/site-packages (from pydantic<3,>=1->langchain) (4.7.1)\n",
      "Requirement already satisfied: urllib3<3,>=1.21.1 in /opt/conda/lib/python3.10/site-packages (from requests<3,>=2->langchain) (1.26.16)\n",
      "Requirement already satisfied: certifi>=2017.4.17 in /opt/conda/lib/python3.10/site-packages (from requests<3,>=2->langchain) (2023.7.22)\n",
      "Requirement already satisfied: greenlet!=0.4.17 in /opt/conda/lib/python3.10/site-packages (from SQLAlchemy<3,>=1.4->langchain) (2.0.2)\n",
      "Requirement already satisfied: packaging>=17.0 in /opt/conda/lib/python3.10/site-packages (from marshmallow<4.0.0,>=3.18.0->dataclasses-json<0.7,>=0.5.7->langchain) (23.1)\n",
      "Requirement already satisfied: mypy-extensions>=0.3.0 in /opt/conda/lib/python3.10/site-packages (from typing-inspect<1,>=0.4.0->dataclasses-json<0.7,>=0.5.7->langchain) (1.0.0)\n",
      "Requirement already satisfied: google-cloud-core in /opt/conda/lib/python3.10/site-packages (2.3.3)\n",
      "Requirement already satisfied: google-api-core!=2.0.*,!=2.1.*,!=2.2.*,!=2.3.0,<3.0.0dev,>=1.31.6 in /opt/conda/lib/python3.10/site-packages (from google-cloud-core) (1.34.0)\n",
      "Requirement already satisfied: google-auth<3.0dev,>=1.25.0 in /opt/conda/lib/python3.10/site-packages (from google-cloud-core) (2.22.0)\n",
      "Requirement already satisfied: googleapis-common-protos<2.0dev,>=1.56.2 in /opt/conda/lib/python3.10/site-packages (from google-api-core!=2.0.*,!=2.1.*,!=2.2.*,!=2.3.0,<3.0.0dev,>=1.31.6->google-cloud-core) (1.60.0)\n",
      "Requirement already satisfied: protobuf!=3.20.0,!=3.20.1,!=4.21.0,!=4.21.1,!=4.21.2,!=4.21.3,!=4.21.4,!=4.21.5,<4.0.0dev,>=3.19.5 in /opt/conda/lib/python3.10/site-packages (from google-api-core!=2.0.*,!=2.1.*,!=2.2.*,!=2.3.0,<3.0.0dev,>=1.31.6->google-cloud-core) (3.20.3)\n",
      "Requirement already satisfied: requests<3.0.0dev,>=2.18.0 in /opt/conda/lib/python3.10/site-packages (from google-api-core!=2.0.*,!=2.1.*,!=2.2.*,!=2.3.0,<3.0.0dev,>=1.31.6->google-cloud-core) (2.31.0)\n",
      "Requirement already satisfied: cachetools<6.0,>=2.0.0 in /opt/conda/lib/python3.10/site-packages (from google-auth<3.0dev,>=1.25.0->google-cloud-core) (5.3.1)\n",
      "Requirement already satisfied: pyasn1-modules>=0.2.1 in /opt/conda/lib/python3.10/site-packages (from google-auth<3.0dev,>=1.25.0->google-cloud-core) (0.3.0)\n",
      "Requirement already satisfied: rsa<5,>=3.1.4 in /opt/conda/lib/python3.10/site-packages (from google-auth<3.0dev,>=1.25.0->google-cloud-core) (4.9)\n",
      "Requirement already satisfied: six>=1.9.0 in /opt/conda/lib/python3.10/site-packages (from google-auth<3.0dev,>=1.25.0->google-cloud-core) (1.16.0)\n",
      "Requirement already satisfied: urllib3<2.0 in /opt/conda/lib/python3.10/site-packages (from google-auth<3.0dev,>=1.25.0->google-cloud-core) (1.26.16)\n",
      "Requirement already satisfied: pyasn1<0.6.0,>=0.4.6 in /opt/conda/lib/python3.10/site-packages (from pyasn1-modules>=0.2.1->google-auth<3.0dev,>=1.25.0->google-cloud-core) (0.5.0)\n",
      "Requirement already satisfied: charset-normalizer<4,>=2 in /opt/conda/lib/python3.10/site-packages (from requests<3.0.0dev,>=2.18.0->google-api-core!=2.0.*,!=2.1.*,!=2.2.*,!=2.3.0,<3.0.0dev,>=1.31.6->google-cloud-core) (3.2.0)\n",
      "Requirement already satisfied: idna<4,>=2.5 in /opt/conda/lib/python3.10/site-packages (from requests<3.0.0dev,>=2.18.0->google-api-core!=2.0.*,!=2.1.*,!=2.2.*,!=2.3.0,<3.0.0dev,>=1.31.6->google-cloud-core) (3.4)\n",
      "Requirement already satisfied: certifi>=2017.4.17 in /opt/conda/lib/python3.10/site-packages (from requests<3.0.0dev,>=2.18.0->google-api-core!=2.0.*,!=2.1.*,!=2.2.*,!=2.3.0,<3.0.0dev,>=1.31.6->google-cloud-core) (2023.7.22)\n",
      "Requirement already satisfied: sqlalchemy-bigquery in /opt/conda/lib/python3.10/site-packages (1.8.0)\n",
      "Requirement already satisfied: google-api-core!=2.0.*,!=2.1.*,!=2.2.*,!=2.3.0,<3.0.0dev,>=1.31.5 in /opt/conda/lib/python3.10/site-packages (from sqlalchemy-bigquery) (1.34.0)\n",
      "Requirement already satisfied: google-auth<3.0.0dev,>=1.25.0 in /opt/conda/lib/python3.10/site-packages (from sqlalchemy-bigquery) (2.22.0)\n",
      "Requirement already satisfied: google-cloud-bigquery<4.0.0dev,>=2.25.2 in /opt/conda/lib/python3.10/site-packages (from sqlalchemy-bigquery) (3.13.0)\n",
      "Requirement already satisfied: packaging in /opt/conda/lib/python3.10/site-packages (from sqlalchemy-bigquery) (23.1)\n",
      "Requirement already satisfied: sqlalchemy<2.0.0dev,>=1.2.0 in /opt/conda/lib/python3.10/site-packages (from sqlalchemy-bigquery) (1.4.48)\n",
      "Requirement already satisfied: googleapis-common-protos<2.0dev,>=1.56.2 in /opt/conda/lib/python3.10/site-packages (from google-api-core!=2.0.*,!=2.1.*,!=2.2.*,!=2.3.0,<3.0.0dev,>=1.31.5->sqlalchemy-bigquery) (1.60.0)\n",
      "Requirement already satisfied: protobuf!=3.20.0,!=3.20.1,!=4.21.0,!=4.21.1,!=4.21.2,!=4.21.3,!=4.21.4,!=4.21.5,<4.0.0dev,>=3.19.5 in /opt/conda/lib/python3.10/site-packages (from google-api-core!=2.0.*,!=2.1.*,!=2.2.*,!=2.3.0,<3.0.0dev,>=1.31.5->sqlalchemy-bigquery) (3.20.3)\n",
      "Requirement already satisfied: requests<3.0.0dev,>=2.18.0 in /opt/conda/lib/python3.10/site-packages (from google-api-core!=2.0.*,!=2.1.*,!=2.2.*,!=2.3.0,<3.0.0dev,>=1.31.5->sqlalchemy-bigquery) (2.31.0)\n",
      "Requirement already satisfied: cachetools<6.0,>=2.0.0 in /opt/conda/lib/python3.10/site-packages (from google-auth<3.0.0dev,>=1.25.0->sqlalchemy-bigquery) (5.3.1)\n",
      "Requirement already satisfied: pyasn1-modules>=0.2.1 in /opt/conda/lib/python3.10/site-packages (from google-auth<3.0.0dev,>=1.25.0->sqlalchemy-bigquery) (0.3.0)\n",
      "Requirement already satisfied: rsa<5,>=3.1.4 in /opt/conda/lib/python3.10/site-packages (from google-auth<3.0.0dev,>=1.25.0->sqlalchemy-bigquery) (4.9)\n",
      "Requirement already satisfied: six>=1.9.0 in /opt/conda/lib/python3.10/site-packages (from google-auth<3.0.0dev,>=1.25.0->sqlalchemy-bigquery) (1.16.0)\n",
      "Requirement already satisfied: urllib3<2.0 in /opt/conda/lib/python3.10/site-packages (from google-auth<3.0.0dev,>=1.25.0->sqlalchemy-bigquery) (1.26.16)\n",
      "Requirement already satisfied: grpcio<2.0dev,>=1.47.0 in /opt/conda/lib/python3.10/site-packages (from google-cloud-bigquery<4.0.0dev,>=2.25.2->sqlalchemy-bigquery) (1.57.0)\n",
      "Requirement already satisfied: proto-plus<2.0.0dev,>=1.15.0 in /opt/conda/lib/python3.10/site-packages (from google-cloud-bigquery<4.0.0dev,>=2.25.2->sqlalchemy-bigquery) (1.22.3)\n",
      "Requirement already satisfied: google-cloud-core<3.0.0dev,>=1.6.0 in /opt/conda/lib/python3.10/site-packages (from google-cloud-bigquery<4.0.0dev,>=2.25.2->sqlalchemy-bigquery) (2.3.3)\n",
      "Requirement already satisfied: google-resumable-media<3.0dev,>=0.6.0 in /opt/conda/lib/python3.10/site-packages (from google-cloud-bigquery<4.0.0dev,>=2.25.2->sqlalchemy-bigquery) (2.6.0)\n",
      "Requirement already satisfied: python-dateutil<3.0dev,>=2.7.2 in /opt/conda/lib/python3.10/site-packages (from google-cloud-bigquery<4.0.0dev,>=2.25.2->sqlalchemy-bigquery) (2.8.2)\n",
      "Requirement already satisfied: greenlet!=0.4.17 in /opt/conda/lib/python3.10/site-packages (from sqlalchemy<2.0.0dev,>=1.2.0->sqlalchemy-bigquery) (2.0.2)\n",
      "Requirement already satisfied: grpcio-status<2.0dev,>=1.33.2 in /opt/conda/lib/python3.10/site-packages (from google-api-core!=2.0.*,!=2.1.*,!=2.2.*,!=2.3.0,<3.0.0dev,>=1.31.5->sqlalchemy-bigquery) (1.48.2)\n",
      "Requirement already satisfied: google-crc32c<2.0dev,>=1.0 in /opt/conda/lib/python3.10/site-packages (from google-resumable-media<3.0dev,>=0.6.0->google-cloud-bigquery<4.0.0dev,>=2.25.2->sqlalchemy-bigquery) (1.5.0)\n",
      "Requirement already satisfied: pyasn1<0.6.0,>=0.4.6 in /opt/conda/lib/python3.10/site-packages (from pyasn1-modules>=0.2.1->google-auth<3.0.0dev,>=1.25.0->sqlalchemy-bigquery) (0.5.0)\n",
      "Requirement already satisfied: charset-normalizer<4,>=2 in /opt/conda/lib/python3.10/site-packages (from requests<3.0.0dev,>=2.18.0->google-api-core!=2.0.*,!=2.1.*,!=2.2.*,!=2.3.0,<3.0.0dev,>=1.31.5->sqlalchemy-bigquery) (3.2.0)\n",
      "Requirement already satisfied: idna<4,>=2.5 in /opt/conda/lib/python3.10/site-packages (from requests<3.0.0dev,>=2.18.0->google-api-core!=2.0.*,!=2.1.*,!=2.2.*,!=2.3.0,<3.0.0dev,>=1.31.5->sqlalchemy-bigquery) (3.4)\n",
      "Requirement already satisfied: certifi>=2017.4.17 in /opt/conda/lib/python3.10/site-packages (from requests<3.0.0dev,>=2.18.0->google-api-core!=2.0.*,!=2.1.*,!=2.2.*,!=2.3.0,<3.0.0dev,>=1.31.5->sqlalchemy-bigquery) (2023.7.22)\n"
     ]
    }
   ],
   "source": [
    "#install required libraries\n",
    "\n",
    "!pip3 uninstall -y google-cloud-aiplatform\n",
    "!pip install google-cloud-aiplatform --upgrade\n",
    "!pip install langchain langchain-experimental\n",
    "!pip install google-cloud-core\n",
    "\n",
    "# Install SQLAlchemy for database access to BigQuery\n",
    "!pip install SQLAlchemy --quiet\n",
    "!pip install sqlalchemy-bigquery"
   ]
  },
  {
   "cell_type": "code",
   "execution_count": 2,
   "metadata": {
    "id": "_p0X85UA3aSa"
   },
   "outputs": [],
   "source": [
    "#restart kernel\n",
    "exit()"
   ]
  },
  {
   "cell_type": "markdown",
   "metadata": {
    "id": "aDJshtqgxlsI",
    "tags": []
   },
   "source": [
    "### Initiating BigQuery Parameter & LLM"
   ]
  },
  {
   "cell_type": "code",
   "execution_count": 1,
   "metadata": {
    "cellView": "form",
    "id": "o6eipz3LxgtE"
   },
   "outputs": [],
   "source": [
    "# Change to your project ID!\n",
    "\n",
    "project_id = \"<your_project_id>\" # @param {type:\"string\"}\n",
    "\n",
    "location = \"us-central1\"  # @param {type:\"string\"}\n",
    "dataset_id = 'clinic_dataset' # @param {type:\"string\"}\n",
    "table_name1 = 'customerdata' # @param {type:\"string\"}\n",
    "table_name2 = 'ordertransaction' # @param {type:\"string\"}\n",
    "table_name3 = 'satisfactionsurvey' # @param {type:\"string\"}\n",
    "\n",
    "table_names = (table_name1,table_name2,table_name3)\n",
    "# table_names = (table_name1)"
   ]
  },
  {
   "cell_type": "code",
   "execution_count": 3,
   "metadata": {
    "cellView": "form",
    "id": "C_rSNN-K6f20"
   },
   "outputs": [],
   "source": [
    "# Initialize LangChain and Vertex AI PALM API\n",
    "\n",
    "import pandas as pd\n",
    "from io import StringIO\n",
    "import langchain\n",
    "import vertexai\n",
    "vertexai.init(project=project_id, location=location)\n",
    "from langchain.llms import VertexAI\n",
    "\n",
    "\n",
    "# Text model instance integrated with langChain\n",
    "#create instance of LLM model using Vertex AI PALM\n",
    "llm = VertexAI(\n",
    "    model_name=\"text-bison@001\",\n",
    "    max_output_tokens=1024,\n",
    "    temperature=0.2,\n",
    "    top_p=0.8,\n",
    "    top_k=40,\n",
    "    verbose=True,\n",
    ")"
   ]
  },
  {
   "cell_type": "markdown",
   "metadata": {
    "id": "LqDhLithzJgd"
   },
   "source": [
    "### Create SQL engine for BigQuery using SQLAlchemy"
   ]
  },
  {
   "cell_type": "code",
   "execution_count": 4,
   "metadata": {
    "id": "NmRwdkm9Mm_u"
   },
   "outputs": [],
   "source": [
    "#define SQLAlchemy database engine\n",
    "\n",
    "from sqlalchemy import *\n",
    "from sqlalchemy.engine import create_engine\n",
    "from sqlalchemy.schema import *\n",
    "import pandas as pd"
   ]
  },
  {
   "cell_type": "code",
   "execution_count": 5,
   "metadata": {
    "id": "nBzy1sV51h1e"
   },
   "outputs": [],
   "source": [
    "table_uri = f\"bigquery://{project_id}/{dataset_id}\"\n",
    "engine = create_engine(f\"bigquery://{project_id}/{dataset_id}\")"
   ]
  },
  {
   "cell_type": "code",
   "execution_count": 7,
   "metadata": {
    "colab": {
     "base_uri": "https://localhost:8080/"
    },
    "id": "2_8Jr90a104A",
    "outputId": "04a90505-cca3-45ef-d02a-f83c0d740162"
   },
   "outputs": [
    {
     "data": {
      "text/plain": [
       "(31, 'Mickey Mouse', '1950-01-01', 'Jakarta', 'Indonesia', 'YES', 'Bachelor')"
      ]
     },
     "execution_count": 7,
     "metadata": {},
     "output_type": "execute_result"
    }
   ],
   "source": [
    "#Testing all tables\n",
    "\n",
    "query=f\"\"\"SELECT * FROM {project_id}.{dataset_id}.{table_name1}\"\"\"\n",
    "engine.execute(query).first()"
   ]
  },
  {
   "cell_type": "code",
   "execution_count": 8,
   "metadata": {
    "colab": {
     "base_uri": "https://localhost:8080/"
    },
    "id": "B66bo-RKK266",
    "outputId": "5fbeccad-23f7-4078-c817-cc80b6139d5f"
   },
   "outputs": [
    {
     "data": {
      "text/plain": [
       "('TX3008', 27, 'Surabaya', '2022-01-08', 'Eye Care', 800000, 'Ema')"
      ]
     },
     "execution_count": 8,
     "metadata": {},
     "output_type": "execute_result"
    }
   ],
   "source": [
    "query=f\"\"\"SELECT * FROM {project_id}.{dataset_id}.{table_name2}\"\"\"\n",
    "engine.execute(query).first()"
   ]
  },
  {
   "cell_type": "code",
   "execution_count": 9,
   "metadata": {
    "colab": {
     "base_uri": "https://localhost:8080/"
    },
    "id": "Cw2oOnvkK3QD",
    "outputId": "fd876cd5-4de1-4227-adb1-f86184cbbbb0"
   },
   "outputs": [
    {
     "data": {
      "text/plain": [
       "('TX3070', 61)"
      ]
     },
     "execution_count": 9,
     "metadata": {},
     "output_type": "execute_result"
    }
   ],
   "source": [
    "query=f\"\"\"SELECT * FROM {project_id}.{dataset_id}.{table_name3}\"\"\"\n",
    "engine.execute(query).first()"
   ]
  },
  {
   "cell_type": "markdown",
   "metadata": {
    "id": "mpW-rMVI0DUZ"
   },
   "source": [
    "### Calling Langchain's SQLDatabase chain & Create LLM Prompt"
   ]
  },
  {
   "cell_type": "code",
   "execution_count": 10,
   "metadata": {
    "id": "7JmfJcgP5EhU"
   },
   "outputs": [],
   "source": [
    "# create SQLDatabase chain and prompt template\n",
    "from langchain.prompts.prompt import PromptTemplate\n",
    "from langchain.utilities import SQLDatabase\n",
    "from langchain_experimental.sql import SQLDatabaseChain\n",
    "\n",
    "def bq_qna(question):\n",
    "  #create SQLDatabase instance from BQ engine\n",
    "  db = SQLDatabase(engine=engine,metadata=MetaData(bind=engine),include_tables=[x for x in table_names])\n",
    "\n",
    "  #create SQL DB Chain with the initialized LLM and above SQLDB instance\n",
    "  db_chain = SQLDatabaseChain.from_llm(llm, db, verbose=True, return_intermediate_steps=True)\n",
    "\n",
    "  #Define prompt for BigQuery SQL generation\n",
    "  _googlesql_prompt = \"\"\"You are a GoogleSQL expert. Given an input question, first create a syntactically correct GoogleSQL query to run, then look at the results of the query and return the answer to the input question.\n",
    "  Unless the user specifies in the question a specific number of examples to obtain, query for at most {top_k} results using the LIMIT clause as per GoogleSQL. You can order the results to return the most informative data in the database.\n",
    "  Never query for all columns from a table. You must query only the columns that are needed to answer the question. Wrap each column name in backticks (`) to denote them as delimited identifiers.\n",
    "  Pay attention to use only the column names you can see in the tables below. Be careful to not query for columns that do not exist. Also, pay attention to which column is in which table.\n",
    "  Use the following format:\n",
    "  Question: \"Question here\"\n",
    "  SQLQuery: \"SQL Query to run\"\n",
    "  SQLResult: \"Result of the SQLQuery\"\n",
    "  Answer: \"Final answer here\"\n",
    "  Only use the following tables:\n",
    "  {table_info}\n",
    "\n",
    "  The join between tables:\n",
    "  one to many join: clinic_dataset.customerdata.custid = clinic_dataset.ordertransaction.custid\n",
    "  one to many join: clinic_dataset.ordertransaction.transactionid = clinic_dataset.satisfactionsurvey.transactionid\n",
    "  \n",
    "  If someone asks for aggregation on a STRING data type column, then CAST column as NUMERIC before you do the aggregation.\n",
    "\n",
    "  If someone asks for specific month or date, always use start date and end date from transactiondate column.\n",
    "  \n",
    "  If someone asks for specific city or location of customer, use city_address column.\n",
    "  \n",
    "  If someone asks for specific city or location of transaction, use transactsitelocation column.\n",
    "\n",
    "  If someone asks for column names in the table, use the following format:\n",
    "  SELECT column_name\n",
    "  FROM `{project_id}.{dataset_id}`.INFORMATION_SCHEMA.COLUMNS\n",
    "  WHERE table_name in {table_info}\n",
    "\n",
    "  Question: {input}\"\"\"\n",
    "\n",
    "  GOOGLESQL_PROMPT = PromptTemplate(\n",
    "      input_variables=[\"input\", \"table_info\", \"top_k\", \"project_id\", \"dataset_id\"],\n",
    "      template=_googlesql_prompt,\n",
    "  )\n",
    "\n",
    "  #passing question to the prompt template\n",
    "  final_prompt = GOOGLESQL_PROMPT.format(input=question, project_id =project_id, dataset_id=dataset_id, table_info=table_names, top_k=10000)\n",
    "\n",
    "  #pass final prompt to SQL Chain\n",
    "  output = db_chain(final_prompt)\n",
    "\n",
    "\n",
    "  return output['result'], output['intermediate_steps'][1]\n"
   ]
  },
  {
   "cell_type": "markdown",
   "metadata": {
    "id": "LAlVAHPe16Xr",
    "tags": []
   },
   "source": [
    "### Testing the SQL Generation"
   ]
  },
  {
   "cell_type": "code",
   "execution_count": 11,
   "metadata": {
    "colab": {
     "base_uri": "https://localhost:8080/"
    },
    "id": "F5wmsihBD4tS",
    "outputId": "11aa1774-23b9-4996-9223-a805c5851a6f"
   },
   "outputs": [
    {
     "name": "stdout",
     "output_type": "stream",
     "text": [
      "\n",
      "\n",
      "\u001b[1m> Entering new SQLDatabaseChain chain...\u001b[0m\n",
      "You are a GoogleSQL expert. Given an input question, first create a syntactically correct GoogleSQL query to run, then look at the results of the query and return the answer to the input question.\n",
      "  Unless the user specifies in the question a specific number of examples to obtain, query for at most 10000 results using the LIMIT clause as per GoogleSQL. You can order the results to return the most informative data in the database.\n",
      "  Never query for all columns from a table. You must query only the columns that are needed to answer the question. Wrap each column name in backticks (`) to denote them as delimited identifiers.\n",
      "  Pay attention to use only the column names you can see in the tables below. Be careful to not query for columns that do not exist. Also, pay attention to which column is in which table.\n",
      "  Use the following format:\n",
      "  Question: \"Question here\"\n",
      "  SQLQuery: \"SQL Query to run\"\n",
      "  SQLResult: \"Result of the SQLQuery\"\n",
      "  Answer: \"Final answer here\"\n",
      "  Only use the following tables:\n",
      "  ('customerdata', 'ordertransaction', 'satisfactionsurvey')\n",
      "\n",
      "  The join between tables:\n",
      "  one to many join: clinic_dataset.customerdata.custid = clinic_dataset.ordertransaction.custid\n",
      "  one to many join: clinic_dataset.ordertransaction.transactionid = clinic_dataset.satisfactionsurvey.transactionid\n",
      "  \n",
      "  If someone asks for aggregation on a STRING data type column, then CAST column as NUMERIC before you do the aggregation.\n",
      "\n",
      "  If someone asks for specific month or date, always use start date and end date from transactiondate column.\n",
      "  \n",
      "  If someone asks for specific city or location of customer, use city_address column.\n",
      "  \n",
      "  If someone asks for specific city or location of transaction, use transactsitelocation column.\n",
      "\n",
      "  If someone asks for column names in the table, use the following format:\n",
      "  SELECT column_name\n",
      "  FROM `bqstackdemo.clinic_dataset`.INFORMATION_SCHEMA.COLUMNS\n",
      "  WHERE table_name in ('customerdata', 'ordertransaction', 'satisfactionsurvey')\n",
      "\n",
      "  Question: show me total order for each customer\n",
      "SQLQuery:\u001b[32;1m\u001b[1;3mSELECT customerdata.custid, COUNT(ordertransaction.transactionid) AS total_order\n",
      "FROM customerdata\n",
      "JOIN ordertransaction ON customerdata.custid = ordertransaction.custid\n",
      "GROUP BY customerdata.custid\n",
      "ORDER BY total_order DESC\n",
      "LIMIT 5\u001b[0m\n",
      "SQLResult: \u001b[33;1m\u001b[1;3m[(42, 9), (51, 9), (49, 9), (48, 9), (55, 9)]\u001b[0m\n",
      "Answer:\u001b[32;1m\u001b[1;3m[42, 51, 49, 48, 55]\u001b[0m\n",
      "\u001b[1m> Finished chain.\u001b[0m\n"
     ]
    },
    {
     "data": {
      "text/plain": [
       "('[42, 51, 49, 48, 55]',\n",
       " 'SELECT customerdata.custid, COUNT(ordertransaction.transactionid) AS total_order\\nFROM customerdata\\nJOIN ordertransaction ON customerdata.custid = ordertransaction.custid\\nGROUP BY customerdata.custid\\nORDER BY total_order DESC\\nLIMIT 5')"
      ]
     },
     "execution_count": 11,
     "metadata": {},
     "output_type": "execute_result"
    }
   ],
   "source": [
    "#Testing sql generation 1\n",
    "bq_qna('show me total order for each customer')"
   ]
  },
  {
   "cell_type": "code",
   "execution_count": 12,
   "metadata": {
    "colab": {
     "base_uri": "https://localhost:8080/"
    },
    "id": "-ypFevIgGNl1",
    "outputId": "1f97b0ad-6339-4fe6-a853-fa9a36bde4a8"
   },
   "outputs": [
    {
     "name": "stdout",
     "output_type": "stream",
     "text": [
      "\n",
      "\n",
      "\u001b[1m> Entering new SQLDatabaseChain chain...\u001b[0m\n",
      "You are a GoogleSQL expert. Given an input question, first create a syntactically correct GoogleSQL query to run, then look at the results of the query and return the answer to the input question.\n",
      "  Unless the user specifies in the question a specific number of examples to obtain, query for at most 10000 results using the LIMIT clause as per GoogleSQL. You can order the results to return the most informative data in the database.\n",
      "  Never query for all columns from a table. You must query only the columns that are needed to answer the question. Wrap each column name in backticks (`) to denote them as delimited identifiers.\n",
      "  Pay attention to use only the column names you can see in the tables below. Be careful to not query for columns that do not exist. Also, pay attention to which column is in which table.\n",
      "  Use the following format:\n",
      "  Question: \"Question here\"\n",
      "  SQLQuery: \"SQL Query to run\"\n",
      "  SQLResult: \"Result of the SQLQuery\"\n",
      "  Answer: \"Final answer here\"\n",
      "  Only use the following tables:\n",
      "  ('customerdata', 'ordertransaction', 'satisfactionsurvey')\n",
      "\n",
      "  The join between tables:\n",
      "  one to many join: clinic_dataset.customerdata.custid = clinic_dataset.ordertransaction.custid\n",
      "  one to many join: clinic_dataset.ordertransaction.transactionid = clinic_dataset.satisfactionsurvey.transactionid\n",
      "  \n",
      "  If someone asks for aggregation on a STRING data type column, then CAST column as NUMERIC before you do the aggregation.\n",
      "\n",
      "  If someone asks for specific month or date, always use start date and end date from transactiondate column.\n",
      "  \n",
      "  If someone asks for specific city or location of customer, use city_address column.\n",
      "  \n",
      "  If someone asks for specific city or location of transaction, use transactsitelocation column.\n",
      "\n",
      "  If someone asks for column names in the table, use the following format:\n",
      "  SELECT column_name\n",
      "  FROM `bqstackdemo.clinic_dataset`.INFORMATION_SCHEMA.COLUMNS\n",
      "  WHERE table_name in ('customerdata', 'ordertransaction', 'satisfactionsurvey')\n",
      "\n",
      "  Question: what is the highest services sold in April 2023\n",
      "SQLQuery:\u001b[32;1m\u001b[1;3mSELECT servicecategory\n",
      "FROM `bqstackdemo.clinic_dataset.ordertransaction`\n",
      "WHERE transactiondate BETWEEN '2023-04-01' AND '2023-04-30'\n",
      "ORDER BY transactionamount DESC\n",
      "LIMIT 1\u001b[0m\n",
      "SQLResult: \u001b[33;1m\u001b[1;3m[('Covid Test',)]\u001b[0m\n",
      "Answer:\u001b[32;1m\u001b[1;3mCovid Test\u001b[0m\n",
      "\u001b[1m> Finished chain.\u001b[0m\n"
     ]
    },
    {
     "data": {
      "text/plain": [
       "('Covid Test',\n",
       " \"SELECT servicecategory\\nFROM `bqstackdemo.clinic_dataset.ordertransaction`\\nWHERE transactiondate BETWEEN '2023-04-01' AND '2023-04-30'\\nORDER BY transactionamount DESC\\nLIMIT 1\")"
      ]
     },
     "execution_count": 12,
     "metadata": {},
     "output_type": "execute_result"
    }
   ],
   "source": [
    "#Testing sql generation\n",
    "bq_qna('what is the highest services sold in April 2023')"
   ]
  },
  {
   "cell_type": "code",
   "execution_count": 13,
   "metadata": {
    "colab": {
     "base_uri": "https://localhost:8080/"
    },
    "id": "78z0zs8cLdJ0",
    "outputId": "cce71140-8cdd-44c2-a05f-a287fdeccafd"
   },
   "outputs": [
    {
     "name": "stdout",
     "output_type": "stream",
     "text": [
      "\n",
      "\n",
      "\u001b[1m> Entering new SQLDatabaseChain chain...\u001b[0m\n",
      "You are a GoogleSQL expert. Given an input question, first create a syntactically correct GoogleSQL query to run, then look at the results of the query and return the answer to the input question.\n",
      "  Unless the user specifies in the question a specific number of examples to obtain, query for at most 10000 results using the LIMIT clause as per GoogleSQL. You can order the results to return the most informative data in the database.\n",
      "  Never query for all columns from a table. You must query only the columns that are needed to answer the question. Wrap each column name in backticks (`) to denote them as delimited identifiers.\n",
      "  Pay attention to use only the column names you can see in the tables below. Be careful to not query for columns that do not exist. Also, pay attention to which column is in which table.\n",
      "  Use the following format:\n",
      "  Question: \"Question here\"\n",
      "  SQLQuery: \"SQL Query to run\"\n",
      "  SQLResult: \"Result of the SQLQuery\"\n",
      "  Answer: \"Final answer here\"\n",
      "  Only use the following tables:\n",
      "  ('customerdata', 'ordertransaction', 'satisfactionsurvey')\n",
      "\n",
      "  The join between tables:\n",
      "  one to many join: clinic_dataset.customerdata.custid = clinic_dataset.ordertransaction.custid\n",
      "  one to many join: clinic_dataset.ordertransaction.transactionid = clinic_dataset.satisfactionsurvey.transactionid\n",
      "  \n",
      "  If someone asks for aggregation on a STRING data type column, then CAST column as NUMERIC before you do the aggregation.\n",
      "\n",
      "  If someone asks for specific month or date, always use start date and end date from transactiondate column.\n",
      "  \n",
      "  If someone asks for specific city or location of customer, use city_address column.\n",
      "  \n",
      "  If someone asks for specific city or location of transaction, use transactsitelocation column.\n",
      "\n",
      "  If someone asks for column names in the table, use the following format:\n",
      "  SELECT column_name\n",
      "  FROM `bqstackdemo.clinic_dataset`.INFORMATION_SCHEMA.COLUMNS\n",
      "  WHERE table_name in ('customerdata', 'ordertransaction', 'satisfactionsurvey')\n",
      "\n",
      "  Question: what are the columns in customer table\n",
      "SQLQuery:\u001b[32;1m\u001b[1;3mSELECT column_name\n",
      "FROM `bqstackdemo.clinic_dataset`.INFORMATION_SCHEMA.COLUMNS\n",
      "WHERE table_name = 'customerdata'\u001b[0m\n",
      "SQLResult: \u001b[33;1m\u001b[1;3m[('custid',), ('custname',), ('dateofbirth',), ('city_address',), ('nationality',), ('memberstatus',), ('education',)]\u001b[0m\n",
      "Answer:\u001b[32;1m\u001b[1;3mAnswer: custid, custname, dateofbirth, city_address, nationality, memberstatus, education\u001b[0m\n",
      "\u001b[1m> Finished chain.\u001b[0m\n"
     ]
    },
    {
     "data": {
      "text/plain": [
       "('Answer: custid, custname, dateofbirth, city_address, nationality, memberstatus, education',\n",
       " \"SELECT column_name\\nFROM `bqstackdemo.clinic_dataset`.INFORMATION_SCHEMA.COLUMNS\\nWHERE table_name = 'customerdata'\")"
      ]
     },
     "execution_count": 13,
     "metadata": {},
     "output_type": "execute_result"
    }
   ],
   "source": [
    "#Testing 3 - Metadata queries\n",
    "bq_qna('what are the columns in customer table')"
   ]
  },
  {
   "cell_type": "code",
   "execution_count": 14,
   "metadata": {
    "colab": {
     "base_uri": "https://localhost:8080/"
    },
    "id": "lNL16fEJMo2b",
    "outputId": "e2d007d8-864a-468d-ed24-8952f12aef57"
   },
   "outputs": [
    {
     "name": "stdout",
     "output_type": "stream",
     "text": [
      "\n",
      "\n",
      "\u001b[1m> Entering new SQLDatabaseChain chain...\u001b[0m\n",
      "You are a GoogleSQL expert. Given an input question, first create a syntactically correct GoogleSQL query to run, then look at the results of the query and return the answer to the input question.\n",
      "  Unless the user specifies in the question a specific number of examples to obtain, query for at most 10000 results using the LIMIT clause as per GoogleSQL. You can order the results to return the most informative data in the database.\n",
      "  Never query for all columns from a table. You must query only the columns that are needed to answer the question. Wrap each column name in backticks (`) to denote them as delimited identifiers.\n",
      "  Pay attention to use only the column names you can see in the tables below. Be careful to not query for columns that do not exist. Also, pay attention to which column is in which table.\n",
      "  Use the following format:\n",
      "  Question: \"Question here\"\n",
      "  SQLQuery: \"SQL Query to run\"\n",
      "  SQLResult: \"Result of the SQLQuery\"\n",
      "  Answer: \"Final answer here\"\n",
      "  Only use the following tables:\n",
      "  ('customerdata', 'ordertransaction', 'satisfactionsurvey')\n",
      "\n",
      "  The join between tables:\n",
      "  one to many join: clinic_dataset.customerdata.custid = clinic_dataset.ordertransaction.custid\n",
      "  one to many join: clinic_dataset.ordertransaction.transactionid = clinic_dataset.satisfactionsurvey.transactionid\n",
      "  \n",
      "  If someone asks for aggregation on a STRING data type column, then CAST column as NUMERIC before you do the aggregation.\n",
      "\n",
      "  If someone asks for specific month or date, always use start date and end date from transactiondate column.\n",
      "  \n",
      "  If someone asks for specific city or location of customer, use city_address column.\n",
      "  \n",
      "  If someone asks for specific city or location of transaction, use transactsitelocation column.\n",
      "\n",
      "  If someone asks for column names in the table, use the following format:\n",
      "  SELECT column_name\n",
      "  FROM `bqstackdemo.clinic_dataset`.INFORMATION_SCHEMA.COLUMNS\n",
      "  WHERE table_name in ('customerdata', 'ordertransaction', 'satisfactionsurvey')\n",
      "\n",
      "  Question: what is the average survey score in each cities\n",
      "SQLQuery:\u001b[32;1m\u001b[1;3mSELECT city_address, AVG(surveyscore) AS average_survey_score\n",
      "FROM clinic_dataset.customerdata AS c\n",
      "JOIN clinic_dataset.ordertransaction AS o ON c.custid = o.custid\n",
      "JOIN clinic_dataset.satisfactionsurvey AS s ON o.transactionid = s.transactionid\n",
      "GROUP BY city_address\n",
      "ORDER BY average_survey_score DESC\u001b[0m\n",
      "SQLResult: \u001b[33;1m\u001b[1;3m[('Medan', 86.66666666666667), ('Bandung', 84.42857142857142), ('Manado', 81.90909090909092), ('Bandar Lampung', 80.93333333333334), ('Palembang', 80.77272727272728), ('Ambon', 80.72727272727273), ('Jakarta', 80.4), ('Makassar', 79.45833333333334), ('Mataram', 78.71428571428571), ('Semarang', 78.57142857142858), ('Pekanbaru', 77.7727272727273), ('Denpasar', 77.66666666666667), ('Banjarmasin', 76.82608695652173), ('Jambi', 76.77272727272728), ('Kupang', 75.2), ('Yogyakarta', 74.71428571428571), ('Pontianak', 74.18181818181819), ('Surabaya', 72.83333333333334), ('Padang', 72.5), ('Jayapura', 71.625)]\u001b[0m\n",
      "Answer:\u001b[32;1m\u001b[1;3mMedan\u001b[0m\n",
      "\u001b[1m> Finished chain.\u001b[0m\n"
     ]
    },
    {
     "data": {
      "text/plain": [
       "('Medan',\n",
       " 'SELECT city_address, AVG(surveyscore) AS average_survey_score\\nFROM clinic_dataset.customerdata AS c\\nJOIN clinic_dataset.ordertransaction AS o ON c.custid = o.custid\\nJOIN clinic_dataset.satisfactionsurvey AS s ON o.transactionid = s.transactionid\\nGROUP BY city_address\\nORDER BY average_survey_score DESC')"
      ]
     },
     "execution_count": 14,
     "metadata": {},
     "output_type": "execute_result"
    }
   ],
   "source": [
    "#Testing sql generation- Joins capability\n",
    "bq_qna('what is the average survey score in each cities')"
   ]
  },
  {
   "cell_type": "code",
   "execution_count": 15,
   "metadata": {},
   "outputs": [
    {
     "name": "stdout",
     "output_type": "stream",
     "text": [
      "\n",
      "\n",
      "\u001b[1m> Entering new SQLDatabaseChain chain...\u001b[0m\n",
      "You are a GoogleSQL expert. Given an input question, first create a syntactically correct GoogleSQL query to run, then look at the results of the query and return the answer to the input question.\n",
      "  Unless the user specifies in the question a specific number of examples to obtain, query for at most 10000 results using the LIMIT clause as per GoogleSQL. You can order the results to return the most informative data in the database.\n",
      "  Never query for all columns from a table. You must query only the columns that are needed to answer the question. Wrap each column name in backticks (`) to denote them as delimited identifiers.\n",
      "  Pay attention to use only the column names you can see in the tables below. Be careful to not query for columns that do not exist. Also, pay attention to which column is in which table.\n",
      "  Use the following format:\n",
      "  Question: \"Question here\"\n",
      "  SQLQuery: \"SQL Query to run\"\n",
      "  SQLResult: \"Result of the SQLQuery\"\n",
      "  Answer: \"Final answer here\"\n",
      "  Only use the following tables:\n",
      "  ('customerdata', 'ordertransaction', 'satisfactionsurvey')\n",
      "\n",
      "  The join between tables:\n",
      "  one to many join: clinic_dataset.customerdata.custid = clinic_dataset.ordertransaction.custid\n",
      "  one to many join: clinic_dataset.ordertransaction.transactionid = clinic_dataset.satisfactionsurvey.transactionid\n",
      "  \n",
      "  If someone asks for aggregation on a STRING data type column, then CAST column as NUMERIC before you do the aggregation.\n",
      "\n",
      "  If someone asks for specific month or date, always use start date and end date from transactiondate column.\n",
      "  \n",
      "  If someone asks for specific city or location of customer, use city_address column.\n",
      "  \n",
      "  If someone asks for specific city or location of transaction, use transactsitelocation column.\n",
      "\n",
      "  If someone asks for column names in the table, use the following format:\n",
      "  SELECT column_name\n",
      "  FROM `bqstackdemo.clinic_dataset`.INFORMATION_SCHEMA.COLUMNS\n",
      "  WHERE table_name in ('customerdata', 'ordertransaction', 'satisfactionsurvey')\n",
      "\n",
      "  Question: tampilkan rata rata hasil survey untuk tiap lokasi transaksi\n",
      "SQLQuery:\u001b[32;1m\u001b[1;3mSELECT transactsitelocation, AVG(surveyscore) AS avg_survey_score\n",
      "FROM `bqstackdemo.clinic_dataset.ordertransaction` AS t1\n",
      "JOIN `bqstackdemo.clinic_dataset.satisfactionsurvey` AS t2\n",
      "ON t1.transactionid = t2.transactionid\n",
      "GROUP BY transactsitelocation\n",
      "ORDER BY avg_survey_score DESC\u001b[0m\n",
      "SQLResult: \u001b[33;1m\u001b[1;3m[('Makassar', 81.91111111111114), ('Bandung', 81.80851063829785), ('Surabaya', 80.35416666666669), ('Medan', 75.6595744680851), ('Semarang', 74.95555555555553), ('Jakarta', 73.40425531914892)]\u001b[0m\n",
      "Answer:\u001b[32;1m\u001b[1;3mMakassar, Bandung, Surabaya, Medan, Semarang, Jakarta\u001b[0m\n",
      "\u001b[1m> Finished chain.\u001b[0m\n"
     ]
    },
    {
     "data": {
      "text/plain": [
       "('Makassar, Bandung, Surabaya, Medan, Semarang, Jakarta',\n",
       " 'SELECT transactsitelocation, AVG(surveyscore) AS avg_survey_score\\nFROM `bqstackdemo.clinic_dataset.ordertransaction` AS t1\\nJOIN `bqstackdemo.clinic_dataset.satisfactionsurvey` AS t2\\nON t1.transactionid = t2.transactionid\\nGROUP BY transactsitelocation\\nORDER BY avg_survey_score DESC')"
      ]
     },
     "execution_count": 15,
     "metadata": {},
     "output_type": "execute_result"
    }
   ],
   "source": [
    "#Testing 4 - Joins & asking in bahasa\n",
    "bq_qna('tampilkan rata rata hasil survey untuk tiap lokasi transaksi')"
   ]
  },
  {
   "cell_type": "code",
   "execution_count": 16,
   "metadata": {},
   "outputs": [
    {
     "name": "stdout",
     "output_type": "stream",
     "text": [
      "\n",
      "\n",
      "\u001b[1m> Entering new SQLDatabaseChain chain...\u001b[0m\n",
      "You are a GoogleSQL expert. Given an input question, first create a syntactically correct GoogleSQL query to run, then look at the results of the query and return the answer to the input question.\n",
      "  Unless the user specifies in the question a specific number of examples to obtain, query for at most 10000 results using the LIMIT clause as per GoogleSQL. You can order the results to return the most informative data in the database.\n",
      "  Never query for all columns from a table. You must query only the columns that are needed to answer the question. Wrap each column name in backticks (`) to denote them as delimited identifiers.\n",
      "  Pay attention to use only the column names you can see in the tables below. Be careful to not query for columns that do not exist. Also, pay attention to which column is in which table.\n",
      "  Use the following format:\n",
      "  Question: \"Question here\"\n",
      "  SQLQuery: \"SQL Query to run\"\n",
      "  SQLResult: \"Result of the SQLQuery\"\n",
      "  Answer: \"Final answer here\"\n",
      "  Only use the following tables:\n",
      "  ('customerdata', 'ordertransaction', 'satisfactionsurvey')\n",
      "\n",
      "  The join between tables:\n",
      "  one to many join: clinic_dataset.customerdata.custid = clinic_dataset.ordertransaction.custid\n",
      "  one to many join: clinic_dataset.ordertransaction.transactionid = clinic_dataset.satisfactionsurvey.transactionid\n",
      "  \n",
      "  If someone asks for aggregation on a STRING data type column, then CAST column as NUMERIC before you do the aggregation.\n",
      "\n",
      "  If someone asks for specific month or date, always use start date and end date from transactiondate column.\n",
      "  \n",
      "  If someone asks for specific city or location of customer, use city_address column.\n",
      "  \n",
      "  If someone asks for specific city or location of transaction, use transactsitelocation column.\n",
      "\n",
      "  If someone asks for column names in the table, use the following format:\n",
      "  SELECT column_name\n",
      "  FROM `bqstackdemo.clinic_dataset`.INFORMATION_SCHEMA.COLUMNS\n",
      "  WHERE table_name in ('customerdata', 'ordertransaction', 'satisfactionsurvey')\n",
      "\n",
      "  Question: tampilkan rata rata hasil survey berdasarkan domisili pelanggan\n",
      "SQLQuery:\u001b[32;1m\u001b[1;3mSELECT city_address, AVG(surveyscore) AS average_survey_score\n",
      "FROM clinic_dataset.customerdata AS c\n",
      "JOIN clinic_dataset.ordertransaction AS o\n",
      "ON c.custid = o.custid\n",
      "JOIN clinic_dataset.satisfactionsurvey AS s\n",
      "ON o.transactionid = s.transactionid\n",
      "GROUP BY city_address\n",
      "ORDER BY average_survey_score DESC\n",
      "LIMIT 5\u001b[0m\n",
      "SQLResult: \u001b[33;1m\u001b[1;3m[('Medan', 86.66666666666667), ('Bandung', 84.42857142857142), ('Manado', 81.90909090909092), ('Bandar Lampung', 80.93333333333334), ('Palembang', 80.77272727272728)]\u001b[0m\n",
      "Answer:\u001b[32;1m\u001b[1;3mMedan, Bandung, Manado, Bandar Lampung, Palembang\u001b[0m\n",
      "\u001b[1m> Finished chain.\u001b[0m\n"
     ]
    },
    {
     "data": {
      "text/plain": [
       "('Medan, Bandung, Manado, Bandar Lampung, Palembang',\n",
       " 'SELECT city_address, AVG(surveyscore) AS average_survey_score\\nFROM clinic_dataset.customerdata AS c\\nJOIN clinic_dataset.ordertransaction AS o\\nON c.custid = o.custid\\nJOIN clinic_dataset.satisfactionsurvey AS s\\nON o.transactionid = s.transactionid\\nGROUP BY city_address\\nORDER BY average_survey_score DESC\\nLIMIT 5')"
      ]
     },
     "execution_count": 16,
     "metadata": {},
     "output_type": "execute_result"
    }
   ],
   "source": [
    "#Testing 4 - Joins & asking in bahasa\n",
    "bq_qna('tampilkan rata rata hasil survey berdasarkan domisili pelanggan')"
   ]
  },
  {
   "cell_type": "code",
   "execution_count": null,
   "metadata": {},
   "outputs": [],
   "source": []
  }
 ],
 "metadata": {
  "colab": {
   "collapsed_sections": [
    "UEv34vVKxR9k",
    "aPh6goEQyKsD",
    "LqDhLithzJgd",
    "mpW-rMVI0DUZ"
   ],
   "provenance": [],
   "toc_visible": true
  },
  "environment": {
   "kernel": "python3",
   "name": "common-cpu.m111",
   "type": "gcloud",
   "uri": "gcr.io/deeplearning-platform-release/base-cpu:m111"
  },
  "kernelspec": {
   "display_name": "Python 3",
   "language": "python",
   "name": "python3"
  },
  "language_info": {
   "codemirror_mode": {
    "name": "ipython",
    "version": 3
   },
   "file_extension": ".py",
   "mimetype": "text/x-python",
   "name": "python",
   "nbconvert_exporter": "python",
   "pygments_lexer": "ipython3",
   "version": "3.10.12"
  }
 },
 "nbformat": 4,
 "nbformat_minor": 4
}
