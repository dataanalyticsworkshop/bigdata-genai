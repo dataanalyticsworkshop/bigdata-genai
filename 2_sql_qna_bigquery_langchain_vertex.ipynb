{
 "cells": [
  {
   "cell_type": "code",
   "execution_count": null,
   "metadata": {
    "id": "N0JtIbUV-Teg"
   },
   "outputs": [],
   "source": [
    "# Copyright 2023 Google LLC\n",
    "#\n",
    "# Licensed under the Apache License, Version 2.0 (the \"License\");\n",
    "# you may not use this file except in compliance with the License.\n",
    "# You may obtain a copy of the License at\n",
    "#\n",
    "#     https://www.apache.org/licenses/LICENSE-2.0\n",
    "#\n",
    "# Unless required by applicable law or agreed to in writing, software\n",
    "# distributed under the License is distributed on an \"AS IS\" BASIS,\n",
    "# WITHOUT WARRANTIES OR CONDITIONS OF ANY KIND, either express or implied.\n",
    "# See the License for the specific language governing permissions and\n",
    "# limitations under the License."
   ]
  },
  {
   "cell_type": "markdown",
   "metadata": {
    "id": "nWKmZBiRSbO7"
   },
   "source": [
    "# QnA with BigQuery using langchain & Vertex PALM API\n"
   ]
  },
  {
   "cell_type": "markdown",
   "metadata": {
    "id": "j9BPkBzhTDzn"
   },
   "source": [
    "This notebook guides you on how to use of LLM to answer questions over a BigQuery table.\n",
    "You will access Vertex PALM API to generate SQL query and execute it agains BigQuery Tables.\n"
   ]
  },
  {
   "cell_type": "markdown",
   "metadata": {
    "id": "UEv34vVKxR9k"
   },
   "source": [
    "### Install latest Vertex LLM SDK"
   ]
  },
  {
   "cell_type": "code",
   "execution_count": null,
   "metadata": {
    "id": "DtJU7su79db8"
   },
   "outputs": [],
   "source": [
    "# Authenticate with Google account\n",
    "# run the following lines ONLY if you use Google Colab\n",
    "\n",
    "#from google.colab import auth as google_auth\n",
    "#google_auth.authenticate_user()"
   ]
  },
  {
   "cell_type": "code",
   "execution_count": 1,
   "metadata": {
    "colab": {
     "base_uri": "https://localhost:8080/"
    },
    "id": "lzgVKo1I9h30",
    "outputId": "bd1b3173-18d8-449e-97bb-8e28d376c766",
    "tags": []
   },
   "outputs": [
    {
     "name": "stdout",
     "output_type": "stream",
     "text": [
      "Found existing installation: google-cloud-aiplatform 1.36.0\n",
      "Uninstalling google-cloud-aiplatform-1.36.0:\n",
      "  Successfully uninstalled google-cloud-aiplatform-1.36.0\n",
      "Collecting google-cloud-aiplatform\n",
      "  Downloading google_cloud_aiplatform-1.36.4-py2.py3-none-any.whl.metadata (27 kB)\n",
      "Requirement already satisfied: google-api-core!=2.0.*,!=2.1.*,!=2.2.*,!=2.3.*,!=2.4.*,!=2.5.*,!=2.6.*,!=2.7.*,<3.0.0dev,>=1.32.0 in /opt/conda/lib/python3.10/site-packages (from google-api-core[grpc]!=2.0.*,!=2.1.*,!=2.2.*,!=2.3.*,!=2.4.*,!=2.5.*,!=2.6.*,!=2.7.*,<3.0.0dev,>=1.32.0->google-cloud-aiplatform) (1.34.0)\n",
      "Requirement already satisfied: proto-plus<2.0.0dev,>=1.22.0 in /opt/conda/lib/python3.10/site-packages (from google-cloud-aiplatform) (1.22.3)\n",
      "Requirement already satisfied: protobuf!=3.20.0,!=3.20.1,!=4.21.0,!=4.21.1,!=4.21.2,!=4.21.3,!=4.21.4,!=4.21.5,<5.0.0dev,>=3.19.5 in /opt/conda/lib/python3.10/site-packages (from google-cloud-aiplatform) (3.20.3)\n",
      "Requirement already satisfied: packaging>=14.3 in /opt/conda/lib/python3.10/site-packages (from google-cloud-aiplatform) (23.2)\n",
      "Requirement already satisfied: google-cloud-storage<3.0.0dev,>=1.32.0 in /opt/conda/lib/python3.10/site-packages (from google-cloud-aiplatform) (2.13.0)\n",
      "Requirement already satisfied: google-cloud-bigquery<4.0.0dev,>=1.15.0 in /opt/conda/lib/python3.10/site-packages (from google-cloud-aiplatform) (3.13.0)\n",
      "Requirement already satisfied: google-cloud-resource-manager<3.0.0dev,>=1.3.3 in /opt/conda/lib/python3.10/site-packages (from google-cloud-aiplatform) (1.10.4)\n",
      "Requirement already satisfied: shapely<3.0.0dev in /opt/conda/lib/python3.10/site-packages (from google-cloud-aiplatform) (2.0.2)\n",
      "Requirement already satisfied: googleapis-common-protos<2.0dev,>=1.56.2 in /opt/conda/lib/python3.10/site-packages (from google-api-core!=2.0.*,!=2.1.*,!=2.2.*,!=2.3.*,!=2.4.*,!=2.5.*,!=2.6.*,!=2.7.*,<3.0.0dev,>=1.32.0->google-api-core[grpc]!=2.0.*,!=2.1.*,!=2.2.*,!=2.3.*,!=2.4.*,!=2.5.*,!=2.6.*,!=2.7.*,<3.0.0dev,>=1.32.0->google-cloud-aiplatform) (1.61.0)\n",
      "Requirement already satisfied: google-auth<3.0dev,>=1.25.0 in /opt/conda/lib/python3.10/site-packages (from google-api-core!=2.0.*,!=2.1.*,!=2.2.*,!=2.3.*,!=2.4.*,!=2.5.*,!=2.6.*,!=2.7.*,<3.0.0dev,>=1.32.0->google-api-core[grpc]!=2.0.*,!=2.1.*,!=2.2.*,!=2.3.*,!=2.4.*,!=2.5.*,!=2.6.*,!=2.7.*,<3.0.0dev,>=1.32.0->google-cloud-aiplatform) (2.23.4)\n",
      "Requirement already satisfied: requests<3.0.0dev,>=2.18.0 in /opt/conda/lib/python3.10/site-packages (from google-api-core!=2.0.*,!=2.1.*,!=2.2.*,!=2.3.*,!=2.4.*,!=2.5.*,!=2.6.*,!=2.7.*,<3.0.0dev,>=1.32.0->google-api-core[grpc]!=2.0.*,!=2.1.*,!=2.2.*,!=2.3.*,!=2.4.*,!=2.5.*,!=2.6.*,!=2.7.*,<3.0.0dev,>=1.32.0->google-cloud-aiplatform) (2.31.0)\n",
      "Requirement already satisfied: grpcio<2.0dev,>=1.33.2 in /opt/conda/lib/python3.10/site-packages (from google-api-core[grpc]!=2.0.*,!=2.1.*,!=2.2.*,!=2.3.*,!=2.4.*,!=2.5.*,!=2.6.*,!=2.7.*,<3.0.0dev,>=1.32.0->google-cloud-aiplatform) (1.59.2)\n",
      "Requirement already satisfied: grpcio-status<2.0dev,>=1.33.2 in /opt/conda/lib/python3.10/site-packages (from google-api-core[grpc]!=2.0.*,!=2.1.*,!=2.2.*,!=2.3.*,!=2.4.*,!=2.5.*,!=2.6.*,!=2.7.*,<3.0.0dev,>=1.32.0->google-cloud-aiplatform) (1.48.2)\n",
      "Requirement already satisfied: google-cloud-core<3.0.0dev,>=1.6.0 in /opt/conda/lib/python3.10/site-packages (from google-cloud-bigquery<4.0.0dev,>=1.15.0->google-cloud-aiplatform) (2.3.3)\n",
      "Requirement already satisfied: google-resumable-media<3.0dev,>=0.6.0 in /opt/conda/lib/python3.10/site-packages (from google-cloud-bigquery<4.0.0dev,>=1.15.0->google-cloud-aiplatform) (2.6.0)\n",
      "Requirement already satisfied: python-dateutil<3.0dev,>=2.7.2 in /opt/conda/lib/python3.10/site-packages (from google-cloud-bigquery<4.0.0dev,>=1.15.0->google-cloud-aiplatform) (2.8.2)\n",
      "Requirement already satisfied: grpc-google-iam-v1<1.0.0dev,>=0.12.4 in /opt/conda/lib/python3.10/site-packages (from google-cloud-resource-manager<3.0.0dev,>=1.3.3->google-cloud-aiplatform) (0.12.6)\n",
      "Requirement already satisfied: google-crc32c<2.0dev,>=1.0 in /opt/conda/lib/python3.10/site-packages (from google-cloud-storage<3.0.0dev,>=1.32.0->google-cloud-aiplatform) (1.5.0)\n",
      "Requirement already satisfied: numpy>=1.14 in /opt/conda/lib/python3.10/site-packages (from shapely<3.0.0dev->google-cloud-aiplatform) (1.25.2)\n",
      "Requirement already satisfied: cachetools<6.0,>=2.0.0 in /opt/conda/lib/python3.10/site-packages (from google-auth<3.0dev,>=1.25.0->google-api-core!=2.0.*,!=2.1.*,!=2.2.*,!=2.3.*,!=2.4.*,!=2.5.*,!=2.6.*,!=2.7.*,<3.0.0dev,>=1.32.0->google-api-core[grpc]!=2.0.*,!=2.1.*,!=2.2.*,!=2.3.*,!=2.4.*,!=2.5.*,!=2.6.*,!=2.7.*,<3.0.0dev,>=1.32.0->google-cloud-aiplatform) (5.3.2)\n",
      "Requirement already satisfied: pyasn1-modules>=0.2.1 in /opt/conda/lib/python3.10/site-packages (from google-auth<3.0dev,>=1.25.0->google-api-core!=2.0.*,!=2.1.*,!=2.2.*,!=2.3.*,!=2.4.*,!=2.5.*,!=2.6.*,!=2.7.*,<3.0.0dev,>=1.32.0->google-api-core[grpc]!=2.0.*,!=2.1.*,!=2.2.*,!=2.3.*,!=2.4.*,!=2.5.*,!=2.6.*,!=2.7.*,<3.0.0dev,>=1.32.0->google-cloud-aiplatform) (0.3.0)\n",
      "Requirement already satisfied: rsa<5,>=3.1.4 in /opt/conda/lib/python3.10/site-packages (from google-auth<3.0dev,>=1.25.0->google-api-core!=2.0.*,!=2.1.*,!=2.2.*,!=2.3.*,!=2.4.*,!=2.5.*,!=2.6.*,!=2.7.*,<3.0.0dev,>=1.32.0->google-api-core[grpc]!=2.0.*,!=2.1.*,!=2.2.*,!=2.3.*,!=2.4.*,!=2.5.*,!=2.6.*,!=2.7.*,<3.0.0dev,>=1.32.0->google-cloud-aiplatform) (4.9)\n",
      "Requirement already satisfied: six>=1.5 in /opt/conda/lib/python3.10/site-packages (from python-dateutil<3.0dev,>=2.7.2->google-cloud-bigquery<4.0.0dev,>=1.15.0->google-cloud-aiplatform) (1.16.0)\n",
      "Requirement already satisfied: charset-normalizer<4,>=2 in /opt/conda/lib/python3.10/site-packages (from requests<3.0.0dev,>=2.18.0->google-api-core!=2.0.*,!=2.1.*,!=2.2.*,!=2.3.*,!=2.4.*,!=2.5.*,!=2.6.*,!=2.7.*,<3.0.0dev,>=1.32.0->google-api-core[grpc]!=2.0.*,!=2.1.*,!=2.2.*,!=2.3.*,!=2.4.*,!=2.5.*,!=2.6.*,!=2.7.*,<3.0.0dev,>=1.32.0->google-cloud-aiplatform) (3.3.2)\n",
      "Requirement already satisfied: idna<4,>=2.5 in /opt/conda/lib/python3.10/site-packages (from requests<3.0.0dev,>=2.18.0->google-api-core!=2.0.*,!=2.1.*,!=2.2.*,!=2.3.*,!=2.4.*,!=2.5.*,!=2.6.*,!=2.7.*,<3.0.0dev,>=1.32.0->google-api-core[grpc]!=2.0.*,!=2.1.*,!=2.2.*,!=2.3.*,!=2.4.*,!=2.5.*,!=2.6.*,!=2.7.*,<3.0.0dev,>=1.32.0->google-cloud-aiplatform) (3.4)\n",
      "Requirement already satisfied: urllib3<3,>=1.21.1 in /opt/conda/lib/python3.10/site-packages (from requests<3.0.0dev,>=2.18.0->google-api-core!=2.0.*,!=2.1.*,!=2.2.*,!=2.3.*,!=2.4.*,!=2.5.*,!=2.6.*,!=2.7.*,<3.0.0dev,>=1.32.0->google-api-core[grpc]!=2.0.*,!=2.1.*,!=2.2.*,!=2.3.*,!=2.4.*,!=2.5.*,!=2.6.*,!=2.7.*,<3.0.0dev,>=1.32.0->google-cloud-aiplatform) (1.26.18)\n",
      "Requirement already satisfied: certifi>=2017.4.17 in /opt/conda/lib/python3.10/site-packages (from requests<3.0.0dev,>=2.18.0->google-api-core!=2.0.*,!=2.1.*,!=2.2.*,!=2.3.*,!=2.4.*,!=2.5.*,!=2.6.*,!=2.7.*,<3.0.0dev,>=1.32.0->google-api-core[grpc]!=2.0.*,!=2.1.*,!=2.2.*,!=2.3.*,!=2.4.*,!=2.5.*,!=2.6.*,!=2.7.*,<3.0.0dev,>=1.32.0->google-cloud-aiplatform) (2023.7.22)\n",
      "Requirement already satisfied: pyasn1<0.6.0,>=0.4.6 in /opt/conda/lib/python3.10/site-packages (from pyasn1-modules>=0.2.1->google-auth<3.0dev,>=1.25.0->google-api-core!=2.0.*,!=2.1.*,!=2.2.*,!=2.3.*,!=2.4.*,!=2.5.*,!=2.6.*,!=2.7.*,<3.0.0dev,>=1.32.0->google-api-core[grpc]!=2.0.*,!=2.1.*,!=2.2.*,!=2.3.*,!=2.4.*,!=2.5.*,!=2.6.*,!=2.7.*,<3.0.0dev,>=1.32.0->google-cloud-aiplatform) (0.5.0)\n",
      "Downloading google_cloud_aiplatform-1.36.4-py2.py3-none-any.whl (3.3 MB)\n",
      "\u001b[2K   \u001b[90m━━━━━━━━━━━━━━━━━━━━━━━━━━━━━━━━━━━━━━━━\u001b[0m \u001b[32m3.3/3.3 MB\u001b[0m \u001b[31m26.8 MB/s\u001b[0m eta \u001b[36m0:00:00\u001b[0m00:01\u001b[0m00:01\u001b[0m\n",
      "\u001b[?25hInstalling collected packages: google-cloud-aiplatform\n",
      "Successfully installed google-cloud-aiplatform-1.36.4\n",
      "Collecting langchain\n",
      "  Downloading langchain-0.0.340-py3-none-any.whl.metadata (16 kB)\n",
      "Collecting langchain-experimental\n",
      "  Downloading langchain_experimental-0.0.42-py3-none-any.whl.metadata (1.8 kB)\n",
      "Requirement already satisfied: PyYAML>=5.3 in /opt/conda/lib/python3.10/site-packages (from langchain) (6.0.1)\n",
      "Requirement already satisfied: SQLAlchemy<3,>=1.4 in /opt/conda/lib/python3.10/site-packages (from langchain) (2.0.23)\n",
      "Requirement already satisfied: aiohttp<4.0.0,>=3.8.3 in /opt/conda/lib/python3.10/site-packages (from langchain) (3.8.6)\n",
      "Requirement already satisfied: anyio<4.0 in /opt/conda/lib/python3.10/site-packages (from langchain) (3.7.1)\n",
      "Requirement already satisfied: async-timeout<5.0.0,>=4.0.0 in /opt/conda/lib/python3.10/site-packages (from langchain) (4.0.3)\n",
      "Collecting dataclasses-json<0.7,>=0.5.7 (from langchain)\n",
      "  Downloading dataclasses_json-0.6.2-py3-none-any.whl.metadata (25 kB)\n",
      "Requirement already satisfied: jsonpatch<2.0,>=1.33 in /opt/conda/lib/python3.10/site-packages (from langchain) (1.33)\n",
      "Collecting langsmith<0.1.0,>=0.0.63 (from langchain)\n",
      "  Downloading langsmith-0.0.66-py3-none-any.whl.metadata (10 kB)\n",
      "Requirement already satisfied: numpy<2,>=1 in /opt/conda/lib/python3.10/site-packages (from langchain) (1.25.2)\n",
      "Requirement already satisfied: pydantic<3,>=1 in /opt/conda/lib/python3.10/site-packages (from langchain) (1.10.13)\n",
      "Requirement already satisfied: requests<3,>=2 in /opt/conda/lib/python3.10/site-packages (from langchain) (2.31.0)\n",
      "Requirement already satisfied: tenacity<9.0.0,>=8.1.0 in /opt/conda/lib/python3.10/site-packages (from langchain) (8.2.3)\n",
      "Requirement already satisfied: attrs>=17.3.0 in /opt/conda/lib/python3.10/site-packages (from aiohttp<4.0.0,>=3.8.3->langchain) (23.1.0)\n",
      "Requirement already satisfied: charset-normalizer<4.0,>=2.0 in /opt/conda/lib/python3.10/site-packages (from aiohttp<4.0.0,>=3.8.3->langchain) (3.3.2)\n",
      "Requirement already satisfied: multidict<7.0,>=4.5 in /opt/conda/lib/python3.10/site-packages (from aiohttp<4.0.0,>=3.8.3->langchain) (6.0.4)\n",
      "Requirement already satisfied: yarl<2.0,>=1.0 in /opt/conda/lib/python3.10/site-packages (from aiohttp<4.0.0,>=3.8.3->langchain) (1.9.2)\n",
      "Requirement already satisfied: frozenlist>=1.1.1 in /opt/conda/lib/python3.10/site-packages (from aiohttp<4.0.0,>=3.8.3->langchain) (1.4.0)\n",
      "Requirement already satisfied: aiosignal>=1.1.2 in /opt/conda/lib/python3.10/site-packages (from aiohttp<4.0.0,>=3.8.3->langchain) (1.3.1)\n",
      "Requirement already satisfied: idna>=2.8 in /opt/conda/lib/python3.10/site-packages (from anyio<4.0->langchain) (3.4)\n",
      "Requirement already satisfied: sniffio>=1.1 in /opt/conda/lib/python3.10/site-packages (from anyio<4.0->langchain) (1.3.0)\n",
      "Requirement already satisfied: exceptiongroup in /opt/conda/lib/python3.10/site-packages (from anyio<4.0->langchain) (1.1.3)\n",
      "Collecting marshmallow<4.0.0,>=3.18.0 (from dataclasses-json<0.7,>=0.5.7->langchain)\n",
      "  Downloading marshmallow-3.20.1-py3-none-any.whl.metadata (7.8 kB)\n",
      "Collecting typing-inspect<1,>=0.4.0 (from dataclasses-json<0.7,>=0.5.7->langchain)\n",
      "  Downloading typing_inspect-0.9.0-py3-none-any.whl.metadata (1.5 kB)\n",
      "Requirement already satisfied: jsonpointer>=1.9 in /opt/conda/lib/python3.10/site-packages (from jsonpatch<2.0,>=1.33->langchain) (2.4)\n",
      "Requirement already satisfied: typing-extensions>=4.2.0 in /opt/conda/lib/python3.10/site-packages (from pydantic<3,>=1->langchain) (4.8.0)\n",
      "Requirement already satisfied: urllib3<3,>=1.21.1 in /opt/conda/lib/python3.10/site-packages (from requests<3,>=2->langchain) (1.26.18)\n",
      "Requirement already satisfied: certifi>=2017.4.17 in /opt/conda/lib/python3.10/site-packages (from requests<3,>=2->langchain) (2023.7.22)\n",
      "Requirement already satisfied: greenlet!=0.4.17 in /opt/conda/lib/python3.10/site-packages (from SQLAlchemy<3,>=1.4->langchain) (3.0.1)\n",
      "Requirement already satisfied: packaging>=17.0 in /opt/conda/lib/python3.10/site-packages (from marshmallow<4.0.0,>=3.18.0->dataclasses-json<0.7,>=0.5.7->langchain) (23.2)\n",
      "Collecting mypy-extensions>=0.3.0 (from typing-inspect<1,>=0.4.0->dataclasses-json<0.7,>=0.5.7->langchain)\n",
      "  Downloading mypy_extensions-1.0.0-py3-none-any.whl (4.7 kB)\n",
      "Downloading langchain-0.0.340-py3-none-any.whl (2.0 MB)\n",
      "\u001b[2K   \u001b[90m━━━━━━━━━━━━━━━━━━━━━━━━━━━━━━━━━━━━━━━━\u001b[0m \u001b[32m2.0/2.0 MB\u001b[0m \u001b[31m29.7 MB/s\u001b[0m eta \u001b[36m0:00:00\u001b[0ma \u001b[36m0:00:01\u001b[0m\n",
      "\u001b[?25hDownloading langchain_experimental-0.0.42-py3-none-any.whl (159 kB)\n",
      "\u001b[2K   \u001b[90m━━━━━━━━━━━━━━━━━━━━━━━━━━━━━━━━━━━━━━━━\u001b[0m \u001b[32m159.4/159.4 kB\u001b[0m \u001b[31m4.8 MB/s\u001b[0m eta \u001b[36m0:00:00\u001b[0m\n",
      "\u001b[?25hDownloading dataclasses_json-0.6.2-py3-none-any.whl (28 kB)\n",
      "Downloading langsmith-0.0.66-py3-none-any.whl (46 kB)\n",
      "\u001b[2K   \u001b[90m━━━━━━━━━━━━━━━━━━━━━━━━━━━━━━━━━━━━━━━━\u001b[0m \u001b[32m46.8/46.8 kB\u001b[0m \u001b[31m5.7 MB/s\u001b[0m eta \u001b[36m0:00:00\u001b[0m\n",
      "\u001b[?25hDownloading marshmallow-3.20.1-py3-none-any.whl (49 kB)\n",
      "\u001b[2K   \u001b[90m━━━━━━━━━━━━━━━━━━━━━━━━━━━━━━━━━━━━━━━━\u001b[0m \u001b[32m49.4/49.4 kB\u001b[0m \u001b[31m6.0 MB/s\u001b[0m eta \u001b[36m0:00:00\u001b[0m\n",
      "\u001b[?25hDownloading typing_inspect-0.9.0-py3-none-any.whl (8.8 kB)\n",
      "Installing collected packages: mypy-extensions, marshmallow, typing-inspect, langsmith, dataclasses-json, langchain, langchain-experimental\n",
      "Successfully installed dataclasses-json-0.6.2 langchain-0.0.340 langchain-experimental-0.0.42 langsmith-0.0.66 marshmallow-3.20.1 mypy-extensions-1.0.0 typing-inspect-0.9.0\n",
      "Requirement already satisfied: google-cloud-core in /opt/conda/lib/python3.10/site-packages (2.3.3)\n",
      "Requirement already satisfied: google-api-core!=2.0.*,!=2.1.*,!=2.2.*,!=2.3.0,<3.0.0dev,>=1.31.6 in /opt/conda/lib/python3.10/site-packages (from google-cloud-core) (1.34.0)\n",
      "Requirement already satisfied: google-auth<3.0dev,>=1.25.0 in /opt/conda/lib/python3.10/site-packages (from google-cloud-core) (2.23.4)\n",
      "Requirement already satisfied: googleapis-common-protos<2.0dev,>=1.56.2 in /opt/conda/lib/python3.10/site-packages (from google-api-core!=2.0.*,!=2.1.*,!=2.2.*,!=2.3.0,<3.0.0dev,>=1.31.6->google-cloud-core) (1.61.0)\n",
      "Requirement already satisfied: protobuf!=3.20.0,!=3.20.1,!=4.21.0,!=4.21.1,!=4.21.2,!=4.21.3,!=4.21.4,!=4.21.5,<4.0.0dev,>=3.19.5 in /opt/conda/lib/python3.10/site-packages (from google-api-core!=2.0.*,!=2.1.*,!=2.2.*,!=2.3.0,<3.0.0dev,>=1.31.6->google-cloud-core) (3.20.3)\n",
      "Requirement already satisfied: requests<3.0.0dev,>=2.18.0 in /opt/conda/lib/python3.10/site-packages (from google-api-core!=2.0.*,!=2.1.*,!=2.2.*,!=2.3.0,<3.0.0dev,>=1.31.6->google-cloud-core) (2.31.0)\n",
      "Requirement already satisfied: cachetools<6.0,>=2.0.0 in /opt/conda/lib/python3.10/site-packages (from google-auth<3.0dev,>=1.25.0->google-cloud-core) (5.3.2)\n",
      "Requirement already satisfied: pyasn1-modules>=0.2.1 in /opt/conda/lib/python3.10/site-packages (from google-auth<3.0dev,>=1.25.0->google-cloud-core) (0.3.0)\n",
      "Requirement already satisfied: rsa<5,>=3.1.4 in /opt/conda/lib/python3.10/site-packages (from google-auth<3.0dev,>=1.25.0->google-cloud-core) (4.9)\n",
      "Requirement already satisfied: pyasn1<0.6.0,>=0.4.6 in /opt/conda/lib/python3.10/site-packages (from pyasn1-modules>=0.2.1->google-auth<3.0dev,>=1.25.0->google-cloud-core) (0.5.0)\n",
      "Requirement already satisfied: charset-normalizer<4,>=2 in /opt/conda/lib/python3.10/site-packages (from requests<3.0.0dev,>=2.18.0->google-api-core!=2.0.*,!=2.1.*,!=2.2.*,!=2.3.0,<3.0.0dev,>=1.31.6->google-cloud-core) (3.3.2)\n",
      "Requirement already satisfied: idna<4,>=2.5 in /opt/conda/lib/python3.10/site-packages (from requests<3.0.0dev,>=2.18.0->google-api-core!=2.0.*,!=2.1.*,!=2.2.*,!=2.3.0,<3.0.0dev,>=1.31.6->google-cloud-core) (3.4)\n",
      "Requirement already satisfied: urllib3<3,>=1.21.1 in /opt/conda/lib/python3.10/site-packages (from requests<3.0.0dev,>=2.18.0->google-api-core!=2.0.*,!=2.1.*,!=2.2.*,!=2.3.0,<3.0.0dev,>=1.31.6->google-cloud-core) (1.26.18)\n",
      "Requirement already satisfied: certifi>=2017.4.17 in /opt/conda/lib/python3.10/site-packages (from requests<3.0.0dev,>=2.18.0->google-api-core!=2.0.*,!=2.1.*,!=2.2.*,!=2.3.0,<3.0.0dev,>=1.31.6->google-cloud-core) (2023.7.22)\n",
      "Collecting sqlalchemy-bigquery\n",
      "  Downloading sqlalchemy_bigquery-1.8.0-py2.py3-none-any.whl.metadata (13 kB)\n",
      "Requirement already satisfied: google-api-core!=2.0.*,!=2.1.*,!=2.2.*,!=2.3.0,<3.0.0dev,>=1.31.5 in /opt/conda/lib/python3.10/site-packages (from sqlalchemy-bigquery) (1.34.0)\n",
      "Requirement already satisfied: google-auth<3.0.0dev,>=1.25.0 in /opt/conda/lib/python3.10/site-packages (from sqlalchemy-bigquery) (2.23.4)\n",
      "Requirement already satisfied: google-cloud-bigquery<4.0.0dev,>=2.25.2 in /opt/conda/lib/python3.10/site-packages (from sqlalchemy-bigquery) (3.13.0)\n",
      "Requirement already satisfied: packaging in /opt/conda/lib/python3.10/site-packages (from sqlalchemy-bigquery) (23.2)\n",
      "Collecting sqlalchemy<2.0.0dev,>=1.2.0 (from sqlalchemy-bigquery)\n",
      "  Downloading SQLAlchemy-1.4.50-cp310-cp310-manylinux_2_5_x86_64.manylinux1_x86_64.manylinux_2_17_x86_64.manylinux2014_x86_64.whl.metadata (10.0 kB)\n",
      "Requirement already satisfied: googleapis-common-protos<2.0dev,>=1.56.2 in /opt/conda/lib/python3.10/site-packages (from google-api-core!=2.0.*,!=2.1.*,!=2.2.*,!=2.3.0,<3.0.0dev,>=1.31.5->sqlalchemy-bigquery) (1.61.0)\n",
      "Requirement already satisfied: protobuf!=3.20.0,!=3.20.1,!=4.21.0,!=4.21.1,!=4.21.2,!=4.21.3,!=4.21.4,!=4.21.5,<4.0.0dev,>=3.19.5 in /opt/conda/lib/python3.10/site-packages (from google-api-core!=2.0.*,!=2.1.*,!=2.2.*,!=2.3.0,<3.0.0dev,>=1.31.5->sqlalchemy-bigquery) (3.20.3)\n",
      "Requirement already satisfied: requests<3.0.0dev,>=2.18.0 in /opt/conda/lib/python3.10/site-packages (from google-api-core!=2.0.*,!=2.1.*,!=2.2.*,!=2.3.0,<3.0.0dev,>=1.31.5->sqlalchemy-bigquery) (2.31.0)\n",
      "Requirement already satisfied: cachetools<6.0,>=2.0.0 in /opt/conda/lib/python3.10/site-packages (from google-auth<3.0.0dev,>=1.25.0->sqlalchemy-bigquery) (5.3.2)\n",
      "Requirement already satisfied: pyasn1-modules>=0.2.1 in /opt/conda/lib/python3.10/site-packages (from google-auth<3.0.0dev,>=1.25.0->sqlalchemy-bigquery) (0.3.0)\n",
      "Requirement already satisfied: rsa<5,>=3.1.4 in /opt/conda/lib/python3.10/site-packages (from google-auth<3.0.0dev,>=1.25.0->sqlalchemy-bigquery) (4.9)\n",
      "Requirement already satisfied: grpcio<2.0dev,>=1.47.0 in /opt/conda/lib/python3.10/site-packages (from google-cloud-bigquery<4.0.0dev,>=2.25.2->sqlalchemy-bigquery) (1.59.2)\n",
      "Requirement already satisfied: proto-plus<2.0.0dev,>=1.15.0 in /opt/conda/lib/python3.10/site-packages (from google-cloud-bigquery<4.0.0dev,>=2.25.2->sqlalchemy-bigquery) (1.22.3)\n",
      "Requirement already satisfied: google-cloud-core<3.0.0dev,>=1.6.0 in /opt/conda/lib/python3.10/site-packages (from google-cloud-bigquery<4.0.0dev,>=2.25.2->sqlalchemy-bigquery) (2.3.3)\n",
      "Requirement already satisfied: google-resumable-media<3.0dev,>=0.6.0 in /opt/conda/lib/python3.10/site-packages (from google-cloud-bigquery<4.0.0dev,>=2.25.2->sqlalchemy-bigquery) (2.6.0)\n",
      "Requirement already satisfied: python-dateutil<3.0dev,>=2.7.2 in /opt/conda/lib/python3.10/site-packages (from google-cloud-bigquery<4.0.0dev,>=2.25.2->sqlalchemy-bigquery) (2.8.2)\n",
      "Requirement already satisfied: greenlet!=0.4.17 in /opt/conda/lib/python3.10/site-packages (from sqlalchemy<2.0.0dev,>=1.2.0->sqlalchemy-bigquery) (3.0.1)\n",
      "Requirement already satisfied: grpcio-status<2.0dev,>=1.33.2 in /opt/conda/lib/python3.10/site-packages (from google-api-core[grpc]!=2.0.*,!=2.1.*,!=2.2.*,!=2.3.0,<3.0.0dev,>=1.31.5->google-cloud-bigquery<4.0.0dev,>=2.25.2->sqlalchemy-bigquery) (1.48.2)\n",
      "Requirement already satisfied: google-crc32c<2.0dev,>=1.0 in /opt/conda/lib/python3.10/site-packages (from google-resumable-media<3.0dev,>=0.6.0->google-cloud-bigquery<4.0.0dev,>=2.25.2->sqlalchemy-bigquery) (1.5.0)\n",
      "Requirement already satisfied: pyasn1<0.6.0,>=0.4.6 in /opt/conda/lib/python3.10/site-packages (from pyasn1-modules>=0.2.1->google-auth<3.0.0dev,>=1.25.0->sqlalchemy-bigquery) (0.5.0)\n",
      "Requirement already satisfied: six>=1.5 in /opt/conda/lib/python3.10/site-packages (from python-dateutil<3.0dev,>=2.7.2->google-cloud-bigquery<4.0.0dev,>=2.25.2->sqlalchemy-bigquery) (1.16.0)\n",
      "Requirement already satisfied: charset-normalizer<4,>=2 in /opt/conda/lib/python3.10/site-packages (from requests<3.0.0dev,>=2.18.0->google-api-core!=2.0.*,!=2.1.*,!=2.2.*,!=2.3.0,<3.0.0dev,>=1.31.5->sqlalchemy-bigquery) (3.3.2)\n",
      "Requirement already satisfied: idna<4,>=2.5 in /opt/conda/lib/python3.10/site-packages (from requests<3.0.0dev,>=2.18.0->google-api-core!=2.0.*,!=2.1.*,!=2.2.*,!=2.3.0,<3.0.0dev,>=1.31.5->sqlalchemy-bigquery) (3.4)\n",
      "Requirement already satisfied: urllib3<3,>=1.21.1 in /opt/conda/lib/python3.10/site-packages (from requests<3.0.0dev,>=2.18.0->google-api-core!=2.0.*,!=2.1.*,!=2.2.*,!=2.3.0,<3.0.0dev,>=1.31.5->sqlalchemy-bigquery) (1.26.18)\n",
      "Requirement already satisfied: certifi>=2017.4.17 in /opt/conda/lib/python3.10/site-packages (from requests<3.0.0dev,>=2.18.0->google-api-core!=2.0.*,!=2.1.*,!=2.2.*,!=2.3.0,<3.0.0dev,>=1.31.5->sqlalchemy-bigquery) (2023.7.22)\n",
      "Downloading sqlalchemy_bigquery-1.8.0-py2.py3-none-any.whl (33 kB)\n",
      "Downloading SQLAlchemy-1.4.50-cp310-cp310-manylinux_2_5_x86_64.manylinux1_x86_64.manylinux_2_17_x86_64.manylinux2014_x86_64.whl (1.6 MB)\n",
      "\u001b[2K   \u001b[90m━━━━━━━━━━━━━━━━━━━━━━━━━━━━━━━━━━━━━━━━\u001b[0m \u001b[32m1.6/1.6 MB\u001b[0m \u001b[31m18.1 MB/s\u001b[0m eta \u001b[36m0:00:00\u001b[0m00:01\u001b[0m00:01\u001b[0m\n",
      "\u001b[?25hInstalling collected packages: sqlalchemy, sqlalchemy-bigquery\n",
      "  Attempting uninstall: sqlalchemy\n",
      "    Found existing installation: SQLAlchemy 2.0.23\n",
      "    Uninstalling SQLAlchemy-2.0.23:\n",
      "      Successfully uninstalled SQLAlchemy-2.0.23\n",
      "\u001b[31mERROR: pip's dependency resolver does not currently take into account all the packages that are installed. This behaviour is the source of the following dependency conflicts.\n",
      "ipython-sql 0.5.0 requires sqlalchemy>=2.0, but you have sqlalchemy 1.4.50 which is incompatible.\u001b[0m\u001b[31m\n",
      "\u001b[0mSuccessfully installed sqlalchemy-1.4.50 sqlalchemy-bigquery-1.8.0\n"
     ]
    }
   ],
   "source": [
    "#install required libraries\n",
    "\n",
    "!pip3 uninstall -y google-cloud-aiplatform\n",
    "!pip install google-cloud-aiplatform --upgrade\n",
    "!pip install langchain langchain-experimental\n",
    "!pip install google-cloud-core\n",
    "\n",
    "# Install SQLAlchemy for database access to BigQuery\n",
    "!pip install SQLAlchemy --quiet\n",
    "!pip install sqlalchemy-bigquery"
   ]
  },
  {
   "cell_type": "code",
   "execution_count": 2,
   "metadata": {
    "id": "_p0X85UA3aSa",
    "tags": []
   },
   "outputs": [],
   "source": [
    "#restart kernel\n",
    "exit()"
   ]
  },
  {
   "cell_type": "markdown",
   "metadata": {
    "id": "aDJshtqgxlsI",
    "tags": []
   },
   "source": [
    "### Initiating BigQuery Parameter & LLM"
   ]
  },
  {
   "cell_type": "code",
   "execution_count": 1,
   "metadata": {
    "cellView": "form",
    "id": "o6eipz3LxgtE",
    "tags": []
   },
   "outputs": [],
   "source": [
    "# Change to your project ID!\n",
    "\n",
    "project_id = \"qwiklabs-gcp-03-cd5e0a266aea\" # @param {type:\"string\"}\n",
    "\n",
    "location = \"us-central1\"  # @param {type:\"string\"}\n",
    "dataset_id = 'clinic_dataset' # @param {type:\"string\"}\n",
    "table_name1 = 'customerdata' # @param {type:\"string\"}\n",
    "table_name2 = 'ordertransaction' # @param {type:\"string\"}\n",
    "table_name3 = 'satisfactionsurvey' # @param {type:\"string\"}\n",
    "\n",
    "table_names = (table_name1,table_name2,table_name3)\n",
    "# table_names = (table_name1)"
   ]
  },
  {
   "cell_type": "code",
   "execution_count": 71,
   "metadata": {
    "cellView": "form",
    "id": "C_rSNN-K6f20",
    "tags": []
   },
   "outputs": [],
   "source": [
    "# Initialize LangChain and Vertex AI PALM API\n",
    "\n",
    "import pandas as pd\n",
    "from io import StringIO\n",
    "import langchain\n",
    "import vertexai\n",
    "vertexai.init(project=project_id, location=location)\n",
    "from langchain.llms import VertexAI\n",
    "\n",
    "\n",
    "# Text model instance integrated with langChain\n",
    "#create instance of LLM model using Vertex AI PALM\n",
    "llm = VertexAI(\n",
    "    model_name=\"text-bison@001\",\n",
    "    max_output_tokens=1024,\n",
    "    temperature=0.1,\n",
    "    top_p=0.8,\n",
    "    top_k=40,\n",
    "    verbose=True,\n",
    ")"
   ]
  },
  {
   "cell_type": "markdown",
   "metadata": {
    "id": "LqDhLithzJgd"
   },
   "source": [
    "### Create SQL engine for BigQuery using SQLAlchemy"
   ]
  },
  {
   "cell_type": "code",
   "execution_count": 72,
   "metadata": {
    "id": "NmRwdkm9Mm_u",
    "tags": []
   },
   "outputs": [],
   "source": [
    "#define SQLAlchemy database engine\n",
    "\n",
    "from sqlalchemy import *\n",
    "from sqlalchemy.engine import create_engine\n",
    "from sqlalchemy.schema import *\n",
    "import pandas as pd"
   ]
  },
  {
   "cell_type": "code",
   "execution_count": 73,
   "metadata": {
    "id": "nBzy1sV51h1e",
    "tags": []
   },
   "outputs": [],
   "source": [
    "table_uri = f\"bigquery://{project_id}/{dataset_id}\"\n",
    "engine = create_engine(f\"bigquery://{project_id}/{dataset_id}\")"
   ]
  },
  {
   "cell_type": "code",
   "execution_count": 74,
   "metadata": {
    "colab": {
     "base_uri": "https://localhost:8080/"
    },
    "id": "2_8Jr90a104A",
    "outputId": "04a90505-cca3-45ef-d02a-f83c0d740162",
    "tags": []
   },
   "outputs": [
    {
     "data": {
      "text/plain": [
       "(31, 'Mickey Mouse', '1950-01-01', 'Jakarta', 'Indonesia', 'YES', 'Bachelor')"
      ]
     },
     "execution_count": 74,
     "metadata": {},
     "output_type": "execute_result"
    }
   ],
   "source": [
    "#Testing all tables\n",
    "\n",
    "query=f\"\"\"SELECT * FROM {project_id}.{dataset_id}.{table_name1}\"\"\"\n",
    "engine.execute(query).first()"
   ]
  },
  {
   "cell_type": "code",
   "execution_count": 75,
   "metadata": {
    "colab": {
     "base_uri": "https://localhost:8080/"
    },
    "id": "B66bo-RKK266",
    "outputId": "5fbeccad-23f7-4078-c817-cc80b6139d5f",
    "tags": []
   },
   "outputs": [
    {
     "data": {
      "text/plain": [
       "('TX3008', 27, 'Surabaya', '2022-01-08', 'Eye Care', 800000, 'Ema')"
      ]
     },
     "execution_count": 75,
     "metadata": {},
     "output_type": "execute_result"
    }
   ],
   "source": [
    "query=f\"\"\"SELECT * FROM {project_id}.{dataset_id}.{table_name2}\"\"\"\n",
    "engine.execute(query).first()"
   ]
  },
  {
   "cell_type": "code",
   "execution_count": 76,
   "metadata": {
    "colab": {
     "base_uri": "https://localhost:8080/"
    },
    "id": "Cw2oOnvkK3QD",
    "outputId": "fd876cd5-4de1-4227-adb1-f86184cbbbb0",
    "tags": []
   },
   "outputs": [
    {
     "data": {
      "text/plain": [
       "('TX3070', 61)"
      ]
     },
     "execution_count": 76,
     "metadata": {},
     "output_type": "execute_result"
    }
   ],
   "source": [
    "query=f\"\"\"SELECT * FROM {project_id}.{dataset_id}.{table_name3}\"\"\"\n",
    "engine.execute(query).first()"
   ]
  },
  {
   "cell_type": "markdown",
   "metadata": {
    "id": "mpW-rMVI0DUZ"
   },
   "source": [
    "### Calling Langchain's SQLDatabase chain & Create LLM Prompt"
   ]
  },
  {
   "cell_type": "code",
   "execution_count": 77,
   "metadata": {
    "id": "7JmfJcgP5EhU",
    "tags": []
   },
   "outputs": [],
   "source": [
    "# create SQLDatabase chain and prompt template\n",
    "from langchain.prompts.prompt import PromptTemplate\n",
    "from langchain.utilities import SQLDatabase\n",
    "from langchain_experimental.sql import SQLDatabaseChain\n",
    "\n",
    "def bq_qna(question):\n",
    "  #create SQLDatabase instance from BQ engine\n",
    "  db = SQLDatabase(engine=engine,metadata=MetaData(bind=engine),include_tables=[x for x in table_names])\n",
    "\n",
    "  #create SQL DB Chain with the initialized LLM and above SQLDB instance\n",
    "  db_chain = SQLDatabaseChain.from_llm(llm, db, verbose=True, return_intermediate_steps=True)\n",
    "\n",
    "  #Define prompt for BigQuery SQL generation\n",
    "  _googlesql_prompt = \"\"\"You are a GoogleSQL expert. Given an input question, first create a syntactically correct GoogleSQL query to run, then look at the results of the query and return the answer to the input question.\n",
    "  Unless the user specifies in the question a specific number of examples to obtain, query for at most {top_k} results using the LIMIT clause as per GoogleSQL. You can order the results to return the most informative data in the database.\n",
    "  Never query for all columns from a table. You must query only the columns that are needed to answer the question. \n",
    "  Wrap each column name in backticks (`) to denote them as delimited identifiers.\n",
    "  Pay attention to use only the column names you can see in the tables below. Be careful to not query for columns that do not exist. Also, pay attention to which column is in which table.\n",
    "  \n",
    "  Use the following format:\n",
    "  Question: \"Question here\"\n",
    "  SQLQuery: \"SQL Query to run\"\n",
    "  SQLResult: \"Result of the SQLQuery\"\n",
    "  Answer: \"Final answer here\"\n",
    "  Only use the following tables:\n",
    "  {table_info}\n",
    " \n",
    "  The join between tables:\n",
    "  one to many join: clinic_dataset.customerdata.custid = clinic_dataset.ordertransaction.custid\n",
    "  one to many join: clinic_dataset.ordertransaction.transactionid = clinic_dataset.satisfactionsurvey.transactionid\n",
    "  \n",
    "  Example Response\n",
    "  question: \"show me the average survey score in each cities\"\n",
    "  SQLQuery: SELECT b.transactsitelocation, AVG(a.surveyscore) AS avg_survey_score\n",
    "            FROM `clinic_dataset.satisfactionsurvey` a\n",
    "            JOIN `clinic_dataset.ordertransaction` b ON a.transactionid = b.transactionid\n",
    "            JOIN `clinic_dataset.customerdata` c ON b.custid = c.custid\n",
    "            GROUP BY transactsitelocation\n",
    "            ORDER BY avg_survey_score DESC\n",
    "  \n",
    "  Always refer a column name using tablealias.column name, example: a.transactionid.\n",
    "  \n",
    "  If someone asks for aggregation on a STRING data type column, then CAST column as NUMERIC before you do the aggregation.\n",
    "\n",
    "  If someone asks for specific month or date, always use start date and end date from transactiondate column.\n",
    "  \n",
    "  If someone asks for specific city or location of customer, use customerdata.city_address column.\n",
    "  \n",
    "  If someone asks for specific city or location of transaction, use ordertransaction.transactsitelocation column.\n",
    "\n",
    "  If someone asks for column names in the table, use the following format:\n",
    "  SELECT column_name\n",
    "  FROM `{project_id}.{dataset_id}`.INFORMATION_SCHEMA.COLUMNS\n",
    "  WHERE table_name in {table_info}\n",
    "\n",
    "  Question: {input}\"\"\"\n",
    "\n",
    "  GOOGLESQL_PROMPT = PromptTemplate(\n",
    "      input_variables=[\"input\", \"table_info\", \"top_k\", \"project_id\", \"dataset_id\"],\n",
    "      template=_googlesql_prompt,\n",
    "  )\n",
    "\n",
    "  #passing question to the prompt template\n",
    "  final_prompt = GOOGLESQL_PROMPT.format(input=question, project_id =project_id, dataset_id=dataset_id, table_info=table_names, top_k=10000)\n",
    "\n",
    "  #pass final prompt to SQL Chain\n",
    "  output = db_chain(final_prompt)\n",
    "\n",
    "\n",
    "  return output['result'], output['intermediate_steps'][1]\n"
   ]
  },
  {
   "cell_type": "markdown",
   "metadata": {
    "id": "LAlVAHPe16Xr",
    "tags": []
   },
   "source": [
    "### Testing the SQL Generation"
   ]
  },
  {
   "cell_type": "code",
   "execution_count": 78,
   "metadata": {
    "colab": {
     "base_uri": "https://localhost:8080/"
    },
    "id": "F5wmsihBD4tS",
    "outputId": "11aa1774-23b9-4996-9223-a805c5851a6f",
    "tags": []
   },
   "outputs": [
    {
     "name": "stdout",
     "output_type": "stream",
     "text": [
      "\n",
      "\n",
      "\u001b[1m> Entering new SQLDatabaseChain chain...\u001b[0m\n",
      "You are a GoogleSQL expert. Given an input question, first create a syntactically correct GoogleSQL query to run, then look at the results of the query and return the answer to the input question.\n",
      "  Unless the user specifies in the question a specific number of examples to obtain, query for at most 10000 results using the LIMIT clause as per GoogleSQL. You can order the results to return the most informative data in the database.\n",
      "  Never query for all columns from a table. You must query only the columns that are needed to answer the question. \n",
      "  Wrap each column name in backticks (`) to denote them as delimited identifiers.\n",
      "  Pay attention to use only the column names you can see in the tables below. Be careful to not query for columns that do not exist. Also, pay attention to which column is in which table.\n",
      "  \n",
      "  Use the following format:\n",
      "  Question: \"Question here\"\n",
      "  SQLQuery: \"SQL Query to run\"\n",
      "  SQLResult: \"Result of the SQLQuery\"\n",
      "  Answer: \"Final answer here\"\n",
      "  Only use the following tables:\n",
      "  ('customerdata', 'ordertransaction', 'satisfactionsurvey')\n",
      " \n",
      "  The join between tables:\n",
      "  one to many join: clinic_dataset.customerdata.custid = clinic_dataset.ordertransaction.custid\n",
      "  one to many join: clinic_dataset.ordertransaction.transactionid = clinic_dataset.satisfactionsurvey.transactionid\n",
      "  \n",
      "  Example Response\n",
      "  question: \"show me the average survey score in each cities\"\n",
      "  SQLQuery: SELECT b.transactsitelocation, AVG(a.surveyscore) AS avg_survey_score\n",
      "            FROM `clinic_dataset.satisfactionsurvey` a\n",
      "            JOIN `clinic_dataset.ordertransaction` b ON a.transactionid = b.transactionid\n",
      "            JOIN `clinic_dataset.customerdata` c ON b.custid = c.custid\n",
      "            GROUP BY transactsitelocation\n",
      "            ORDER BY avg_survey_score DESC\n",
      "  \n",
      "  Always refer a column name using tablealias.column name, example: a.transactionid.\n",
      "  \n",
      "  If someone asks for aggregation on a STRING data type column, then CAST column as NUMERIC before you do the aggregation.\n",
      "\n",
      "  If someone asks for specific month or date, always use start date and end date from transactiondate column.\n",
      "  \n",
      "  If someone asks for specific city or location of customer, use customerdata.city_address column.\n",
      "  \n",
      "  If someone asks for specific city or location of transaction, use ordertransaction.transactsitelocation column.\n",
      "\n",
      "  If someone asks for column names in the table, use the following format:\n",
      "  SELECT column_name\n",
      "  FROM `qwiklabs-gcp-03-cd5e0a266aea.clinic_dataset`.INFORMATION_SCHEMA.COLUMNS\n",
      "  WHERE table_name in ('customerdata', 'ordertransaction', 'satisfactionsurvey')\n",
      "\n",
      "  Question: show me total order for each customer\n",
      "SQLQuery:\u001b[32;1m\u001b[1;3mSELECT custid, COUNT(transactionid) AS total_order\n",
      "FROM `clinic_dataset.ordertransaction`\n",
      "GROUP BY custid\n",
      "ORDER BY total_order DESC\u001b[0m\n",
      "SQLResult: \u001b[33;1m\u001b[1;3m[(42, 9), (48, 9), (49, 9), (51, 9), (55, 9), (46, 8), (47, 8), (52, 8), (50, 8), (43, 8), (54, 8), (45, 8), (56, 8), (60, 8), (41, 8), (53, 8), (57, 8), (59, 8), (39, 6), (38, 6), (40, 6), (27, 5), (33, 5), (29, 5), (30, 5), (22, 5), (31, 5), (23, 5), (26, 5), (34, 5), (28, 5), (35, 5), (36, 5), (37, 5), (32, 5), (21, 4), (24, 4), (25, 4), (12, 2), (4, 2), (16, 2), (18, 2), (10, 2), (11, 2), (15, 2), (3, 2), (2, 2), (9, 1), (6, 1), (19, 1), (13, 1), (8, 1), (44, 1), (1, 1), (20, 1), (14, 1), (17, 1), (5, 1), (7, 1)]\u001b[0m\n",
      "Answer:\u001b[32;1m\u001b[1;3mCustomer 42 has the highest number of orders with 9 orders.\u001b[0m\n",
      "\u001b[1m> Finished chain.\u001b[0m\n"
     ]
    },
    {
     "data": {
      "text/plain": [
       "('Customer 42 has the highest number of orders with 9 orders.',\n",
       " 'SELECT custid, COUNT(transactionid) AS total_order\\nFROM `clinic_dataset.ordertransaction`\\nGROUP BY custid\\nORDER BY total_order DESC')"
      ]
     },
     "execution_count": 78,
     "metadata": {},
     "output_type": "execute_result"
    }
   ],
   "source": [
    "#Testing sql generation 1\n",
    "bq_qna('show me total order for each customer')"
   ]
  },
  {
   "cell_type": "code",
   "execution_count": 79,
   "metadata": {
    "colab": {
     "base_uri": "https://localhost:8080/"
    },
    "id": "-ypFevIgGNl1",
    "outputId": "1f97b0ad-6339-4fe6-a853-fa9a36bde4a8",
    "tags": []
   },
   "outputs": [
    {
     "name": "stdout",
     "output_type": "stream",
     "text": [
      "\n",
      "\n",
      "\u001b[1m> Entering new SQLDatabaseChain chain...\u001b[0m\n",
      "You are a GoogleSQL expert. Given an input question, first create a syntactically correct GoogleSQL query to run, then look at the results of the query and return the answer to the input question.\n",
      "  Unless the user specifies in the question a specific number of examples to obtain, query for at most 10000 results using the LIMIT clause as per GoogleSQL. You can order the results to return the most informative data in the database.\n",
      "  Never query for all columns from a table. You must query only the columns that are needed to answer the question. \n",
      "  Wrap each column name in backticks (`) to denote them as delimited identifiers.\n",
      "  Pay attention to use only the column names you can see in the tables below. Be careful to not query for columns that do not exist. Also, pay attention to which column is in which table.\n",
      "  \n",
      "  Use the following format:\n",
      "  Question: \"Question here\"\n",
      "  SQLQuery: \"SQL Query to run\"\n",
      "  SQLResult: \"Result of the SQLQuery\"\n",
      "  Answer: \"Final answer here\"\n",
      "  Only use the following tables:\n",
      "  ('customerdata', 'ordertransaction', 'satisfactionsurvey')\n",
      " \n",
      "  The join between tables:\n",
      "  one to many join: clinic_dataset.customerdata.custid = clinic_dataset.ordertransaction.custid\n",
      "  one to many join: clinic_dataset.ordertransaction.transactionid = clinic_dataset.satisfactionsurvey.transactionid\n",
      "  \n",
      "  Example Response\n",
      "  question: \"show me the average survey score in each cities\"\n",
      "  SQLQuery: SELECT b.transactsitelocation, AVG(a.surveyscore) AS avg_survey_score\n",
      "            FROM `clinic_dataset.satisfactionsurvey` a\n",
      "            JOIN `clinic_dataset.ordertransaction` b ON a.transactionid = b.transactionid\n",
      "            JOIN `clinic_dataset.customerdata` c ON b.custid = c.custid\n",
      "            GROUP BY transactsitelocation\n",
      "            ORDER BY avg_survey_score DESC\n",
      "  \n",
      "  Always refer a column name using tablealias.column name, example: a.transactionid.\n",
      "  \n",
      "  If someone asks for aggregation on a STRING data type column, then CAST column as NUMERIC before you do the aggregation.\n",
      "\n",
      "  If someone asks for specific month or date, always use start date and end date from transactiondate column.\n",
      "  \n",
      "  If someone asks for specific city or location of customer, use customerdata.city_address column.\n",
      "  \n",
      "  If someone asks for specific city or location of transaction, use ordertransaction.transactsitelocation column.\n",
      "\n",
      "  If someone asks for column names in the table, use the following format:\n",
      "  SELECT column_name\n",
      "  FROM `qwiklabs-gcp-03-cd5e0a266aea.clinic_dataset`.INFORMATION_SCHEMA.COLUMNS\n",
      "  WHERE table_name in ('customerdata', 'ordertransaction', 'satisfactionsurvey')\n",
      "\n",
      "  Question: what is the highest services sold in April 2023\n",
      "SQLQuery:\u001b[32;1m\u001b[1;3mSELECT servicecategory, SUM(transactionamount) AS total_transaction_amount\n",
      "FROM `clinic_dataset.ordertransaction`\n",
      "WHERE transactiondate BETWEEN '2023-04-01' AND '2023-04-30'\n",
      "GROUP BY servicecategory\n",
      "ORDER BY total_transaction_amount DESC\u001b[0m\n",
      "SQLResult: \u001b[33;1m\u001b[1;3m[('Covid Test', 24000000), ('Skin Care', 16500000), ('General Checkup', 14500000), ('Consultation', 9500000), ('Eye Care', 7000000)]\u001b[0m\n",
      "Answer:\u001b[32;1m\u001b[1;3mCovid Test\u001b[0m\n",
      "\u001b[1m> Finished chain.\u001b[0m\n"
     ]
    },
    {
     "data": {
      "text/plain": [
       "('Covid Test',\n",
       " \"SELECT servicecategory, SUM(transactionamount) AS total_transaction_amount\\nFROM `clinic_dataset.ordertransaction`\\nWHERE transactiondate BETWEEN '2023-04-01' AND '2023-04-30'\\nGROUP BY servicecategory\\nORDER BY total_transaction_amount DESC\")"
      ]
     },
     "execution_count": 79,
     "metadata": {},
     "output_type": "execute_result"
    }
   ],
   "source": [
    "#Testing sql generation\n",
    "bq_qna('what is the highest services sold in April 2023')"
   ]
  },
  {
   "cell_type": "code",
   "execution_count": 80,
   "metadata": {
    "colab": {
     "base_uri": "https://localhost:8080/"
    },
    "id": "78z0zs8cLdJ0",
    "outputId": "cce71140-8cdd-44c2-a05f-a287fdeccafd",
    "tags": []
   },
   "outputs": [
    {
     "name": "stdout",
     "output_type": "stream",
     "text": [
      "\n",
      "\n",
      "\u001b[1m> Entering new SQLDatabaseChain chain...\u001b[0m\n",
      "You are a GoogleSQL expert. Given an input question, first create a syntactically correct GoogleSQL query to run, then look at the results of the query and return the answer to the input question.\n",
      "  Unless the user specifies in the question a specific number of examples to obtain, query for at most 10000 results using the LIMIT clause as per GoogleSQL. You can order the results to return the most informative data in the database.\n",
      "  Never query for all columns from a table. You must query only the columns that are needed to answer the question. \n",
      "  Wrap each column name in backticks (`) to denote them as delimited identifiers.\n",
      "  Pay attention to use only the column names you can see in the tables below. Be careful to not query for columns that do not exist. Also, pay attention to which column is in which table.\n",
      "  \n",
      "  Use the following format:\n",
      "  Question: \"Question here\"\n",
      "  SQLQuery: \"SQL Query to run\"\n",
      "  SQLResult: \"Result of the SQLQuery\"\n",
      "  Answer: \"Final answer here\"\n",
      "  Only use the following tables:\n",
      "  ('customerdata', 'ordertransaction', 'satisfactionsurvey')\n",
      " \n",
      "  The join between tables:\n",
      "  one to many join: clinic_dataset.customerdata.custid = clinic_dataset.ordertransaction.custid\n",
      "  one to many join: clinic_dataset.ordertransaction.transactionid = clinic_dataset.satisfactionsurvey.transactionid\n",
      "  \n",
      "  Example Response\n",
      "  question: \"show me the average survey score in each cities\"\n",
      "  SQLQuery: SELECT b.transactsitelocation, AVG(a.surveyscore) AS avg_survey_score\n",
      "            FROM `clinic_dataset.satisfactionsurvey` a\n",
      "            JOIN `clinic_dataset.ordertransaction` b ON a.transactionid = b.transactionid\n",
      "            JOIN `clinic_dataset.customerdata` c ON b.custid = c.custid\n",
      "            GROUP BY transactsitelocation\n",
      "            ORDER BY avg_survey_score DESC\n",
      "  \n",
      "  Always refer a column name using tablealias.column name, example: a.transactionid.\n",
      "  \n",
      "  If someone asks for aggregation on a STRING data type column, then CAST column as NUMERIC before you do the aggregation.\n",
      "\n",
      "  If someone asks for specific month or date, always use start date and end date from transactiondate column.\n",
      "  \n",
      "  If someone asks for specific city or location of customer, use customerdata.city_address column.\n",
      "  \n",
      "  If someone asks for specific city or location of transaction, use ordertransaction.transactsitelocation column.\n",
      "\n",
      "  If someone asks for column names in the table, use the following format:\n",
      "  SELECT column_name\n",
      "  FROM `qwiklabs-gcp-03-cd5e0a266aea.clinic_dataset`.INFORMATION_SCHEMA.COLUMNS\n",
      "  WHERE table_name in ('customerdata', 'ordertransaction', 'satisfactionsurvey')\n",
      "\n",
      "  Question: what are the columns in customer table\n",
      "SQLQuery:\u001b[32;1m\u001b[1;3mSELECT column_name\n",
      "FROM `qwiklabs-gcp-03-cd5e0a266aea.clinic_dataset`.INFORMATION_SCHEMA.COLUMNS\n",
      "WHERE table_name = 'customerdata'\u001b[0m\n",
      "SQLResult: \u001b[33;1m\u001b[1;3m[('custid',), ('custname',), ('dateofbirth',), ('city_address',), ('nationality',), ('memberstatus',), ('education',)]\u001b[0m\n",
      "Answer:\u001b[32;1m\u001b[1;3mAnswer: custid, custname, dateofbirth, city_address, nationality, memberstatus, education\u001b[0m\n",
      "\u001b[1m> Finished chain.\u001b[0m\n"
     ]
    },
    {
     "data": {
      "text/plain": [
       "('Answer: custid, custname, dateofbirth, city_address, nationality, memberstatus, education',\n",
       " \"SELECT column_name\\nFROM `qwiklabs-gcp-03-cd5e0a266aea.clinic_dataset`.INFORMATION_SCHEMA.COLUMNS\\nWHERE table_name = 'customerdata'\")"
      ]
     },
     "execution_count": 80,
     "metadata": {},
     "output_type": "execute_result"
    }
   ],
   "source": [
    "#Testing 3 - Metadata queries\n",
    "bq_qna('what are the columns in customer table')"
   ]
  },
  {
   "cell_type": "code",
   "execution_count": 83,
   "metadata": {
    "colab": {
     "base_uri": "https://localhost:8080/"
    },
    "id": "lNL16fEJMo2b",
    "outputId": "e2d007d8-864a-468d-ed24-8952f12aef57",
    "tags": []
   },
   "outputs": [
    {
     "name": "stdout",
     "output_type": "stream",
     "text": [
      "\n",
      "\n",
      "\u001b[1m> Entering new SQLDatabaseChain chain...\u001b[0m\n",
      "You are a GoogleSQL expert. Given an input question, first create a syntactically correct GoogleSQL query to run, then look at the results of the query and return the answer to the input question.\n",
      "  Unless the user specifies in the question a specific number of examples to obtain, query for at most 10000 results using the LIMIT clause as per GoogleSQL. You can order the results to return the most informative data in the database.\n",
      "  Never query for all columns from a table. You must query only the columns that are needed to answer the question. \n",
      "  Wrap each column name in backticks (`) to denote them as delimited identifiers.\n",
      "  Pay attention to use only the column names you can see in the tables below. Be careful to not query for columns that do not exist. Also, pay attention to which column is in which table.\n",
      "  \n",
      "  Use the following format:\n",
      "  Question: \"Question here\"\n",
      "  SQLQuery: \"SQL Query to run\"\n",
      "  SQLResult: \"Result of the SQLQuery\"\n",
      "  Answer: \"Final answer here\"\n",
      "  Only use the following tables:\n",
      "  ('customerdata', 'ordertransaction', 'satisfactionsurvey')\n",
      " \n",
      "  The join between tables:\n",
      "  one to many join: clinic_dataset.customerdata.custid = clinic_dataset.ordertransaction.custid\n",
      "  one to many join: clinic_dataset.ordertransaction.transactionid = clinic_dataset.satisfactionsurvey.transactionid\n",
      "  \n",
      "  Example Response\n",
      "  question: \"show me the average survey score in each cities\"\n",
      "  SQLQuery: SELECT b.transactsitelocation, AVG(a.surveyscore) AS avg_survey_score\n",
      "            FROM `clinic_dataset.satisfactionsurvey` a\n",
      "            JOIN `clinic_dataset.ordertransaction` b ON a.transactionid = b.transactionid\n",
      "            JOIN `clinic_dataset.customerdata` c ON b.custid = c.custid\n",
      "            GROUP BY transactsitelocation\n",
      "            ORDER BY avg_survey_score DESC\n",
      "  \n",
      "  Always refer a column name using tablealias.column name, example: a.transactionid.\n",
      "  \n",
      "  If someone asks for aggregation on a STRING data type column, then CAST column as NUMERIC before you do the aggregation.\n",
      "\n",
      "  If someone asks for specific month or date, always use start date and end date from transactiondate column.\n",
      "  \n",
      "  If someone asks for specific city or location of customer, use customerdata.city_address column.\n",
      "  \n",
      "  If someone asks for specific city or location of transaction, use ordertransaction.transactsitelocation column.\n",
      "\n",
      "  If someone asks for column names in the table, use the following format:\n",
      "  SELECT column_name\n",
      "  FROM `qwiklabs-gcp-03-cd5e0a266aea.clinic_dataset`.INFORMATION_SCHEMA.COLUMNS\n",
      "  WHERE table_name in ('customerdata', 'ordertransaction', 'satisfactionsurvey')\n",
      "\n",
      "  Question: show me the order frequency and average survey score in each cities\n",
      "SQLQuery:\u001b[32;1m\u001b[1;3mSELECT b.transactsitelocation, COUNT(a.transactionid) AS order_frequency, AVG(a.surveyscore) AS avg_survey_score\n",
      "            FROM `clinic_dataset.satisfactionsurvey` a\n",
      "            JOIN `clinic_dataset.ordertransaction` b ON a.transactionid = b.transactionid\n",
      "            JOIN `clinic_dataset.customerdata` c ON b.custid = c.custid\n",
      "            GROUP BY transactsitelocation\n",
      "            ORDER BY order_frequency DESC\u001b[0m\n",
      "SQLResult: \u001b[33;1m\u001b[1;3m[('Surabaya', 48, 80.35416666666664), ('Bandung', 47, 81.80851063829788), ('Medan', 47, 75.6595744680851), ('Semarang', 45, 74.95555555555556), ('Makassar', 45, 81.9111111111111), ('Jakarta', 38, 72.94736842105263)]\u001b[0m\n",
      "Answer:\u001b[32;1m\u001b[1;3mSurabaya has the highest order frequency and the second highest average survey score.\u001b[0m\n",
      "\u001b[1m> Finished chain.\u001b[0m\n"
     ]
    },
    {
     "data": {
      "text/plain": [
       "('Surabaya has the highest order frequency and the second highest average survey score.',\n",
       " 'SELECT b.transactsitelocation, COUNT(a.transactionid) AS order_frequency, AVG(a.surveyscore) AS avg_survey_score\\n            FROM `clinic_dataset.satisfactionsurvey` a\\n            JOIN `clinic_dataset.ordertransaction` b ON a.transactionid = b.transactionid\\n            JOIN `clinic_dataset.customerdata` c ON b.custid = c.custid\\n            GROUP BY transactsitelocation\\n            ORDER BY order_frequency DESC')"
      ]
     },
     "execution_count": 83,
     "metadata": {},
     "output_type": "execute_result"
    }
   ],
   "source": [
    "#Testing sql generation- Joins capability\n",
    "bq_qna('show me the order frequency and average survey score in each cities')"
   ]
  },
  {
   "cell_type": "code",
   "execution_count": 82,
   "metadata": {
    "tags": []
   },
   "outputs": [
    {
     "name": "stdout",
     "output_type": "stream",
     "text": [
      "\n",
      "\n",
      "\u001b[1m> Entering new SQLDatabaseChain chain...\u001b[0m\n",
      "You are a GoogleSQL expert. Given an input question, first create a syntactically correct GoogleSQL query to run, then look at the results of the query and return the answer to the input question.\n",
      "  Unless the user specifies in the question a specific number of examples to obtain, query for at most 10000 results using the LIMIT clause as per GoogleSQL. You can order the results to return the most informative data in the database.\n",
      "  Never query for all columns from a table. You must query only the columns that are needed to answer the question. \n",
      "  Wrap each column name in backticks (`) to denote them as delimited identifiers.\n",
      "  Pay attention to use only the column names you can see in the tables below. Be careful to not query for columns that do not exist. Also, pay attention to which column is in which table.\n",
      "  \n",
      "  Use the following format:\n",
      "  Question: \"Question here\"\n",
      "  SQLQuery: \"SQL Query to run\"\n",
      "  SQLResult: \"Result of the SQLQuery\"\n",
      "  Answer: \"Final answer here\"\n",
      "  Only use the following tables:\n",
      "  ('customerdata', 'ordertransaction', 'satisfactionsurvey')\n",
      " \n",
      "  The join between tables:\n",
      "  one to many join: clinic_dataset.customerdata.custid = clinic_dataset.ordertransaction.custid\n",
      "  one to many join: clinic_dataset.ordertransaction.transactionid = clinic_dataset.satisfactionsurvey.transactionid\n",
      "  \n",
      "  Example Response\n",
      "  question: \"show me the average survey score in each cities\"\n",
      "  SQLQuery: SELECT b.transactsitelocation, AVG(a.surveyscore) AS avg_survey_score\n",
      "            FROM `clinic_dataset.satisfactionsurvey` a\n",
      "            JOIN `clinic_dataset.ordertransaction` b ON a.transactionid = b.transactionid\n",
      "            JOIN `clinic_dataset.customerdata` c ON b.custid = c.custid\n",
      "            GROUP BY transactsitelocation\n",
      "            ORDER BY avg_survey_score DESC\n",
      "  \n",
      "  Always refer a column name using tablealias.column name, example: a.transactionid.\n",
      "  \n",
      "  If someone asks for aggregation on a STRING data type column, then CAST column as NUMERIC before you do the aggregation.\n",
      "\n",
      "  If someone asks for specific month or date, always use start date and end date from transactiondate column.\n",
      "  \n",
      "  If someone asks for specific city or location of customer, use customerdata.city_address column.\n",
      "  \n",
      "  If someone asks for specific city or location of transaction, use ordertransaction.transactsitelocation column.\n",
      "\n",
      "  If someone asks for column names in the table, use the following format:\n",
      "  SELECT column_name\n",
      "  FROM `qwiklabs-gcp-03-cd5e0a266aea.clinic_dataset`.INFORMATION_SCHEMA.COLUMNS\n",
      "  WHERE table_name in ('customerdata', 'ordertransaction', 'satisfactionsurvey')\n",
      "\n",
      "  Question: tampilkan rata rata hasil survey berdasarkan domisili pelanggan\n",
      "SQLQuery:\u001b[32;1m\u001b[1;3mSELECT c.city_address, AVG(a.surveyscore) AS avg_survey_score\n",
      "            FROM `clinic_dataset.satisfactionsurvey` a\n",
      "            JOIN `clinic_dataset.ordertransaction` b ON a.transactionid = b.transactionid\n",
      "            JOIN `clinic_dataset.customerdata` c ON b.custid = c.custid\n",
      "            GROUP BY c.city_address\n",
      "            ORDER BY avg_survey_score DESC\u001b[0m\n",
      "SQLResult: \u001b[33;1m\u001b[1;3m[('Medan', 86.66666666666667), ('Bandung', 84.42857142857142), ('Manado', 81.90909090909089), ('Bandar Lampung', 80.93333333333334), ('Palembang', 80.77272727272727), ('Ambon', 80.72727272727272), ('Jakarta', 80.4), ('Makassar', 79.45833333333334), ('Mataram', 78.71428571428572), ('Semarang', 78.57142857142857), ('Pekanbaru', 77.77272727272727), ('Denpasar', 77.66666666666666), ('Banjarmasin', 76.82608695652173), ('Jambi', 76.77272727272728), ('Kupang', 75.2), ('Yogyakarta', 74.71428571428571), ('Pontianak', 74.18181818181817), ('Surabaya', 72.83333333333334), ('Padang', 72.5), ('Jayapura', 71.625)]\u001b[0m\n",
      "Answer:\u001b[32;1m\u001b[1;3mThe average survey score in Medan is 86.66666666666667.\u001b[0m\n",
      "\u001b[1m> Finished chain.\u001b[0m\n"
     ]
    },
    {
     "data": {
      "text/plain": [
       "('The average survey score in Medan is 86.66666666666667.',\n",
       " 'SELECT c.city_address, AVG(a.surveyscore) AS avg_survey_score\\n            FROM `clinic_dataset.satisfactionsurvey` a\\n            JOIN `clinic_dataset.ordertransaction` b ON a.transactionid = b.transactionid\\n            JOIN `clinic_dataset.customerdata` c ON b.custid = c.custid\\n            GROUP BY c.city_address\\n            ORDER BY avg_survey_score DESC')"
      ]
     },
     "execution_count": 82,
     "metadata": {},
     "output_type": "execute_result"
    }
   ],
   "source": [
    "#Testing 4 - Joins & asking in bahasa\n",
    "bq_qna('tampilkan rata rata hasil survey berdasarkan domisili pelanggan')"
   ]
  },
  {
   "cell_type": "code",
   "execution_count": null,
   "metadata": {},
   "outputs": [],
   "source": []
  }
 ],
 "metadata": {
  "colab": {
   "collapsed_sections": [
    "UEv34vVKxR9k",
    "aPh6goEQyKsD",
    "LqDhLithzJgd",
    "mpW-rMVI0DUZ"
   ],
   "provenance": [],
   "toc_visible": true
  },
  "environment": {
   "kernel": "python3",
   "name": "common-cpu.m113",
   "type": "gcloud",
   "uri": "gcr.io/deeplearning-platform-release/base-cpu:m113"
  },
  "kernelspec": {
   "display_name": "Python 3",
   "language": "python",
   "name": "python3"
  },
  "language_info": {
   "codemirror_mode": {
    "name": "ipython",
    "version": 3
   },
   "file_extension": ".py",
   "mimetype": "text/x-python",
   "name": "python",
   "nbconvert_exporter": "python",
   "pygments_lexer": "ipython3",
   "version": "3.10.13"
  }
 },
 "nbformat": 4,
 "nbformat_minor": 4
}
