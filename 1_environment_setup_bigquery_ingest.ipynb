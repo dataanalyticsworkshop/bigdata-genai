{
 "cells": [
  {
   "cell_type": "code",
   "execution_count": null,
   "metadata": {},
   "outputs": [],
   "source": [
    "# Copyright 2023 Google LLC\n",
    "#\n",
    "# Licensed under the Apache License, Version 2.0 (the \"License\");\n",
    "# you may not use this file except in compliance with the License.\n",
    "# You may obtain a copy of the License at\n",
    "#\n",
    "#     https://www.apache.org/licenses/LICENSE-2.0\n",
    "#\n",
    "# Unless required by applicable law or agreed to in writing, software\n",
    "# distributed under the License is distributed on an \"AS IS\" BASIS,\n",
    "# WITHOUT WARRANTIES OR CONDITIONS OF ANY KIND, either express or implied.`\n",
    "# See the License for the specific language governing permissions and\n",
    "# limitations under the License."
   ]
  },
  {
   "cell_type": "markdown",
   "metadata": {},
   "source": [
    "# Environment Setup"
   ]
  },
  {
   "cell_type": "markdown",
   "metadata": {},
   "source": [
    "Install the following python packages to setup the environment."
   ]
  },
  {
   "cell_type": "code",
   "execution_count": 39,
   "metadata": {},
   "outputs": [
    {
     "name": "stdout",
     "output_type": "stream",
     "text": [
      "Requirement already satisfied: google-cloud-bigquery in /opt/conda/lib/python3.10/site-packages (3.13.0)\n",
      "Requirement already satisfied: grpcio<2.0dev,>=1.47.0 in /opt/conda/lib/python3.10/site-packages (from google-cloud-bigquery) (1.57.0)\n",
      "Requirement already satisfied: google-api-core[grpc]!=2.0.*,!=2.1.*,!=2.2.*,!=2.3.0,<3.0.0dev,>=1.31.5 in /opt/conda/lib/python3.10/site-packages (from google-cloud-bigquery) (1.34.0)\n",
      "Requirement already satisfied: proto-plus<2.0.0dev,>=1.15.0 in /opt/conda/lib/python3.10/site-packages (from google-cloud-bigquery) (1.22.3)\n",
      "Requirement already satisfied: google-cloud-core<3.0.0dev,>=1.6.0 in /opt/conda/lib/python3.10/site-packages (from google-cloud-bigquery) (2.3.3)\n",
      "Requirement already satisfied: google-resumable-media<3.0dev,>=0.6.0 in /opt/conda/lib/python3.10/site-packages (from google-cloud-bigquery) (2.6.0)\n",
      "Requirement already satisfied: packaging>=20.0.0 in /opt/conda/lib/python3.10/site-packages (from google-cloud-bigquery) (23.1)\n",
      "Requirement already satisfied: protobuf!=3.20.0,!=3.20.1,!=4.21.0,!=4.21.1,!=4.21.2,!=4.21.3,!=4.21.4,!=4.21.5,<5.0.0dev,>=3.19.5 in /opt/conda/lib/python3.10/site-packages (from google-cloud-bigquery) (3.20.3)\n",
      "Requirement already satisfied: python-dateutil<3.0dev,>=2.7.2 in /opt/conda/lib/python3.10/site-packages (from google-cloud-bigquery) (2.8.2)\n",
      "Requirement already satisfied: requests<3.0.0dev,>=2.21.0 in /opt/conda/lib/python3.10/site-packages (from google-cloud-bigquery) (2.31.0)\n",
      "Requirement already satisfied: googleapis-common-protos<2.0dev,>=1.56.2 in /opt/conda/lib/python3.10/site-packages (from google-api-core[grpc]!=2.0.*,!=2.1.*,!=2.2.*,!=2.3.0,<3.0.0dev,>=1.31.5->google-cloud-bigquery) (1.60.0)\n",
      "Requirement already satisfied: google-auth<3.0dev,>=1.25.0 in /opt/conda/lib/python3.10/site-packages (from google-api-core[grpc]!=2.0.*,!=2.1.*,!=2.2.*,!=2.3.0,<3.0.0dev,>=1.31.5->google-cloud-bigquery) (2.22.0)\n",
      "Requirement already satisfied: grpcio-status<2.0dev,>=1.33.2 in /opt/conda/lib/python3.10/site-packages (from google-api-core[grpc]!=2.0.*,!=2.1.*,!=2.2.*,!=2.3.0,<3.0.0dev,>=1.31.5->google-cloud-bigquery) (1.48.2)\n",
      "Requirement already satisfied: google-crc32c<2.0dev,>=1.0 in /opt/conda/lib/python3.10/site-packages (from google-resumable-media<3.0dev,>=0.6.0->google-cloud-bigquery) (1.5.0)\n",
      "Requirement already satisfied: six>=1.5 in /opt/conda/lib/python3.10/site-packages (from python-dateutil<3.0dev,>=2.7.2->google-cloud-bigquery) (1.16.0)\n",
      "Requirement already satisfied: charset-normalizer<4,>=2 in /opt/conda/lib/python3.10/site-packages (from requests<3.0.0dev,>=2.21.0->google-cloud-bigquery) (3.2.0)\n",
      "Requirement already satisfied: idna<4,>=2.5 in /opt/conda/lib/python3.10/site-packages (from requests<3.0.0dev,>=2.21.0->google-cloud-bigquery) (3.4)\n",
      "Requirement already satisfied: urllib3<3,>=1.21.1 in /opt/conda/lib/python3.10/site-packages (from requests<3.0.0dev,>=2.21.0->google-cloud-bigquery) (1.26.16)\n",
      "Requirement already satisfied: certifi>=2017.4.17 in /opt/conda/lib/python3.10/site-packages (from requests<3.0.0dev,>=2.21.0->google-cloud-bigquery) (2023.7.22)\n",
      "Requirement already satisfied: cachetools<6.0,>=2.0.0 in /opt/conda/lib/python3.10/site-packages (from google-auth<3.0dev,>=1.25.0->google-api-core[grpc]!=2.0.*,!=2.1.*,!=2.2.*,!=2.3.0,<3.0.0dev,>=1.31.5->google-cloud-bigquery) (5.3.1)\n",
      "Requirement already satisfied: pyasn1-modules>=0.2.1 in /opt/conda/lib/python3.10/site-packages (from google-auth<3.0dev,>=1.25.0->google-api-core[grpc]!=2.0.*,!=2.1.*,!=2.2.*,!=2.3.0,<3.0.0dev,>=1.31.5->google-cloud-bigquery) (0.3.0)\n",
      "Requirement already satisfied: rsa<5,>=3.1.4 in /opt/conda/lib/python3.10/site-packages (from google-auth<3.0dev,>=1.25.0->google-api-core[grpc]!=2.0.*,!=2.1.*,!=2.2.*,!=2.3.0,<3.0.0dev,>=1.31.5->google-cloud-bigquery) (4.9)\n",
      "Requirement already satisfied: pyasn1<0.6.0,>=0.4.6 in /opt/conda/lib/python3.10/site-packages (from pyasn1-modules>=0.2.1->google-auth<3.0dev,>=1.25.0->google-api-core[grpc]!=2.0.*,!=2.1.*,!=2.2.*,!=2.3.0,<3.0.0dev,>=1.31.5->google-cloud-bigquery) (0.5.0)\n"
     ]
    }
   ],
   "source": [
    "! pip install -U google-cloud-bigquery"
   ]
  },
  {
   "cell_type": "markdown",
   "metadata": {},
   "source": [
    "Specify your project ID in the next cell."
   ]
  },
  {
   "cell_type": "code",
   "execution_count": 46,
   "metadata": {},
   "outputs": [],
   "source": [
    "#enter your Project ID!\n",
    "\n",
    "PROJECT_ID = '<your_project_id>'  # Change to your project ID\n",
    "LOCATION = 'us-central1'\n",
    "DATASET_ID = 'clinic_dataset'\n"
   ]
  },
  {
   "cell_type": "markdown",
   "metadata": {
    "tags": []
   },
   "source": [
    "### BigQuery: Create dataset"
   ]
  },
  {
   "cell_type": "markdown",
   "metadata": {},
   "source": [
    "Create a BigQuery dataset to upload the transaction data."
   ]
  },
  {
   "cell_type": "code",
   "execution_count": 47,
   "metadata": {},
   "outputs": [
    {
     "name": "stdout",
     "output_type": "stream",
     "text": [
      "Dataset clinic_dataset create successfully.\n"
     ]
    }
   ],
   "source": [
    "# Create BigQuery Dataset on your project\n",
    "from google.cloud import bigquery\n",
    "import pandas as pd\n",
    "#from google.cloud import datacatalog_v1\n",
    "\n",
    "bq_client = bigquery.Client(project=PROJECT_ID)\n",
    "#datacatalog_client = datacatalog_v1.DataCatalogClient()\n",
    "\n",
    "dataset_id = \"{}.{}\".format(bq_client.project, DATASET_ID)\n",
    "dataset = bigquery.Dataset(dataset_id)\n",
    "dataset.location = \"US\"\n",
    "\n",
    "# Create the dataset\n",
    "try:\n",
    "    dataset = bq_client.create_dataset(dataset, timeout=30)\n",
    "    print(f'Dataset {DATASET_ID} create successfully.')\n",
    "except Exception as e:\n",
    "    print(e)"
   ]
  },
  {
   "cell_type": "markdown",
   "metadata": {},
   "source": [
    "### BigQuery: Create tables and ingesting with data\n",
    "\n",
    "The next cell will load data from csv into BigQuery.\n",
    "If this process fails, try to recreate the dataset with the cell above and load the data."
   ]
  },
  {
   "cell_type": "code",
   "execution_count": 48,
   "metadata": {},
   "outputs": [],
   "source": [
    "#define source csv files\n",
    "customerfile= 'https://raw.githubusercontent.com/dataanalyticsworkshop/bigdata-genai/main/dataset/clinik-customer.csv'\n",
    "ordertransactionfile = 'https://raw.githubusercontent.com/dataanalyticsworkshop/bigdata-genai/main/dataset/clinic-transaction.csv'\n",
    "surveyfile = 'https://raw.githubusercontent.com/dataanalyticsworkshop/bigdata-genai/main/dataset/clinic-surveyscore.csv'"
   ]
  },
  {
   "cell_type": "code",
   "execution_count": 49,
   "metadata": {},
   "outputs": [],
   "source": [
    "#create function to import csv to BigQuery\n",
    "def import_csv_to_bq (filepath, table_id):\n",
    "\n",
    "  job_config = bigquery.LoadJobConfig(\n",
    "      source_format=bigquery.SourceFormat.CSV, skip_leading_rows=1, autodetect=True,\n",
    "          write_disposition=bigquery.WriteDisposition.WRITE_TRUNCATE )\n",
    "\n",
    "  df = pd.read_csv(filepath, delimiter=',', )\n",
    "  load_job = bq_client.load_table_from_dataframe(dataframe=df,\n",
    "                                          destination=table_id,\n",
    "                                            job_config=job_config)  # Make an API request.\n",
    "\n",
    "\n",
    "  load_job.result()  # Waits for the job to complete.\n",
    "\n",
    "  table = bq_client.get_table(table_id)  # Make an API request.\n",
    "  print(\n",
    "      \"Loaded {} rows and {} columns to {}\".format(\n",
    "          table.num_rows, len(table.schema), table_id\n",
    "      )\n",
    ")"
   ]
  },
  {
   "cell_type": "code",
   "execution_count": 50,
   "metadata": {},
   "outputs": [
    {
     "name": "stdout",
     "output_type": "stream",
     "text": [
      "bqstackdemo.clinic_dataset.customerdata\n",
      "Loaded 58 rows and 7 columns to bqstackdemo.clinic_dataset.customerdata\n"
     ]
    },
    {
     "data": {
      "text/html": [
       "<div>\n",
       "<style scoped>\n",
       "    .dataframe tbody tr th:only-of-type {\n",
       "        vertical-align: middle;\n",
       "    }\n",
       "\n",
       "    .dataframe tbody tr th {\n",
       "        vertical-align: top;\n",
       "    }\n",
       "\n",
       "    .dataframe thead th {\n",
       "        text-align: right;\n",
       "    }\n",
       "</style>\n",
       "<table border=\"1\" class=\"dataframe\">\n",
       "  <thead>\n",
       "    <tr style=\"text-align: right;\">\n",
       "      <th></th>\n",
       "      <th>custid</th>\n",
       "      <th>custname</th>\n",
       "      <th>dateofbirth</th>\n",
       "      <th>city_address</th>\n",
       "      <th>nationality</th>\n",
       "      <th>memberstatus</th>\n",
       "      <th>education</th>\n",
       "    </tr>\n",
       "  </thead>\n",
       "  <tbody>\n",
       "    <tr>\n",
       "      <th>0</th>\n",
       "      <td>31</td>\n",
       "      <td>Mickey Mouse</td>\n",
       "      <td>1950-01-01</td>\n",
       "      <td>Jakarta</td>\n",
       "      <td>Indonesia</td>\n",
       "      <td>YES</td>\n",
       "      <td>Bachelor</td>\n",
       "    </tr>\n",
       "    <tr>\n",
       "      <th>1</th>\n",
       "      <td>8</td>\n",
       "      <td>Iron Man</td>\n",
       "      <td>1960-03-03</td>\n",
       "      <td>Pontianak</td>\n",
       "      <td>Indonesia</td>\n",
       "      <td>NO</td>\n",
       "      <td>Doctorate</td>\n",
       "    </tr>\n",
       "    <tr>\n",
       "      <th>2</th>\n",
       "      <td>20</td>\n",
       "      <td>Beast</td>\n",
       "      <td>1960-03-03</td>\n",
       "      <td>Jambi</td>\n",
       "      <td>Indonesia</td>\n",
       "      <td>NO</td>\n",
       "      <td>Doctorate</td>\n",
       "    </tr>\n",
       "    <tr>\n",
       "      <th>3</th>\n",
       "      <td>38</td>\n",
       "      <td>Dale</td>\n",
       "      <td>1960-03-03</td>\n",
       "      <td>Pontianak</td>\n",
       "      <td>Indonesia</td>\n",
       "      <td>NO</td>\n",
       "      <td>Doctorate</td>\n",
       "    </tr>\n",
       "    <tr>\n",
       "      <th>4</th>\n",
       "      <td>50</td>\n",
       "      <td>Max Goof</td>\n",
       "      <td>1960-03-03</td>\n",
       "      <td>Jambi</td>\n",
       "      <td>Indonesia</td>\n",
       "      <td>NO</td>\n",
       "      <td>Doctorate</td>\n",
       "    </tr>\n",
       "  </tbody>\n",
       "</table>\n",
       "</div>"
      ],
      "text/plain": [
       "   custid      custname dateofbirth city_address nationality memberstatus  \\\n",
       "0      31  Mickey Mouse  1950-01-01      Jakarta   Indonesia          YES   \n",
       "1       8      Iron Man  1960-03-03    Pontianak   Indonesia           NO   \n",
       "2      20         Beast  1960-03-03        Jambi   Indonesia           NO   \n",
       "3      38          Dale  1960-03-03    Pontianak   Indonesia           NO   \n",
       "4      50      Max Goof  1960-03-03        Jambi   Indonesia           NO   \n",
       "\n",
       "   education  \n",
       "0   Bachelor  \n",
       "1  Doctorate  \n",
       "2  Doctorate  \n",
       "3  Doctorate  \n",
       "4  Doctorate  "
      ]
     },
     "execution_count": 50,
     "metadata": {},
     "output_type": "execute_result"
    }
   ],
   "source": [
    "#import customer csv\n",
    "tablename = 'customerdata'\n",
    "table_id = \"{}.{}\".format(dataset_id, tablename) #fully qualified table name\n",
    "print (table_id)\n",
    "\n",
    "import_csv_to_bq(customerfile, table_id)\n",
    "\n",
    "#preview imported data\n",
    "bq_client.query(\"SELECT * FROM \"+ \"`\" +table_id+ \"`\").to_dataframe().head()\n",
    "\n",
    "#wait until dataframe preview completed!"
   ]
  },
  {
   "cell_type": "code",
   "execution_count": 52,
   "metadata": {},
   "outputs": [
    {
     "name": "stdout",
     "output_type": "stream",
     "text": [
      "bqstackdemo.clinic_dataset.ordertransaction\n",
      "Loaded 279 rows and 7 columns to bqstackdemo.clinic_dataset.ordertransaction\n"
     ]
    },
    {
     "data": {
      "text/html": [
       "<div>\n",
       "<style scoped>\n",
       "    .dataframe tbody tr th:only-of-type {\n",
       "        vertical-align: middle;\n",
       "    }\n",
       "\n",
       "    .dataframe tbody tr th {\n",
       "        vertical-align: top;\n",
       "    }\n",
       "\n",
       "    .dataframe thead th {\n",
       "        text-align: right;\n",
       "    }\n",
       "</style>\n",
       "<table border=\"1\" class=\"dataframe\">\n",
       "  <thead>\n",
       "    <tr style=\"text-align: right;\">\n",
       "      <th></th>\n",
       "      <th>transactionid</th>\n",
       "      <th>custid</th>\n",
       "      <th>transactsitelocation</th>\n",
       "      <th>transactiondate</th>\n",
       "      <th>servicecategory</th>\n",
       "      <th>transactionamount</th>\n",
       "      <th>servingconsultant</th>\n",
       "    </tr>\n",
       "  </thead>\n",
       "  <tbody>\n",
       "    <tr>\n",
       "      <th>0</th>\n",
       "      <td>TX3008</td>\n",
       "      <td>27</td>\n",
       "      <td>Surabaya</td>\n",
       "      <td>2022-01-08</td>\n",
       "      <td>Eye Care</td>\n",
       "      <td>800000</td>\n",
       "      <td>Ema</td>\n",
       "    </tr>\n",
       "    <tr>\n",
       "      <th>1</th>\n",
       "      <td>TX3028</td>\n",
       "      <td>33</td>\n",
       "      <td>Bandung</td>\n",
       "      <td>2022-01-28</td>\n",
       "      <td>Eye Care</td>\n",
       "      <td>800000</td>\n",
       "      <td>Ema</td>\n",
       "    </tr>\n",
       "    <tr>\n",
       "      <th>2</th>\n",
       "      <td>TX3040</td>\n",
       "      <td>21</td>\n",
       "      <td>Bandung</td>\n",
       "      <td>2022-02-10</td>\n",
       "      <td>Covid Test</td>\n",
       "      <td>2900000</td>\n",
       "      <td>Ema</td>\n",
       "    </tr>\n",
       "    <tr>\n",
       "      <th>3</th>\n",
       "      <td>TX1004</td>\n",
       "      <td>12</td>\n",
       "      <td>Bandung</td>\n",
       "      <td>2023-03-11</td>\n",
       "      <td>Consultation</td>\n",
       "      <td>500000</td>\n",
       "      <td>Ema</td>\n",
       "    </tr>\n",
       "    <tr>\n",
       "      <th>4</th>\n",
       "      <td>TX1024</td>\n",
       "      <td>12</td>\n",
       "      <td>Bandung</td>\n",
       "      <td>2023-03-31</td>\n",
       "      <td>Consultation</td>\n",
       "      <td>500000</td>\n",
       "      <td>Ema</td>\n",
       "    </tr>\n",
       "  </tbody>\n",
       "</table>\n",
       "</div>"
      ],
      "text/plain": [
       "  transactionid  custid transactsitelocation transactiondate servicecategory  \\\n",
       "0        TX3008      27             Surabaya      2022-01-08        Eye Care   \n",
       "1        TX3028      33              Bandung      2022-01-28        Eye Care   \n",
       "2        TX3040      21              Bandung      2022-02-10      Covid Test   \n",
       "3        TX1004      12              Bandung      2023-03-11    Consultation   \n",
       "4        TX1024      12              Bandung      2023-03-31    Consultation   \n",
       "\n",
       "   transactionamount servingconsultant  \n",
       "0             800000               Ema  \n",
       "1             800000               Ema  \n",
       "2            2900000               Ema  \n",
       "3             500000               Ema  \n",
       "4             500000               Ema  "
      ]
     },
     "execution_count": 52,
     "metadata": {},
     "output_type": "execute_result"
    }
   ],
   "source": [
    "#import order transaction to BigQuery\n",
    "tablename = 'ordertransaction'\n",
    "table_id = \"{}.{}\".format(dataset_id, tablename) #fully qualified table name\n",
    "print (table_id)\n",
    "\n",
    "import_csv_to_bq(ordertransactionfile, table_id)\n",
    "\n",
    "#preview imported data\n",
    "bq_client.query(\"SELECT * FROM \"+ \"`\" +table_id+ \"`\").to_dataframe().head()\n",
    "\n",
    "#wait until dataframe preview completed!"
   ]
  },
  {
   "cell_type": "code",
   "execution_count": 53,
   "metadata": {},
   "outputs": [
    {
     "name": "stdout",
     "output_type": "stream",
     "text": [
      "bqstackdemo.clinic_dataset.satisfactionsurvey\n",
      "Loaded 279 rows and 2 columns to bqstackdemo.clinic_dataset.satisfactionsurvey\n"
     ]
    },
    {
     "data": {
      "text/html": [
       "<div>\n",
       "<style scoped>\n",
       "    .dataframe tbody tr th:only-of-type {\n",
       "        vertical-align: middle;\n",
       "    }\n",
       "\n",
       "    .dataframe tbody tr th {\n",
       "        vertical-align: top;\n",
       "    }\n",
       "\n",
       "    .dataframe thead th {\n",
       "        text-align: right;\n",
       "    }\n",
       "</style>\n",
       "<table border=\"1\" class=\"dataframe\">\n",
       "  <thead>\n",
       "    <tr style=\"text-align: right;\">\n",
       "      <th></th>\n",
       "      <th>transactionid</th>\n",
       "      <th>surveyscore</th>\n",
       "    </tr>\n",
       "  </thead>\n",
       "  <tbody>\n",
       "    <tr>\n",
       "      <th>0</th>\n",
       "      <td>TX3070</td>\n",
       "      <td>61</td>\n",
       "    </tr>\n",
       "    <tr>\n",
       "      <th>1</th>\n",
       "      <td>TX3091</td>\n",
       "      <td>61</td>\n",
       "    </tr>\n",
       "    <tr>\n",
       "      <th>2</th>\n",
       "      <td>TX3093</td>\n",
       "      <td>61</td>\n",
       "    </tr>\n",
       "    <tr>\n",
       "      <th>3</th>\n",
       "      <td>TX5147</td>\n",
       "      <td>61</td>\n",
       "    </tr>\n",
       "    <tr>\n",
       "      <th>4</th>\n",
       "      <td>TX3027</td>\n",
       "      <td>62</td>\n",
       "    </tr>\n",
       "  </tbody>\n",
       "</table>\n",
       "</div>"
      ],
      "text/plain": [
       "  transactionid  surveyscore\n",
       "0        TX3070           61\n",
       "1        TX3091           61\n",
       "2        TX3093           61\n",
       "3        TX5147           61\n",
       "4        TX3027           62"
      ]
     },
     "execution_count": 53,
     "metadata": {},
     "output_type": "execute_result"
    }
   ],
   "source": [
    "#import survey data to BigQuery\n",
    "tablename = 'satisfactionsurvey'\n",
    "table_id = \"{}.{}\".format(dataset_id, tablename) #fully qualified table name\n",
    "print (table_id)\n",
    "\n",
    "import_csv_to_bq(surveyfile, table_id)\n",
    "\n",
    "#preview imported data\n",
    "bq_client.query(\"SELECT * FROM \"+ \"`\" +table_id+ \"`\").to_dataframe().head()\n",
    "\n",
    "#wait until dataframe preview completed!"
   ]
  },
  {
   "cell_type": "code",
   "execution_count": null,
   "metadata": {},
   "outputs": [],
   "source": []
  }
 ],
 "metadata": {
  "environment": {
   "kernel": "python3",
   "name": "common-cpu.m111",
   "type": "gcloud",
   "uri": "gcr.io/deeplearning-platform-release/base-cpu:m111"
  },
  "kernelspec": {
   "display_name": "Python 3",
   "language": "python",
   "name": "python3"
  },
  "language_info": {
   "codemirror_mode": {
    "name": "ipython",
    "version": 3
   },
   "file_extension": ".py",
   "mimetype": "text/x-python",
   "name": "python",
   "nbconvert_exporter": "python",
   "pygments_lexer": "ipython3",
   "version": "3.10.12"
  }
 },
 "nbformat": 4,
 "nbformat_minor": 4
}
