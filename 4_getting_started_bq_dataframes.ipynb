{
 "cells": [
  {
   "cell_type": "code",
   "execution_count": null,
   "metadata": {
    "id": "ur8xi4C7S06n"
   },
   "outputs": [],
   "source": [
    "# Copyright 2023 Google LLC\n",
    "#\n",
    "# Licensed under the Apache License, Version 2.0 (the \"License\");\n",
    "# you may not use this file except in compliance with the License.\n",
    "# You may obtain a copy of the License at\n",
    "#\n",
    "#     https://www.apache.org/licenses/LICENSE-2.0\n",
    "#\n",
    "# Unless required by applicable law or agreed to in writing, software\n",
    "# distributed under the License is distributed on an \"AS IS\" BASIS,\n",
    "# WITHOUT WARRANTIES OR CONDITIONS OF ANY KIND, either express or implied.\n",
    "# See the License for the specific language governing permissions and\n",
    "# limitations under the License."
   ]
  },
  {
   "cell_type": "markdown",
   "metadata": {
    "id": "JAPoU8Sm5E6e"
   },
   "source": [
    "# Get started with BigQuery DataFrames\n",
    "\n",
    "<table align=\"left\">\n",
    "\n",
    "  <td>\n",
    "    <a href=\"https://colab.research.google.com/github/googleapis/python-bigquery-dataframes/blob/main/notebooks/getting_started/getting_started_bq_dataframes.ipynb\">\n",
    "      <img src=\"https://cloud.google.com/ml-engine/images/colab-logo-32px.png\" alt=\"Colab logo\"> Run in Colab\n",
    "    </a>\n",
    "  </td>\n",
    "  <td>\n",
    "    <a href=\"https://github.com/googleapis/python-bigquery-dataframes/blob/main/notebooks/getting_started/getting_started_bq_dataframes.ipynb\">\n",
    "      <img src=\"https://cloud.google.com/ml-engine/images/github-logo-32px.png\" alt=\"GitHub logo\">\n",
    "      View on GitHub\n",
    "    </a>\n",
    "  </td>\n",
    "  <td>\n",
    "    <a href=\"https://console.cloud.google.com/vertex-ai/workbench/deploy-notebook?download_url=https://raw.githubusercontent.com/googleapis/python-bigquery-dataframes/blob/main/notebooks/getting_started/getting_started_bq_dataframes.ipynb\">\n",
    "      <img src=\"https://lh3.googleusercontent.com/UiNooY4LUgW_oTvpsNhPpQzsstV5W8F7rYgxgGBD85cWJoLmrOzhVs_ksK_vgx40SHs7jCqkTkCk=e14-rj-sc0xffffff-h130-w32\" alt=\"Vertex AI logo\">\n",
    "      Open in Vertex AI Workbench\n",
    "    </a>\n",
    "  </td>                                                                                               \n",
    "</table>"
   ]
  },
  {
   "cell_type": "markdown",
   "metadata": {
    "id": "24743cf4a1e1"
   },
   "source": [
    "**_NOTE_**: This notebook has been tested in the following environment:\n",
    "\n",
    "* Python version = 3.10\n",
    "\n",
    "This notebokk is adapted from the following doc: [Getting Started with BigFrame](https://github.com/googleapis/python-bigquery-dataframes/blob/main/notebooks/getting_started/getting_started_bq_dataframes.ipynb)"
   ]
  },
  {
   "cell_type": "markdown",
   "metadata": {
    "id": "tvgnzT1CKxrO"
   },
   "source": [
    "## Overview\n",
    "\n",
    "Use this notebook to get started with BigQuery DataFrames, including setup, installation, and basic tutorials.\n",
    "\n",
    "BigQuery DataFrames provides a Pythonic DataFrame and machine learning (ML) API powered by the BigQuery engine.\n",
    "\n",
    "* `bigframes.pandas` provides a pandas-like API for analytics.\n",
    "* `bigframes.ml` provides a scikit-learn-like API for ML.\n",
    "\n",
    "Learn more about [BigQuery DataFrames](https://cloud.google.com/python/docs/reference/bigframes/latest)."
   ]
  },
  {
   "cell_type": "markdown",
   "metadata": {
    "id": "d975e698c9a4"
   },
   "source": [
    "### Objective\n",
    "\n",
    "In this tutorial, you learn how to install BigQuery DataFrames, load data into a BigQuery DataFrames DataFrame, and inspect and manipulate the data using pandas and a custom Python function, running at BigQuery scale.\n",
    "\n",
    "The steps include:\n",
    "\n",
    "- Creating a BigQuery DataFrames DataFrame: Access data from a local CSV to create a BigQuery DataFrames DataFrame.\n",
    "- Inspecting and manipulating data: Use pandas to perform data cleaning and preparation on the DataFrame.\n",
    "- Deploying a custom function: Deploy a [remote function ](https://cloud.google.com/bigquery/docs/remote-functions)that runs a scalar Python function at BigQuery scale."
   ]
  },
  {
   "cell_type": "markdown",
   "metadata": {
    "id": "08d289fa873f"
   },
   "source": [
    "### Dataset\n",
    "\n",
    "This tutorial uses the [```penguins``` table](https://console.cloud.google.com/bigquery?p=bigquery-public-data&d=ml_datasets&t=penguins) (a BigQuery public dataset), which contains data on a set of penguins including species, island of residence, weight, culmen length and depth, flipper length, and sex.\n",
    "\n",
    "The same dataset is also stored in a public Cloud Storage bucket as a CSV file so that you can use it to try ingesting data from a local environment."
   ]
  },
  {
   "cell_type": "markdown",
   "metadata": {
    "id": "i7EUnXsZhAGF"
   },
   "source": [
    "## Installation\n",
    "\n",
    "Install the following packages, which are required to run this notebook:"
   ]
  },
  {
   "cell_type": "code",
   "execution_count": 1,
   "metadata": {
    "id": "mfPoOwPLGpSr"
   },
   "outputs": [
    {
     "name": "stdout",
     "output_type": "stream",
     "text": [
      "Requirement already satisfied: bigframes in /opt/conda/lib/python3.10/site-packages (0.14.1)\n",
      "Requirement already satisfied: cloudpickle>=2.0.0 in /opt/conda/lib/python3.10/site-packages (from bigframes) (2.2.1)\n",
      "Requirement already satisfied: fsspec>=2023.3.0 in /opt/conda/lib/python3.10/site-packages (from bigframes) (2023.6.0)\n",
      "Requirement already satisfied: gcsfs>=2023.3.0 in /opt/conda/lib/python3.10/site-packages (from bigframes) (2023.6.0)\n",
      "Requirement already satisfied: geopandas>=0.12.2 in /opt/conda/lib/python3.10/site-packages (from bigframes) (0.14.1)\n",
      "Requirement already satisfied: google-auth<3.0dev,>2.14.1 in /opt/conda/lib/python3.10/site-packages (from bigframes) (2.22.0)\n",
      "Requirement already satisfied: google-cloud-bigquery[bqstorage,pandas]>=3.10.0 in /opt/conda/lib/python3.10/site-packages (from bigframes) (3.13.0)\n",
      "Requirement already satisfied: google-cloud-functions>=1.10.1 in /opt/conda/lib/python3.10/site-packages (from bigframes) (1.13.3)\n",
      "Requirement already satisfied: google-cloud-bigquery-connection>=1.12.0 in /opt/conda/lib/python3.10/site-packages (from bigframes) (1.13.2)\n",
      "Requirement already satisfied: google-cloud-iam>=2.12.1 in /opt/conda/lib/python3.10/site-packages (from bigframes) (2.12.2)\n",
      "Requirement already satisfied: google-cloud-resource-manager>=1.10.3 in /opt/conda/lib/python3.10/site-packages (from bigframes) (1.10.3)\n",
      "Requirement already satisfied: google-cloud-storage>=2.0.0 in /opt/conda/lib/python3.10/site-packages (from bigframes) (2.11.0)\n",
      "Requirement already satisfied: ibis-framework[bigquery]<7.0.0dev,>=6.2.0 in /opt/conda/lib/python3.10/site-packages (from bigframes) (6.2.0)\n",
      "Requirement already satisfied: pandas>=1.5.0 in ./.local/lib/python3.10/site-packages (from bigframes) (2.1.1)\n",
      "Requirement already satisfied: pydata-google-auth>=1.8.2 in /opt/conda/lib/python3.10/site-packages (from bigframes) (1.8.2)\n",
      "Requirement already satisfied: requests>=2.27.1 in /opt/conda/lib/python3.10/site-packages (from bigframes) (2.31.0)\n",
      "Requirement already satisfied: scikit-learn>=1.2.2 in /opt/conda/lib/python3.10/site-packages (from bigframes) (1.3.0)\n",
      "Requirement already satisfied: sqlalchemy<3.0dev,>=1.4 in /opt/conda/lib/python3.10/site-packages (from bigframes) (1.4.48)\n",
      "Requirement already satisfied: ipywidgets>=7.7.1 in /opt/conda/lib/python3.10/site-packages (from bigframes) (8.1.0)\n",
      "Requirement already satisfied: humanize>=4.6.0 in /opt/conda/lib/python3.10/site-packages (from bigframes) (4.9.0)\n",
      "Requirement already satisfied: aiohttp!=4.0.0a0,!=4.0.0a1 in /opt/conda/lib/python3.10/site-packages (from gcsfs>=2023.3.0->bigframes) (3.8.5)\n",
      "Requirement already satisfied: decorator>4.1.2 in /opt/conda/lib/python3.10/site-packages (from gcsfs>=2023.3.0->bigframes) (5.1.1)\n",
      "Requirement already satisfied: google-auth-oauthlib in /opt/conda/lib/python3.10/site-packages (from gcsfs>=2023.3.0->bigframes) (1.0.0)\n",
      "Requirement already satisfied: fiona>=1.8.21 in /opt/conda/lib/python3.10/site-packages (from geopandas>=0.12.2->bigframes) (1.9.5)\n",
      "Requirement already satisfied: packaging in /opt/conda/lib/python3.10/site-packages (from geopandas>=0.12.2->bigframes) (23.1)\n",
      "Requirement already satisfied: pyproj>=3.3.0 in /opt/conda/lib/python3.10/site-packages (from geopandas>=0.12.2->bigframes) (3.6.1)\n",
      "Requirement already satisfied: shapely>=1.8.0 in /opt/conda/lib/python3.10/site-packages (from geopandas>=0.12.2->bigframes) (1.8.5.post1)\n",
      "Requirement already satisfied: cachetools<6.0,>=2.0.0 in /opt/conda/lib/python3.10/site-packages (from google-auth<3.0dev,>2.14.1->bigframes) (5.3.1)\n",
      "Requirement already satisfied: pyasn1-modules>=0.2.1 in /opt/conda/lib/python3.10/site-packages (from google-auth<3.0dev,>2.14.1->bigframes) (0.3.0)\n",
      "Requirement already satisfied: rsa<5,>=3.1.4 in /opt/conda/lib/python3.10/site-packages (from google-auth<3.0dev,>2.14.1->bigframes) (4.9)\n",
      "Requirement already satisfied: six>=1.9.0 in /opt/conda/lib/python3.10/site-packages (from google-auth<3.0dev,>2.14.1->bigframes) (1.16.0)\n",
      "Requirement already satisfied: urllib3<2.0 in /opt/conda/lib/python3.10/site-packages (from google-auth<3.0dev,>2.14.1->bigframes) (1.26.16)\n",
      "Requirement already satisfied: google-api-core[grpc]!=2.0.*,!=2.1.*,!=2.10.*,!=2.2.*,!=2.3.*,!=2.4.*,!=2.5.*,!=2.6.*,!=2.7.*,!=2.8.*,!=2.9.*,<3.0.0dev,>=1.34.0 in /opt/conda/lib/python3.10/site-packages (from google-cloud-bigquery-connection>=1.12.0->bigframes) (1.34.0)\n",
      "Requirement already satisfied: proto-plus<2.0.0dev,>=1.22.0 in /opt/conda/lib/python3.10/site-packages (from google-cloud-bigquery-connection>=1.12.0->bigframes) (1.22.3)\n",
      "Requirement already satisfied: protobuf!=3.20.0,!=3.20.1,!=4.21.0,!=4.21.1,!=4.21.2,!=4.21.3,!=4.21.4,!=4.21.5,<5.0.0dev,>=3.19.5 in /opt/conda/lib/python3.10/site-packages (from google-cloud-bigquery-connection>=1.12.0->bigframes) (3.20.3)\n",
      "Requirement already satisfied: grpc-google-iam-v1<1.0.0dev,>=0.12.4 in /opt/conda/lib/python3.10/site-packages (from google-cloud-bigquery-connection>=1.12.0->bigframes) (0.12.6)\n",
      "Requirement already satisfied: grpcio<2.0dev,>=1.47.0 in /opt/conda/lib/python3.10/site-packages (from google-cloud-bigquery[bqstorage,pandas]>=3.10.0->bigframes) (1.57.0)\n",
      "Requirement already satisfied: google-cloud-core<3.0.0dev,>=1.6.0 in /opt/conda/lib/python3.10/site-packages (from google-cloud-bigquery[bqstorage,pandas]>=3.10.0->bigframes) (2.3.3)\n",
      "Requirement already satisfied: google-resumable-media<3.0dev,>=0.6.0 in /opt/conda/lib/python3.10/site-packages (from google-cloud-bigquery[bqstorage,pandas]>=3.10.0->bigframes) (2.6.0)\n",
      "Requirement already satisfied: python-dateutil<3.0dev,>=2.7.2 in /opt/conda/lib/python3.10/site-packages (from google-cloud-bigquery[bqstorage,pandas]>=3.10.0->bigframes) (2.8.2)\n",
      "Requirement already satisfied: pyarrow>=3.0.0 in /opt/conda/lib/python3.10/site-packages (from google-cloud-bigquery[bqstorage,pandas]>=3.10.0->bigframes) (12.0.1)\n",
      "Requirement already satisfied: db-dtypes<2.0.0dev,>=0.3.0 in /opt/conda/lib/python3.10/site-packages (from google-cloud-bigquery[bqstorage,pandas]>=3.10.0->bigframes) (1.1.1)\n",
      "Requirement already satisfied: google-cloud-bigquery-storage<3.0.0dev,>=2.6.0 in /opt/conda/lib/python3.10/site-packages (from google-cloud-bigquery[bqstorage,pandas]>=3.10.0->bigframes) (2.22.0)\n",
      "Requirement already satisfied: atpublic<5,>=2.3 in /opt/conda/lib/python3.10/site-packages (from ibis-framework[bigquery]<7.0.0dev,>=6.2.0->bigframes) (4.0)\n",
      "Requirement already satisfied: bidict<1,>=0.22.1 in /opt/conda/lib/python3.10/site-packages (from ibis-framework[bigquery]<7.0.0dev,>=6.2.0->bigframes) (0.22.1)\n",
      "Requirement already satisfied: filelock<4,>=3.7.0 in /opt/conda/lib/python3.10/site-packages (from ibis-framework[bigquery]<7.0.0dev,>=6.2.0->bigframes) (3.12.2)\n",
      "Requirement already satisfied: multipledispatch<2,>=0.6 in /opt/conda/lib/python3.10/site-packages (from ibis-framework[bigquery]<7.0.0dev,>=6.2.0->bigframes) (1.0.0)\n",
      "Requirement already satisfied: numpy<2,>=1 in /opt/conda/lib/python3.10/site-packages (from ibis-framework[bigquery]<7.0.0dev,>=6.2.0->bigframes) (1.26.2)\n",
      "Requirement already satisfied: parsy<3,>=2 in /opt/conda/lib/python3.10/site-packages (from ibis-framework[bigquery]<7.0.0dev,>=6.2.0->bigframes) (2.1)\n",
      "Requirement already satisfied: pooch[progress,xxhash]<2,>=1.6.0 in /opt/conda/lib/python3.10/site-packages (from ibis-framework[bigquery]<7.0.0dev,>=6.2.0->bigframes) (1.8.0)\n",
      "Requirement already satisfied: pytz>=2022.7 in /opt/conda/lib/python3.10/site-packages (from ibis-framework[bigquery]<7.0.0dev,>=6.2.0->bigframes) (2023.3)\n",
      "Requirement already satisfied: rich<14,>=12.4.4 in /opt/conda/lib/python3.10/site-packages (from ibis-framework[bigquery]<7.0.0dev,>=6.2.0->bigframes) (13.5.2)\n",
      "Requirement already satisfied: sqlglot<18,>=10.4.3 in /opt/conda/lib/python3.10/site-packages (from ibis-framework[bigquery]<7.0.0dev,>=6.2.0->bigframes) (17.16.2)\n",
      "Requirement already satisfied: toolz<1,>=0.11 in /opt/conda/lib/python3.10/site-packages (from ibis-framework[bigquery]<7.0.0dev,>=6.2.0->bigframes) (0.12.0)\n",
      "Requirement already satisfied: typing-extensions<5,>=4.3.0 in /opt/conda/lib/python3.10/site-packages (from ibis-framework[bigquery]<7.0.0dev,>=6.2.0->bigframes) (4.7.1)\n",
      "Requirement already satisfied: comm>=0.1.3 in /opt/conda/lib/python3.10/site-packages (from ipywidgets>=7.7.1->bigframes) (0.1.4)\n",
      "Requirement already satisfied: ipython>=6.1.0 in /opt/conda/lib/python3.10/site-packages (from ipywidgets>=7.7.1->bigframes) (8.14.0)\n",
      "Requirement already satisfied: traitlets>=4.3.1 in /opt/conda/lib/python3.10/site-packages (from ipywidgets>=7.7.1->bigframes) (5.9.0)\n",
      "Requirement already satisfied: widgetsnbextension~=4.0.7 in /opt/conda/lib/python3.10/site-packages (from ipywidgets>=7.7.1->bigframes) (4.0.8)\n",
      "Requirement already satisfied: jupyterlab-widgets~=3.0.7 in /opt/conda/lib/python3.10/site-packages (from ipywidgets>=7.7.1->bigframes) (3.0.8)\n",
      "Requirement already satisfied: tzdata>=2022.1 in /opt/conda/lib/python3.10/site-packages (from pandas>=1.5.0->bigframes) (2023.3)\n",
      "Requirement already satisfied: setuptools in /opt/conda/lib/python3.10/site-packages (from pydata-google-auth>=1.8.2->bigframes) (68.1.2)\n",
      "Requirement already satisfied: charset-normalizer<4,>=2 in /opt/conda/lib/python3.10/site-packages (from requests>=2.27.1->bigframes) (3.2.0)\n",
      "Requirement already satisfied: idna<4,>=2.5 in /opt/conda/lib/python3.10/site-packages (from requests>=2.27.1->bigframes) (3.4)\n",
      "Requirement already satisfied: certifi>=2017.4.17 in /opt/conda/lib/python3.10/site-packages (from requests>=2.27.1->bigframes) (2023.7.22)\n",
      "Requirement already satisfied: scipy>=1.5.0 in /opt/conda/lib/python3.10/site-packages (from scikit-learn>=1.2.2->bigframes) (1.11.2)\n",
      "Requirement already satisfied: joblib>=1.1.1 in /opt/conda/lib/python3.10/site-packages (from scikit-learn>=1.2.2->bigframes) (1.3.2)\n",
      "Requirement already satisfied: threadpoolctl>=2.0.0 in /opt/conda/lib/python3.10/site-packages (from scikit-learn>=1.2.2->bigframes) (3.2.0)\n",
      "Requirement already satisfied: greenlet!=0.4.17 in /opt/conda/lib/python3.10/site-packages (from sqlalchemy<3.0dev,>=1.4->bigframes) (2.0.2)\n",
      "Requirement already satisfied: attrs>=17.3.0 in /opt/conda/lib/python3.10/site-packages (from aiohttp!=4.0.0a0,!=4.0.0a1->gcsfs>=2023.3.0->bigframes) (23.1.0)\n",
      "Requirement already satisfied: multidict<7.0,>=4.5 in /opt/conda/lib/python3.10/site-packages (from aiohttp!=4.0.0a0,!=4.0.0a1->gcsfs>=2023.3.0->bigframes) (6.0.4)\n",
      "Requirement already satisfied: async-timeout<5.0,>=4.0.0a3 in /opt/conda/lib/python3.10/site-packages (from aiohttp!=4.0.0a0,!=4.0.0a1->gcsfs>=2023.3.0->bigframes) (4.0.3)\n",
      "Requirement already satisfied: yarl<2.0,>=1.0 in /opt/conda/lib/python3.10/site-packages (from aiohttp!=4.0.0a0,!=4.0.0a1->gcsfs>=2023.3.0->bigframes) (1.9.2)\n",
      "Requirement already satisfied: frozenlist>=1.1.1 in /opt/conda/lib/python3.10/site-packages (from aiohttp!=4.0.0a0,!=4.0.0a1->gcsfs>=2023.3.0->bigframes) (1.4.0)\n",
      "Requirement already satisfied: aiosignal>=1.1.2 in /opt/conda/lib/python3.10/site-packages (from aiohttp!=4.0.0a0,!=4.0.0a1->gcsfs>=2023.3.0->bigframes) (1.3.1)\n",
      "Requirement already satisfied: click~=8.0 in /opt/conda/lib/python3.10/site-packages (from fiona>=1.8.21->geopandas>=0.12.2->bigframes) (8.1.7)\n",
      "Requirement already satisfied: click-plugins>=1.0 in /opt/conda/lib/python3.10/site-packages (from fiona>=1.8.21->geopandas>=0.12.2->bigframes) (1.1.1)\n",
      "Requirement already satisfied: cligj>=0.5 in /opt/conda/lib/python3.10/site-packages (from fiona>=1.8.21->geopandas>=0.12.2->bigframes) (0.7.2)\n",
      "Requirement already satisfied: googleapis-common-protos<2.0dev,>=1.56.2 in /opt/conda/lib/python3.10/site-packages (from google-api-core[grpc]!=2.0.*,!=2.1.*,!=2.10.*,!=2.2.*,!=2.3.*,!=2.4.*,!=2.5.*,!=2.6.*,!=2.7.*,!=2.8.*,!=2.9.*,<3.0.0dev,>=1.34.0->google-cloud-bigquery-connection>=1.12.0->bigframes) (1.60.0)\n",
      "Requirement already satisfied: grpcio-status<2.0dev,>=1.33.2 in /opt/conda/lib/python3.10/site-packages (from google-api-core[grpc]!=2.0.*,!=2.1.*,!=2.10.*,!=2.2.*,!=2.3.*,!=2.4.*,!=2.5.*,!=2.6.*,!=2.7.*,!=2.8.*,!=2.9.*,<3.0.0dev,>=1.34.0->google-cloud-bigquery-connection>=1.12.0->bigframes) (1.48.2)\n",
      "Requirement already satisfied: requests-oauthlib>=0.7.0 in /opt/conda/lib/python3.10/site-packages (from google-auth-oauthlib->gcsfs>=2023.3.0->bigframes) (1.3.1)\n",
      "Requirement already satisfied: google-crc32c<2.0dev,>=1.0 in /opt/conda/lib/python3.10/site-packages (from google-resumable-media<3.0dev,>=0.6.0->google-cloud-bigquery[bqstorage,pandas]>=3.10.0->bigframes) (1.5.0)\n",
      "Requirement already satisfied: backcall in /opt/conda/lib/python3.10/site-packages (from ipython>=6.1.0->ipywidgets>=7.7.1->bigframes) (0.2.0)\n",
      "Requirement already satisfied: jedi>=0.16 in /opt/conda/lib/python3.10/site-packages (from ipython>=6.1.0->ipywidgets>=7.7.1->bigframes) (0.19.0)\n",
      "Requirement already satisfied: matplotlib-inline in /opt/conda/lib/python3.10/site-packages (from ipython>=6.1.0->ipywidgets>=7.7.1->bigframes) (0.1.6)\n",
      "Requirement already satisfied: pickleshare in /opt/conda/lib/python3.10/site-packages (from ipython>=6.1.0->ipywidgets>=7.7.1->bigframes) (0.7.5)\n",
      "Requirement already satisfied: prompt-toolkit!=3.0.37,<3.1.0,>=3.0.30 in /opt/conda/lib/python3.10/site-packages (from ipython>=6.1.0->ipywidgets>=7.7.1->bigframes) (3.0.39)\n",
      "Requirement already satisfied: pygments>=2.4.0 in /opt/conda/lib/python3.10/site-packages (from ipython>=6.1.0->ipywidgets>=7.7.1->bigframes) (2.16.1)\n",
      "Requirement already satisfied: stack-data in /opt/conda/lib/python3.10/site-packages (from ipython>=6.1.0->ipywidgets>=7.7.1->bigframes) (0.6.2)\n",
      "Requirement already satisfied: pexpect>4.3 in /opt/conda/lib/python3.10/site-packages (from ipython>=6.1.0->ipywidgets>=7.7.1->bigframes) (4.8.0)\n",
      "Requirement already satisfied: platformdirs>=2.5.0 in /opt/conda/lib/python3.10/site-packages (from pooch[progress,xxhash]<2,>=1.6.0->ibis-framework[bigquery]<7.0.0dev,>=6.2.0->bigframes) (3.10.0)\n",
      "Requirement already satisfied: tqdm<5.0.0,>=4.41.0 in /opt/conda/lib/python3.10/site-packages (from pooch[progress,xxhash]<2,>=1.6.0->ibis-framework[bigquery]<7.0.0dev,>=6.2.0->bigframes) (4.66.1)\n",
      "Requirement already satisfied: xxhash>=1.4.3 in ./.local/lib/python3.10/site-packages (from pooch[progress,xxhash]<2,>=1.6.0->ibis-framework[bigquery]<7.0.0dev,>=6.2.0->bigframes) (3.4.1)\n",
      "Requirement already satisfied: pyasn1<0.6.0,>=0.4.6 in /opt/conda/lib/python3.10/site-packages (from pyasn1-modules>=0.2.1->google-auth<3.0dev,>2.14.1->bigframes) (0.5.0)\n",
      "Requirement already satisfied: markdown-it-py>=2.2.0 in /opt/conda/lib/python3.10/site-packages (from rich<14,>=12.4.4->ibis-framework[bigquery]<7.0.0dev,>=6.2.0->bigframes) (3.0.0)\n",
      "Requirement already satisfied: parso<0.9.0,>=0.8.3 in /opt/conda/lib/python3.10/site-packages (from jedi>=0.16->ipython>=6.1.0->ipywidgets>=7.7.1->bigframes) (0.8.3)\n",
      "Requirement already satisfied: mdurl~=0.1 in /opt/conda/lib/python3.10/site-packages (from markdown-it-py>=2.2.0->rich<14,>=12.4.4->ibis-framework[bigquery]<7.0.0dev,>=6.2.0->bigframes) (0.1.2)\n",
      "Requirement already satisfied: ptyprocess>=0.5 in /opt/conda/lib/python3.10/site-packages (from pexpect>4.3->ipython>=6.1.0->ipywidgets>=7.7.1->bigframes) (0.7.0)\n",
      "Requirement already satisfied: wcwidth in /opt/conda/lib/python3.10/site-packages (from prompt-toolkit!=3.0.37,<3.1.0,>=3.0.30->ipython>=6.1.0->ipywidgets>=7.7.1->bigframes) (0.2.6)\n",
      "Requirement already satisfied: oauthlib>=3.0.0 in /opt/conda/lib/python3.10/site-packages (from requests-oauthlib>=0.7.0->google-auth-oauthlib->gcsfs>=2023.3.0->bigframes) (3.2.2)\n",
      "Requirement already satisfied: executing>=1.2.0 in /opt/conda/lib/python3.10/site-packages (from stack-data->ipython>=6.1.0->ipywidgets>=7.7.1->bigframes) (1.2.0)\n",
      "Requirement already satisfied: asttokens>=2.1.0 in /opt/conda/lib/python3.10/site-packages (from stack-data->ipython>=6.1.0->ipywidgets>=7.7.1->bigframes) (2.2.1)\n",
      "Requirement already satisfied: pure-eval in /opt/conda/lib/python3.10/site-packages (from stack-data->ipython>=6.1.0->ipywidgets>=7.7.1->bigframes) (0.2.2)\n"
     ]
    }
   ],
   "source": [
    "!pip install bigframes"
   ]
  },
  {
   "cell_type": "markdown",
   "metadata": {
    "id": "58707a750154"
   },
   "source": [
    "### Run these ONLY If you use Google Colab\n",
    "\n",
    "Uncomment and run the following cell to restart the kernel:"
   ]
  },
  {
   "cell_type": "code",
   "execution_count": 9,
   "metadata": {
    "id": "f200f10a1da3"
   },
   "outputs": [],
   "source": [
    "# Automatically restart kernel after installs so that your environment can access the new packages\n",
    "# import IPython\n",
    "\n",
    "# app = IPython.Application.instance()\n",
    "# app.kernel.do_shutdown(True)"
   ]
  },
  {
   "cell_type": "markdown",
   "metadata": {
    "id": "BF1j6f9HApxa"
   },
   "source": [
    "## Before you begin\n",
    "\n",
    "Complete the tasks in this section to set up your environment."
   ]
  },
  {
   "cell_type": "markdown",
   "metadata": {
    "id": "WReHDGG5g0XY"
   },
   "source": [
    "#### Set your project ID\n"
   ]
  },
  {
   "cell_type": "code",
   "execution_count": 2,
   "metadata": {
    "id": "oM1iC_MfAts1"
   },
   "outputs": [
    {
     "name": "stdout",
     "output_type": "stream",
     "text": [
      "Updated property [core/project].\n"
     ]
    }
   ],
   "source": [
    "#enter your project id\n",
    "\n",
    "PROJECT_ID = \"bqstackdemo\"  # @param {type:\"string\"}\n",
    "\n",
    "# Set the project id\n",
    "! gcloud config set project {PROJECT_ID}"
   ]
  },
  {
   "cell_type": "markdown",
   "metadata": {
    "id": "region"
   },
   "source": [
    "#### Set the region\n",
    "\n",
    "You can also change the `REGION` variable used by BigQuery. Learn more about [BigQuery regions](https://cloud.google.com/bigquery/docs/locations#supported_locations)."
   ]
  },
  {
   "cell_type": "code",
   "execution_count": 3,
   "metadata": {
    "id": "eF-Twtc4XGem"
   },
   "outputs": [],
   "source": [
    "REGION = \"US\"  # @param {type: \"string\"}"
   ]
  },
  {
   "cell_type": "markdown",
   "metadata": {
    "id": "sBCra4QMA2wR"
   },
   "source": [
    "### Authenticate your Google Cloud account\n",
    "\n",
    "Depending on your Jupyter environment, you might have to manually authenticate. Follow the relevant instructions below."
   ]
  },
  {
   "cell_type": "markdown",
   "metadata": {
    "id": "74ccc9e52986"
   },
   "source": [
    "**Vertex AI Workbench**\n",
    "\n",
    "Do nothing, you are already authenticated."
   ]
  },
  {
   "cell_type": "markdown",
   "metadata": {
    "id": "de775a3773ba"
   },
   "source": [
    "**Local JupyterLab instance**\n",
    "\n",
    "Uncomment and run the following cell:"
   ]
  },
  {
   "cell_type": "code",
   "execution_count": 4,
   "metadata": {
    "id": "254614fa0c46"
   },
   "outputs": [],
   "source": [
    "# ! gcloud auth login"
   ]
  },
  {
   "cell_type": "markdown",
   "metadata": {
    "id": "ef21552ccea8"
   },
   "source": [
    "**Colab**\n",
    "\n",
    "Uncomment and run the following cell:"
   ]
  },
  {
   "cell_type": "code",
   "execution_count": 5,
   "metadata": {
    "id": "603adbbf0532"
   },
   "outputs": [],
   "source": [
    "# from google.colab import auth\n",
    "# auth.authenticate_user()"
   ]
  },
  {
   "cell_type": "markdown",
   "metadata": {
    "id": "960505627ddf"
   },
   "source": [
    "### Import libraries"
   ]
  },
  {
   "cell_type": "code",
   "execution_count": 6,
   "metadata": {
    "id": "PyQmSRbKA8r-"
   },
   "outputs": [],
   "source": [
    "import bigframes.pandas as bf"
   ]
  },
  {
   "cell_type": "markdown",
   "metadata": {
    "id": "init_aip:mbsdk,all"
   },
   "source": [
    "\n",
    "### Set BigQuery DataFrames options"
   ]
  },
  {
   "cell_type": "code",
   "execution_count": 7,
   "metadata": {
    "id": "NPPMuw2PXGeo"
   },
   "outputs": [],
   "source": [
    "bf.options.bigquery.project = PROJECT_ID\n",
    "bf.options.bigquery.location = REGION"
   ]
  },
  {
   "cell_type": "markdown",
   "metadata": {
    "id": "pDfrKwMKE_dK"
   },
   "source": [
    "If you want to reset the location of the created DataFrame or Series objects, reset the session by executing `bf.close_session()`. After that, you can reuse `bf.options.bigquery.location` to specify another location."
   ]
  },
  {
   "cell_type": "markdown",
   "metadata": {
    "id": "-19Uiwoo9pP4"
   },
   "source": [
    "## See the power of BigQuery DataFrames first-hand\n",
    "\n",
    "BigQuery DataFrames enables you to interact with datasets of any size, so that you can explore, transform, and understand even your biggest datasets using familiar tools like pandas and scikit-learn."
   ]
  },
  {
   "cell_type": "markdown",
   "metadata": {
    "id": "KMX4D2uoBwM0"
   },
   "source": [
    "For example, take the BigQuery sample table `bigquery-samples.wikipedia_pageviews.200809h`, which is ~60 GB is size. This is not a dataset you'd likely be able process in pandas without extra infrastructure.\n",
    "\n",
    "With BigQuery DataFrames, however, computation is handled by BigQuery's highly scalable compute engine, meaning you can focus on doing data science without hitting size limitations."
   ]
  },
  {
   "cell_type": "markdown",
   "metadata": {
    "id": "i98c46p1CXoV"
   },
   "source": [
    "If you'd like to try creating a BigQuery DataFrames DataFrame from this table, uncomment and run the next cell to load the table using the `read_gbq` method.\n",
    "\n"
   ]
  },
  {
   "cell_type": "code",
   "execution_count": 8,
   "metadata": {
    "id": "Vyex9BQI-BNa"
   },
   "outputs": [],
   "source": [
    "bq_df_sample = bf.read_gbq(\"bigquery-samples.wikipedia_pageviews.200809h\")"
   ]
  },
  {
   "cell_type": "markdown",
   "metadata": {
    "id": "gE6CEALjDZZV"
   },
   "source": [
    "No problem! BigQuery DataFrames makes a DataFrame, `bq_df_sample`, containing the entirety of the source table of data."
   ]
  },
  {
   "cell_type": "markdown",
   "metadata": {
    "id": "T6lAIeelDwLz"
   },
   "source": [
    "Uncomment and run the following cell to see pandas in action over your new BigQuery DataFrames DataFrame.\n",
    "\n",
    "This code uses regex to filter the DataFrame to include only rows with Wikipedia page titles containing the word \"Google\", sums the total views by page title, and then returns the top 100 results."
   ]
  },
  {
   "cell_type": "code",
   "execution_count": 9,
   "metadata": {
    "id": "XfGq5apK-D_e"
   },
   "outputs": [
    {
     "data": {
      "text/html": [
       "Query job df7f9a23-ef53-4aa8-b134-e8a105c131d7 is DONE. 34.9 GB processed. <a target=\"_blank\" href=\"https://console.cloud.google.com/bigquery?project=bqstackdemo&j=bq:US:df7f9a23-ef53-4aa8-b134-e8a105c131d7&page=queryresults\">Open Job</a>"
      ],
      "text/plain": [
       "<IPython.core.display.HTML object>"
      ]
     },
     "metadata": {},
     "output_type": "display_data"
    },
    {
     "data": {
      "text/html": [
       "Query job 84baf50e-420e-41c3-8139-02d4183a8359 is DONE. 34.9 GB processed. <a target=\"_blank\" href=\"https://console.cloud.google.com/bigquery?project=bqstackdemo&j=bq:US:84baf50e-420e-41c3-8139-02d4183a8359&page=queryresults\">Open Job</a>"
      ],
      "text/plain": [
       "<IPython.core.display.HTML object>"
      ]
     },
     "metadata": {},
     "output_type": "display_data"
    },
    {
     "data": {
      "text/html": [
       "<div>\n",
       "<style scoped>\n",
       "    .dataframe tbody tr th:only-of-type {\n",
       "        vertical-align: middle;\n",
       "    }\n",
       "\n",
       "    .dataframe tbody tr th {\n",
       "        vertical-align: top;\n",
       "    }\n",
       "\n",
       "    .dataframe thead th {\n",
       "        text-align: right;\n",
       "    }\n",
       "</style>\n",
       "<table border=\"1\" class=\"dataframe\">\n",
       "  <thead>\n",
       "    <tr style=\"text-align: right;\">\n",
       "      <th></th>\n",
       "      <th>title</th>\n",
       "      <th>views</th>\n",
       "    </tr>\n",
       "  </thead>\n",
       "  <tbody>\n",
       "    <tr>\n",
       "      <th>21911</th>\n",
       "      <td>Google</td>\n",
       "      <td>1414560</td>\n",
       "    </tr>\n",
       "    <tr>\n",
       "      <th>27669</th>\n",
       "      <td>Google_Chrome</td>\n",
       "      <td>962482</td>\n",
       "    </tr>\n",
       "    <tr>\n",
       "      <th>28394</th>\n",
       "      <td>Google_Earth</td>\n",
       "      <td>383566</td>\n",
       "    </tr>\n",
       "    <tr>\n",
       "      <th>29184</th>\n",
       "      <td>Google_Maps</td>\n",
       "      <td>205089</td>\n",
       "    </tr>\n",
       "    <tr>\n",
       "      <th>27251</th>\n",
       "      <td>Google_Android</td>\n",
       "      <td>99450</td>\n",
       "    </tr>\n",
       "    <tr>\n",
       "      <th>33900</th>\n",
       "      <td>Google_search</td>\n",
       "      <td>97665</td>\n",
       "    </tr>\n",
       "    <tr>\n",
       "      <th>31825</th>\n",
       "      <td>Google_chrome</td>\n",
       "      <td>78399</td>\n",
       "    </tr>\n",
       "    <tr>\n",
       "      <th>30204</th>\n",
       "      <td>Google_Street_View</td>\n",
       "      <td>71580</td>\n",
       "    </tr>\n",
       "    <tr>\n",
       "      <th>40798</th>\n",
       "      <td>Image:Google_Chrome.png</td>\n",
       "      <td>60746</td>\n",
       "    </tr>\n",
       "    <tr>\n",
       "      <th>35222</th>\n",
       "      <td>Googleplex</td>\n",
       "      <td>53848</td>\n",
       "    </tr>\n",
       "    <tr>\n",
       "      <th>30530</th>\n",
       "      <td>Google_Video</td>\n",
       "      <td>51361</td>\n",
       "    </tr>\n",
       "    <tr>\n",
       "      <th>30284</th>\n",
       "      <td>Google_Talk</td>\n",
       "      <td>50664</td>\n",
       "    </tr>\n",
       "    <tr>\n",
       "      <th>28735</th>\n",
       "      <td>Google_Gears</td>\n",
       "      <td>33814</td>\n",
       "    </tr>\n",
       "    <tr>\n",
       "      <th>29125</th>\n",
       "      <td>Google_Lunar_X_Prize</td>\n",
       "      <td>33611</td>\n",
       "    </tr>\n",
       "    <tr>\n",
       "      <th>45654</th>\n",
       "      <td>List_of_Google_products</td>\n",
       "      <td>33596</td>\n",
       "    </tr>\n",
       "    <tr>\n",
       "      <th>24312</th>\n",
       "      <td>Google's_hoaxes</td>\n",
       "      <td>31042</td>\n",
       "    </tr>\n",
       "    <tr>\n",
       "      <th>40822</th>\n",
       "      <td>Image:Google_Earth.png</td>\n",
       "      <td>30213</td>\n",
       "    </tr>\n",
       "    <tr>\n",
       "      <th>28230</th>\n",
       "      <td>Google_Desktop</td>\n",
       "      <td>29775</td>\n",
       "    </tr>\n",
       "    <tr>\n",
       "      <th>31675</th>\n",
       "      <td>Google_bomb</td>\n",
       "      <td>28630</td>\n",
       "    </tr>\n",
       "    <tr>\n",
       "      <th>40703</th>\n",
       "      <td>Image:Google.png</td>\n",
       "      <td>28530</td>\n",
       "    </tr>\n",
       "    <tr>\n",
       "      <th>39303</th>\n",
       "      <td>IGoogle</td>\n",
       "      <td>24696</td>\n",
       "    </tr>\n",
       "    <tr>\n",
       "      <th>30380</th>\n",
       "      <td>Google_Toolbar</td>\n",
       "      <td>24586</td>\n",
       "    </tr>\n",
       "    <tr>\n",
       "      <th>40916</th>\n",
       "      <td>Image:Google_chrome_Maximized_screen_vista.png</td>\n",
       "      <td>23762</td>\n",
       "    </tr>\n",
       "    <tr>\n",
       "      <th>38045</th>\n",
       "      <td>History_of_Google</td>\n",
       "      <td>23508</td>\n",
       "    </tr>\n",
       "    <tr>\n",
       "      <th>40710</th>\n",
       "      <td>Image:Google1998.png</td>\n",
       "      <td>22899</td>\n",
       "    </tr>\n",
       "  </tbody>\n",
       "</table>\n",
       "<p>25 rows × 2 columns</p>\n",
       "</div>[100 rows x 2 columns in total]"
      ],
      "text/plain": [
       "                                                title    views\n",
       "21911                                          Google  1414560\n",
       "27669                                   Google_Chrome   962482\n",
       "28394                                    Google_Earth   383566\n",
       "29184                                     Google_Maps   205089\n",
       "27251                                  Google_Android    99450\n",
       "33900                                   Google_search    97665\n",
       "31825                                   Google_chrome    78399\n",
       "30204                              Google_Street_View    71580\n",
       "40798                         Image:Google_Chrome.png    60746\n",
       "35222                                      Googleplex    53848\n",
       "30530                                    Google_Video    51361\n",
       "30284                                     Google_Talk    50664\n",
       "28735                                    Google_Gears    33814\n",
       "29125                            Google_Lunar_X_Prize    33611\n",
       "45654                         List_of_Google_products    33596\n",
       "24312                                 Google's_hoaxes    31042\n",
       "40822                          Image:Google_Earth.png    30213\n",
       "28230                                  Google_Desktop    29775\n",
       "31675                                     Google_bomb    28630\n",
       "40703                                Image:Google.png    28530\n",
       "39303                                         IGoogle    24696\n",
       "30380                                  Google_Toolbar    24586\n",
       "40916  Image:Google_chrome_Maximized_screen_vista.png    23762\n",
       "38045                               History_of_Google    23508\n",
       "40710                            Image:Google1998.png    22899\n",
       "...\n",
       "\n",
       "[100 rows x 2 columns]"
      ]
     },
     "execution_count": 9,
     "metadata": {},
     "output_type": "execute_result"
    }
   ],
   "source": [
    "bq_df_sample[bq_df_sample.title.str.contains(r\"[Gg]oogle\")]\\\n",
    " .groupby(['title'], as_index=False)['views'].sum(numeric_only=True)\\\n",
    " .sort_values('views', ascending=False)\\\n",
    " .head(100)"
   ]
  },
  {
   "cell_type": "markdown",
   "metadata": {
    "id": "i6XV-HTN-IFF"
   },
   "source": [
    "In addition to giving you access to pandas, BigQuery DataFrames also enables you to build ML models, run inference, and deploy and run your own Python functions at scale. You'll see examples throughout this and other notebooks in this GitHub repo.\n",
    "\n",
    "Now you'll move to the smaller `penguins` dataset for the remainder of this getting started guide."
   ]
  },
  {
   "cell_type": "markdown",
   "metadata": {
    "id": "9EMAqR37AfLS"
   },
   "source": [
    "## Create a BigQuery DataFrames DataFrame\n",
    "\n",
    "You can create a BigQuery DataFrames DataFrame by reading data from any of the following locations:\n",
    "\n",
    "* A local data file\n",
    "* Data stored in a BigQuery table\n",
    "* A data file stored in Cloud Storage\n",
    "* An in-memory pandas DataFrame\n",
    "\n",
    "The following sections show how to use the first two options."
   ]
  },
  {
   "cell_type": "markdown",
   "metadata": {
    "id": "iZDjzglh9eWZ"
   },
   "source": [
    "### Create a DataFrame from a local file\n",
    "\n",
    "Use the instructions in the following sections to create a BigQuery DataFrames DataFrame from a local file.\n"
   ]
  },
  {
   "cell_type": "markdown",
   "metadata": {
    "id": "8Jry3NoFv3Wm"
   },
   "source": [
    "#### Get the CSV file\n",
    "\n",
    "First, copy and paste the following link into a new browser window to download the CSV file of the penguin data to your local machine:\n",
    "\n",
    "> http://storage.googleapis.com/cloud-samples-data/vertex-ai/bigframe/penguins.csv\n",
    "\n",
    "Next, upload the local CSV file to your notebook environment, using the relevant instructions for your environment:\n",
    "\n",
    "**Vertex AI Workbench or a local JupyterLab instance**\n",
    "\n",
    "1. Follow these [directions](https://jupyterlab.readthedocs.io/en/latest/user/files.html#uploading-and-downloading) to upload the file from your machine to your notebook environment by using the UI.\n",
    "2. set the variable `fn` to match the path to your file, and then run the cell."
   ]
  },
  {
   "cell_type": "code",
   "execution_count": 10,
   "metadata": {
    "id": "SvyXzkRl783u"
   },
   "outputs": [],
   "source": [
    "fn = 'penguins.csv'"
   ]
  },
  {
   "cell_type": "markdown",
   "metadata": {
    "id": "yqcuF1JNvFse"
   },
   "source": [
    "**Colab**\n",
    "\n",
    "Uncomment and run the following cell:"
   ]
  },
  {
   "cell_type": "code",
   "execution_count": 11,
   "metadata": {
    "id": "3QHQYlnoBLpt"
   },
   "outputs": [],
   "source": [
    "# from google.colab import files\n",
    "# uploaded = files.upload()\n",
    "# for fn in uploaded.keys():\n",
    "#  print('User uploaded file \"{name}\" with length {length} bytes'.format(\n",
    "#      name=fn, length=len(uploaded[fn])))"
   ]
  },
  {
   "cell_type": "markdown",
   "metadata": {
    "id": "sJsrwAQY_H6g"
   },
   "source": [
    "#### Create a DataFrame\n",
    "\n",
    "Create a BigQuery DataFrames DataFrame from the uploaded CSV file:"
   ]
  },
  {
   "cell_type": "code",
   "execution_count": 12,
   "metadata": {
    "id": "EDAaIwHpQCDZ"
   },
   "outputs": [
    {
     "data": {
      "text/html": [
       "Load job e7d846c7-2623-41b3-8943-83fc421ada46 is DONE. <a target=\"_blank\" href=\"https://console.cloud.google.com/bigquery?project=bqstackdemo&j=bq:US:e7d846c7-2623-41b3-8943-83fc421ada46&page=queryresults\">Open Job</a>"
      ],
      "text/plain": [
       "<IPython.core.display.HTML object>"
      ]
     },
     "metadata": {},
     "output_type": "display_data"
    }
   ],
   "source": [
    "df_from_local = bf.read_csv(fn)"
   ]
  },
  {
   "cell_type": "markdown",
   "metadata": {
    "id": "U-RVfNCu_h_h"
   },
   "source": [
    "Take a look at the first few rows of the DataFrame:"
   ]
  },
  {
   "cell_type": "code",
   "execution_count": 13,
   "metadata": {
    "id": "_gPD0Zn1Stdb"
   },
   "outputs": [
    {
     "data": {
      "text/html": [
       "Query job c0da98db-20a4-41df-8bb2-e7163b77ee0d is DONE. 2.8 kB processed. <a target=\"_blank\" href=\"https://console.cloud.google.com/bigquery?project=bqstackdemo&j=bq:US:c0da98db-20a4-41df-8bb2-e7163b77ee0d&page=queryresults\">Open Job</a>"
      ],
      "text/plain": [
       "<IPython.core.display.HTML object>"
      ]
     },
     "metadata": {},
     "output_type": "display_data"
    },
    {
     "data": {
      "text/html": [
       "Query job a9efb0e9-5ba1-4060-a239-111a7d9c8fa4 is DONE. 34.5 kB processed. <a target=\"_blank\" href=\"https://console.cloud.google.com/bigquery?project=bqstackdemo&j=bq:US:a9efb0e9-5ba1-4060-a239-111a7d9c8fa4&page=queryresults\">Open Job</a>"
      ],
      "text/plain": [
       "<IPython.core.display.HTML object>"
      ]
     },
     "metadata": {},
     "output_type": "display_data"
    },
    {
     "data": {
      "text/html": [
       "<div>\n",
       "<style scoped>\n",
       "    .dataframe tbody tr th:only-of-type {\n",
       "        vertical-align: middle;\n",
       "    }\n",
       "\n",
       "    .dataframe tbody tr th {\n",
       "        vertical-align: top;\n",
       "    }\n",
       "\n",
       "    .dataframe thead th {\n",
       "        text-align: right;\n",
       "    }\n",
       "</style>\n",
       "<table border=\"1\" class=\"dataframe\">\n",
       "  <thead>\n",
       "    <tr style=\"text-align: right;\">\n",
       "      <th></th>\n",
       "      <th>species</th>\n",
       "      <th>island</th>\n",
       "      <th>culmen_length_mm</th>\n",
       "      <th>culmen_depth_mm</th>\n",
       "      <th>flipper_length_mm</th>\n",
       "      <th>body_mass_g</th>\n",
       "      <th>sex</th>\n",
       "    </tr>\n",
       "  </thead>\n",
       "  <tbody>\n",
       "    <tr>\n",
       "      <th>0</th>\n",
       "      <td>Adelie Penguin (Pygoscelis adeliae)</td>\n",
       "      <td>Dream</td>\n",
       "      <td>36.6</td>\n",
       "      <td>18.4</td>\n",
       "      <td>184.0</td>\n",
       "      <td>3475.0</td>\n",
       "      <td>FEMALE</td>\n",
       "    </tr>\n",
       "    <tr>\n",
       "      <th>1</th>\n",
       "      <td>Adelie Penguin (Pygoscelis adeliae)</td>\n",
       "      <td>Dream</td>\n",
       "      <td>39.8</td>\n",
       "      <td>19.1</td>\n",
       "      <td>184.0</td>\n",
       "      <td>4650.0</td>\n",
       "      <td>MALE</td>\n",
       "    </tr>\n",
       "    <tr>\n",
       "      <th>2</th>\n",
       "      <td>Adelie Penguin (Pygoscelis adeliae)</td>\n",
       "      <td>Dream</td>\n",
       "      <td>40.9</td>\n",
       "      <td>18.9</td>\n",
       "      <td>184.0</td>\n",
       "      <td>3900.0</td>\n",
       "      <td>MALE</td>\n",
       "    </tr>\n",
       "    <tr>\n",
       "      <th>3</th>\n",
       "      <td>Chinstrap penguin (Pygoscelis antarctica)</td>\n",
       "      <td>Dream</td>\n",
       "      <td>46.5</td>\n",
       "      <td>17.9</td>\n",
       "      <td>192.0</td>\n",
       "      <td>3500.0</td>\n",
       "      <td>FEMALE</td>\n",
       "    </tr>\n",
       "    <tr>\n",
       "      <th>4</th>\n",
       "      <td>Adelie Penguin (Pygoscelis adeliae)</td>\n",
       "      <td>Dream</td>\n",
       "      <td>37.3</td>\n",
       "      <td>16.8</td>\n",
       "      <td>192.0</td>\n",
       "      <td>3000.0</td>\n",
       "      <td>FEMALE</td>\n",
       "    </tr>\n",
       "  </tbody>\n",
       "</table>\n",
       "<p>5 rows × 7 columns</p>\n",
       "</div>[5 rows x 7 columns in total]"
      ],
      "text/plain": [
       "                                     species island  culmen_length_mm  \\\n",
       "0        Adelie Penguin (Pygoscelis adeliae)  Dream              36.6   \n",
       "1        Adelie Penguin (Pygoscelis adeliae)  Dream              39.8   \n",
       "2        Adelie Penguin (Pygoscelis adeliae)  Dream              40.9   \n",
       "3  Chinstrap penguin (Pygoscelis antarctica)  Dream              46.5   \n",
       "4        Adelie Penguin (Pygoscelis adeliae)  Dream              37.3   \n",
       "\n",
       "   culmen_depth_mm  flipper_length_mm  body_mass_g     sex  \n",
       "0             18.4              184.0       3475.0  FEMALE  \n",
       "1             19.1              184.0       4650.0    MALE  \n",
       "2             18.9              184.0       3900.0    MALE  \n",
       "3             17.9              192.0       3500.0  FEMALE  \n",
       "4             16.8              192.0       3000.0  FEMALE  \n",
       "\n",
       "[5 rows x 7 columns]"
      ]
     },
     "execution_count": 13,
     "metadata": {},
     "output_type": "execute_result"
    }
   ],
   "source": [
    "df_from_local.head()"
   ]
  },
  {
   "cell_type": "markdown",
   "metadata": {
    "id": "rK0lNJmz_xkA"
   },
   "source": [
    "### Ingest data from a DataFrame to a BigQuery table\n",
    "\n",
    "BigQuery DataFrames lets you create a BigQuery table from a BigQuery DataFrames DataFrame on-the-fly."
   ]
  },
  {
   "cell_type": "markdown",
   "metadata": {
    "id": "V1DWpmSCAEql"
   },
   "source": [
    "First, create a BigQuery dataset to house the table. Choose a name for your dataset, or keep the suggestion of `birds`."
   ]
  },
  {
   "cell_type": "code",
   "execution_count": 14,
   "metadata": {
    "id": "ZSP7gt13QrQt"
   },
   "outputs": [
    {
     "name": "stdout",
     "output_type": "stream",
     "text": [
      "Dataset birds created.\n"
     ]
    }
   ],
   "source": [
    "DATASET_ID = \"birds\"  # @param {type:\"string\"}\n",
    "\n",
    "from google.cloud import bigquery\n",
    "client = bigquery.Client(project=PROJECT_ID)\n",
    "dataset = bigquery.Dataset(PROJECT_ID + \".\" + DATASET_ID)\n",
    "dataset.location = REGION\n",
    "dataset = client.create_dataset(dataset, exists_ok=True)\n",
    "print(f\"Dataset {dataset.dataset_id} created.\")"
   ]
  },
  {
   "cell_type": "markdown",
   "metadata": {
    "id": "Jd0dFISwAPPa"
   },
   "source": [
    "Next, use the `to_gbq` method to create a BigQuery table from the DataFrame:"
   ]
  },
  {
   "cell_type": "code",
   "execution_count": 15,
   "metadata": {
    "id": "oP1NIAmUBjop"
   },
   "outputs": [
    {
     "data": {
      "text/html": [
       "Query job 3d1bd16a-1728-4acd-9d8c-dc7c7736c792 is DONE. 28.9 kB processed. <a target=\"_blank\" href=\"https://console.cloud.google.com/bigquery?project=bqstackdemo&j=bq:US:3d1bd16a-1728-4acd-9d8c-dc7c7736c792&page=queryresults\">Open Job</a>"
      ],
      "text/plain": [
       "<IPython.core.display.HTML object>"
      ]
     },
     "metadata": {},
     "output_type": "display_data"
    },
    {
     "data": {
      "text/plain": [
       "'bqstackdemo.birds.penguins'"
      ]
     },
     "execution_count": 15,
     "metadata": {},
     "output_type": "execute_result"
    }
   ],
   "source": [
    "df_from_local.to_gbq(PROJECT_ID + \".\" + DATASET_ID + \".penguins\")"
   ]
  },
  {
   "cell_type": "markdown",
   "metadata": {
    "id": "kfF6fnmmAZEK"
   },
   "source": [
    "### Create a DataFrame from BigQuery data\n",
    "You can create a BigQuery DataFrames DataFrame from a BigQuery table by using the `read_gbq` method and referencing either an entire table or a SQL query."
   ]
  },
  {
   "cell_type": "markdown",
   "metadata": {
    "id": "TEy5jHJDD6hx"
   },
   "source": [
    "Create a BigQuery DataFrames DataFrame from the BigQuery table you created in the previous section, and view a few rows:"
   ]
  },
  {
   "cell_type": "code",
   "execution_count": 16,
   "metadata": {
    "id": "IBuo-d6dWfsA"
   },
   "outputs": [
    {
     "data": {
      "text/html": [
       "Query job d1e87ef9-6c6b-489a-89de-a3ce32ddbc66 is DONE. 28.9 kB processed. <a target=\"_blank\" href=\"https://console.cloud.google.com/bigquery?project=bqstackdemo&j=bq:US:d1e87ef9-6c6b-489a-89de-a3ce32ddbc66&page=queryresults\">Open Job</a>"
      ],
      "text/plain": [
       "<IPython.core.display.HTML object>"
      ]
     },
     "metadata": {},
     "output_type": "display_data"
    },
    {
     "data": {
      "text/html": [
       "Query job 540edd70-f0a6-43a1-ae73-68ef2c9663d0 is DONE. 28.9 kB processed. <a target=\"_blank\" href=\"https://console.cloud.google.com/bigquery?project=bqstackdemo&j=bq:US:540edd70-f0a6-43a1-ae73-68ef2c9663d0&page=queryresults\">Open Job</a>"
      ],
      "text/plain": [
       "<IPython.core.display.HTML object>"
      ]
     },
     "metadata": {},
     "output_type": "display_data"
    },
    {
     "data": {
      "text/html": [
       "<div>\n",
       "<style scoped>\n",
       "    .dataframe tbody tr th:only-of-type {\n",
       "        vertical-align: middle;\n",
       "    }\n",
       "\n",
       "    .dataframe tbody tr th {\n",
       "        vertical-align: top;\n",
       "    }\n",
       "\n",
       "    .dataframe thead th {\n",
       "        text-align: right;\n",
       "    }\n",
       "</style>\n",
       "<table border=\"1\" class=\"dataframe\">\n",
       "  <thead>\n",
       "    <tr style=\"text-align: right;\">\n",
       "      <th></th>\n",
       "      <th>species</th>\n",
       "      <th>island</th>\n",
       "      <th>culmen_length_mm</th>\n",
       "      <th>culmen_depth_mm</th>\n",
       "      <th>flipper_length_mm</th>\n",
       "      <th>body_mass_g</th>\n",
       "      <th>sex</th>\n",
       "    </tr>\n",
       "  </thead>\n",
       "  <tbody>\n",
       "    <tr>\n",
       "      <th>0</th>\n",
       "      <td>Gentoo penguin (Pygoscelis papua)</td>\n",
       "      <td>Biscoe</td>\n",
       "      <td>50.5</td>\n",
       "      <td>15.9</td>\n",
       "      <td>225.0</td>\n",
       "      <td>5400.0</td>\n",
       "      <td>MALE</td>\n",
       "    </tr>\n",
       "    <tr>\n",
       "      <th>1</th>\n",
       "      <td>Gentoo penguin (Pygoscelis papua)</td>\n",
       "      <td>Biscoe</td>\n",
       "      <td>45.1</td>\n",
       "      <td>14.5</td>\n",
       "      <td>215.0</td>\n",
       "      <td>5000.0</td>\n",
       "      <td>FEMALE</td>\n",
       "    </tr>\n",
       "    <tr>\n",
       "      <th>2</th>\n",
       "      <td>Adelie Penguin (Pygoscelis adeliae)</td>\n",
       "      <td>Torgersen</td>\n",
       "      <td>41.4</td>\n",
       "      <td>18.5</td>\n",
       "      <td>202.0</td>\n",
       "      <td>3875.0</td>\n",
       "      <td>MALE</td>\n",
       "    </tr>\n",
       "    <tr>\n",
       "      <th>3</th>\n",
       "      <td>Adelie Penguin (Pygoscelis adeliae)</td>\n",
       "      <td>Torgersen</td>\n",
       "      <td>38.6</td>\n",
       "      <td>17.0</td>\n",
       "      <td>188.0</td>\n",
       "      <td>2900.0</td>\n",
       "      <td>FEMALE</td>\n",
       "    </tr>\n",
       "    <tr>\n",
       "      <th>4</th>\n",
       "      <td>Gentoo penguin (Pygoscelis papua)</td>\n",
       "      <td>Biscoe</td>\n",
       "      <td>46.5</td>\n",
       "      <td>14.8</td>\n",
       "      <td>217.0</td>\n",
       "      <td>5200.0</td>\n",
       "      <td>FEMALE</td>\n",
       "    </tr>\n",
       "  </tbody>\n",
       "</table>\n",
       "<p>5 rows × 7 columns</p>\n",
       "</div>[5 rows x 7 columns in total]"
      ],
      "text/plain": [
       "                               species     island  culmen_length_mm  \\\n",
       "0    Gentoo penguin (Pygoscelis papua)     Biscoe              50.5   \n",
       "1    Gentoo penguin (Pygoscelis papua)     Biscoe              45.1   \n",
       "2  Adelie Penguin (Pygoscelis adeliae)  Torgersen              41.4   \n",
       "3  Adelie Penguin (Pygoscelis adeliae)  Torgersen              38.6   \n",
       "4    Gentoo penguin (Pygoscelis papua)     Biscoe              46.5   \n",
       "\n",
       "   culmen_depth_mm  flipper_length_mm  body_mass_g     sex  \n",
       "0             15.9              225.0       5400.0    MALE  \n",
       "1             14.5              215.0       5000.0  FEMALE  \n",
       "2             18.5              202.0       3875.0    MALE  \n",
       "3             17.0              188.0       2900.0  FEMALE  \n",
       "4             14.8              217.0       5200.0  FEMALE  \n",
       "\n",
       "[5 rows x 7 columns]"
      ]
     },
     "execution_count": 16,
     "metadata": {},
     "output_type": "execute_result"
    }
   ],
   "source": [
    "query_or_table = f\"\"\"{PROJECT_ID}.{DATASET_ID}.penguins\"\"\"\n",
    "bq_df = bf.read_gbq(query_or_table)\n",
    "bq_df.head()"
   ]
  },
  {
   "cell_type": "markdown",
   "metadata": {
    "id": "rwPLjqW2Ajzh"
   },
   "source": [
    "## Inspect and manipulate data in BigQuery DataFrames"
   ]
  },
  {
   "cell_type": "markdown",
   "metadata": {
    "id": "bExmYlL_ELtV"
   },
   "source": [
    "### Using pandas\n",
    "\n",
    "You can use pandas as you normally would on the BigQuery DataFrames DataFrame, but calculations happen in the BigQuery query engine instead of your local environment. There are 150+ pandas functions supported in BigQuery DataFrames. You can view the list in [the documentation](https://cloud.google.com/python/docs/reference/bigframes/latest)."
   ]
  },
  {
   "cell_type": "markdown",
   "metadata": {
    "id": "ZHFUc3Q_FHc1"
   },
   "source": [
    "To see this in action, inspect one of the columns (or series) of the BigQuery DataFrames DataFrame:"
   ]
  },
  {
   "cell_type": "code",
   "execution_count": 17,
   "metadata": {
    "id": "6i6HkFJZa8na"
   },
   "outputs": [
    {
     "data": {
      "text/html": [
       "Query job 4a7a89ee-f312-4560-89f8-cfc1a8290357 is DONE. 28.9 kB processed. <a target=\"_blank\" href=\"https://console.cloud.google.com/bigquery?project=bqstackdemo&j=bq:US:4a7a89ee-f312-4560-89f8-cfc1a8290357&page=queryresults\">Open Job</a>"
      ],
      "text/plain": [
       "<IPython.core.display.HTML object>"
      ]
     },
     "metadata": {},
     "output_type": "display_data"
    },
    {
     "data": {
      "text/html": [
       "Query job f3fb45fc-c298-4bbc-89bd-e5e2a63c036b is DONE. 28.9 kB processed. <a target=\"_blank\" href=\"https://console.cloud.google.com/bigquery?project=bqstackdemo&j=bq:US:f3fb45fc-c298-4bbc-89bd-e5e2a63c036b&page=queryresults\">Open Job</a>"
      ],
      "text/plain": [
       "<IPython.core.display.HTML object>"
      ]
     },
     "metadata": {},
     "output_type": "display_data"
    },
    {
     "data": {
      "text/plain": [
       "0    5400.0\n",
       "1    5000.0\n",
       "2    3875.0\n",
       "3    2900.0\n",
       "4    5200.0\n",
       "5    3725.0\n",
       "6    2975.0\n",
       "7    4150.0\n",
       "8    5300.0\n",
       "9    4150.0\n",
       "Name: body_mass_g, dtype: Float64"
      ]
     },
     "execution_count": 17,
     "metadata": {},
     "output_type": "execute_result"
    }
   ],
   "source": [
    "bq_df[\"body_mass_g\"].head(10)"
   ]
  },
  {
   "cell_type": "markdown",
   "metadata": {
    "id": "EJIZJaNXFQzh"
   },
   "source": [
    "Compute the mean of this series:"
   ]
  },
  {
   "cell_type": "code",
   "execution_count": 20,
   "metadata": {
    "id": "YKwCW7Nsavap"
   },
   "outputs": [
    {
     "data": {
      "text/html": [
       "Query job d192fa6d-f3f7-4f45-8ce9-81f038621f6a is DONE. 2.7 kB processed. <a target=\"_blank\" href=\"https://console.cloud.google.com/bigquery?project=bqstackdemo&j=bq:US:d192fa6d-f3f7-4f45-8ce9-81f038621f6a&page=queryresults\">Open Job</a>"
      ],
      "text/plain": [
       "<IPython.core.display.HTML object>"
      ]
     },
     "metadata": {},
     "output_type": "display_data"
    },
    {
     "name": "stdout",
     "output_type": "stream",
     "text": [
      "average_body_mass: 4201.75438596491\n"
     ]
    }
   ],
   "source": [
    "average_body_mass = bq_df[\"body_mass_g\"].mean()\n",
    "print(f\"average_body_mass: {average_body_mass}\")"
   ]
  },
  {
   "cell_type": "markdown",
   "metadata": {
    "id": "6sf9kZ2C9Ixe"
   },
   "source": [
    "You can confirm that the calculations were run in BigQuery by clicking \"Open job\" from the previous cells' output. This takes you to the BigQuery console to view the SQL statement and job details."
   ]
  },
  {
   "cell_type": "markdown",
   "metadata": {
    "id": "wCsmt0IwFkDy"
   },
   "source": [
    "## Summary and next steps\n",
    "\n",
    "You've created BigQuery DataFrames DataFrames, and inspected and manipulated data with pandas and custom remote functions at BigQuery scale and speed.\n",
    "\n",
    "Learn more about BigQuery DataFrames in the [documentation](https://cloud.google.com/python/docs/reference/bigframes/latest) and find more sample notebooks in the [GitHub repo](https://github.com/googleapis/python-bigquery-dataframes/tree/main/notebooks), including an introductory notebook for `bigframes.ml`."
   ]
  },
  {
   "cell_type": "markdown",
   "metadata": {
    "id": "TpV-iwP9qw9c"
   },
   "source": [
    "### Cleaning up\n",
    "\n",
    "To clean up all Google Cloud resources used in this project, you can [delete the Google Cloud\n",
    "project](https://cloud.google.com/resource-manager/docs/creating-managing-projects#shutting_down_projects) you used for the tutorial.\n",
    "\n",
    "Otherwise, you can uncomment the remaining cells and run them to delete the individual resources you created in this tutorial:"
   ]
  },
  {
   "cell_type": "code",
   "execution_count": null,
   "metadata": {
    "id": "sx_vKniMq9ZX"
   },
   "outputs": [],
   "source": [
    "# # Delete the BigQuery dataset\n",
    "# from google.cloud import bigquery\n",
    "# client = bigquery.Client(project=PROJECT_ID)\n",
    "# client.delete_dataset(\n",
    "#  DATASET_ID, delete_contents=True, not_found_ok=True\n",
    "# )\n",
    "# print(\"Deleted dataset '{}'.\".format(DATASET_ID))"
   ]
  },
  {
   "cell_type": "code",
   "execution_count": null,
   "metadata": {
    "id": "_dTCXvCxtPw9"
   },
   "outputs": [],
   "source": [
    "# # Delete the BigQuery Connection\n",
    "# from google.cloud import bigquery_connection_v1 as bq_connection\n",
    "# client = bq_connection.ConnectionServiceClient()\n",
    "# CONNECTION_ID = f\"projects/{PROJECT_ID}/locations/{REGION}/connections/bigframes-rf-conn\"\n",
    "# client.delete_connection(name=CONNECTION_ID)\n",
    "# print(\"Deleted connection '{}'.\".format(CONNECTION_ID))"
   ]
  },
  {
   "cell_type": "code",
   "execution_count": null,
   "metadata": {
    "id": "EDAIIfcpwNOF"
   },
   "outputs": [],
   "source": [
    "# # Delete the Cloud Function\n",
    "# ! gcloud functions delete {CLOUD_FUNCTION_NAME} --quiet"
   ]
  },
  {
   "cell_type": "code",
   "execution_count": null,
   "metadata": {
    "id": "QwumLUKmVpuH"
   },
   "outputs": [],
   "source": [
    "# # Delete the Remote Function\n",
    "# REMOTE_FUNCTION_NAME = REMOTE_FUNCTION_NAME.replace(PROJECT_ID + \".\", \"\")\n",
    "# ! bq rm --routine --force=true {REMOTE_FUNCTION_NAME}"
   ]
  }
 ],
 "metadata": {
  "colab": {
   "provenance": [],
   "toc_visible": true
  },
  "environment": {
   "kernel": "python3",
   "name": "common-cpu.m111",
   "type": "gcloud",
   "uri": "gcr.io/deeplearning-platform-release/base-cpu:m111"
  },
  "kernelspec": {
   "display_name": "Python 3",
   "language": "python",
   "name": "python3"
  },
  "language_info": {
   "codemirror_mode": {
    "name": "ipython",
    "version": 3
   },
   "file_extension": ".py",
   "mimetype": "text/x-python",
   "name": "python",
   "nbconvert_exporter": "python",
   "pygments_lexer": "ipython3",
   "version": "3.10.12"
  }
 },
 "nbformat": 4,
 "nbformat_minor": 4
}
